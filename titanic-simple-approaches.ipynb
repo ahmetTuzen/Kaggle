{
 "cells": [
  {
   "cell_type": "markdown",
   "id": "62b69de9",
   "metadata": {
    "papermill": {
     "duration": 0.027605,
     "end_time": "2023-08-27T13:32:03.420511",
     "exception": false,
     "start_time": "2023-08-27T13:32:03.392906",
     "status": "completed"
    },
    "tags": []
   },
   "source": [
    "# Introduction\n",
    "\n",
    "This is my take of Titanic dataset.\n",
    "\n",
    "Table of contents:\n",
    "1. [Processing & data analysis](#1)\n",
    "    1. [Load & check data](#1.1)\n",
    "    1. [Visualization](#1.3)\n",
    "    1. [Variable analysis](#1.2)\n",
    "    1. [Statistical outlier detection](#1.4)\n",
    "    1. [Missing values](#1.5)\n",
    "        1. [Embarked](#1.5.1)\n",
    "        1. [Fare](#1.5.2)\n",
    "        1. [Age](#1.5.3)\n",
    "    1. [Correlations](#1.6)\n",
    "        1. [Feature Engineering](#1.6.1)\n",
    "1. [Machine learning approach](#2)\n",
    "    1. [Random forest classification](#2.1)\n",
    "    1. [Logistic regression](#2.2)\n",
    "    1. [Decision Tree](#2.3)\n",
    "1. [Deep learning approach](#3)\n",
    "    1. [2-layered ANN](#3.1)\n",
    "1. [Submission](#4)\n",
    "    1. [Machine learning](#4.1)\n",
    "    1. [Deep learning](#4.2)"
   ]
  },
  {
   "cell_type": "code",
   "execution_count": 1,
   "id": "9f2232b6",
   "metadata": {
    "_cell_guid": "b1076dfc-b9ad-4769-8c92-a6c4dae69d19",
    "_uuid": "8f2839f25d086af736a60e9eeb907d3b93b6e0e5",
    "execution": {
     "iopub.execute_input": "2023-08-27T13:32:03.475019Z",
     "iopub.status.busy": "2023-08-27T13:32:03.474567Z",
     "iopub.status.idle": "2023-08-27T13:32:05.415283Z",
     "shell.execute_reply": "2023-08-27T13:32:05.413498Z"
    },
    "papermill": {
     "duration": 1.972854,
     "end_time": "2023-08-27T13:32:05.419480",
     "exception": false,
     "start_time": "2023-08-27T13:32:03.446626",
     "status": "completed"
    },
    "tags": []
   },
   "outputs": [
    {
     "name": "stderr",
     "output_type": "stream",
     "text": [
      "/opt/conda/lib/python3.10/site-packages/scipy/__init__.py:146: UserWarning: A NumPy version >=1.16.5 and <1.23.0 is required for this version of SciPy (detected version 1.23.5\n",
      "  warnings.warn(f\"A NumPy version >={np_minversion} and <{np_maxversion}\"\n"
     ]
    },
    {
     "name": "stdout",
     "output_type": "stream",
     "text": [
      "/kaggle/input/titanic/train.csv\n",
      "/kaggle/input/titanic/test.csv\n",
      "/kaggle/input/titanic/gender_submission.csv\n"
     ]
    }
   ],
   "source": [
    "import numpy as np # linear algebra\n",
    "import pandas as pd # data processing, CSV file I/O (e.g. pd.read_csv)\n",
    "\n",
    "import matplotlib.pyplot as plt\n",
    "import seaborn as sns\n",
    "\n",
    "plt.style.use('ggplot')\n",
    "\n",
    "import warnings\n",
    "warnings.filterwarnings(\"ignore\")\n",
    "# add these two last\n",
    "\n",
    "import os\n",
    "for dirname, _, filenames in os.walk('/kaggle/input'):\n",
    "    for filename in filenames:\n",
    "        print(os.path.join(dirname, filename))"
   ]
  },
  {
   "cell_type": "markdown",
   "id": "22c82586",
   "metadata": {
    "papermill": {
     "duration": 0.026073,
     "end_time": "2023-08-27T13:32:05.473520",
     "exception": false,
     "start_time": "2023-08-27T13:32:05.447447",
     "status": "completed"
    },
    "tags": []
   },
   "source": [
    "## Preprocessing & data analysis <a id = \"1\"></a>\n",
    "\n",
    "### Load & check data<a id = \"1.1\"></a>"
   ]
  },
  {
   "cell_type": "code",
   "execution_count": 2,
   "id": "56527bc2",
   "metadata": {
    "execution": {
     "iopub.execute_input": "2023-08-27T13:32:05.528422Z",
     "iopub.status.busy": "2023-08-27T13:32:05.527911Z",
     "iopub.status.idle": "2023-08-27T13:32:05.580329Z",
     "shell.execute_reply": "2023-08-27T13:32:05.578965Z"
    },
    "papermill": {
     "duration": 0.084253,
     "end_time": "2023-08-27T13:32:05.583472",
     "exception": false,
     "start_time": "2023-08-27T13:32:05.499219",
     "status": "completed"
    },
    "tags": []
   },
   "outputs": [],
   "source": [
    "train = pd.read_csv(\"/kaggle/input/titanic/train.csv\")\n",
    "test = pd.read_csv(\"/kaggle/input/titanic/test.csv\")\n",
    "\n",
    "all_data = pd.concat([train, test], axis=0).reset_index(drop=True)"
   ]
  },
  {
   "cell_type": "code",
   "execution_count": 3,
   "id": "36fcb95b",
   "metadata": {
    "execution": {
     "iopub.execute_input": "2023-08-27T13:32:05.638428Z",
     "iopub.status.busy": "2023-08-27T13:32:05.637982Z",
     "iopub.status.idle": "2023-08-27T13:32:05.695270Z",
     "shell.execute_reply": "2023-08-27T13:32:05.692413Z"
    },
    "papermill": {
     "duration": 0.088938,
     "end_time": "2023-08-27T13:32:05.698656",
     "exception": false,
     "start_time": "2023-08-27T13:32:05.609718",
     "status": "completed"
    },
    "tags": []
   },
   "outputs": [
    {
     "name": "stdout",
     "output_type": "stream",
     "text": [
      "<class 'pandas.core.frame.DataFrame'>\n",
      "RangeIndex: 1309 entries, 0 to 1308\n",
      "Data columns (total 12 columns):\n",
      " #   Column       Non-Null Count  Dtype  \n",
      "---  ------       --------------  -----  \n",
      " 0   PassengerId  1309 non-null   int64  \n",
      " 1   Survived     891 non-null    float64\n",
      " 2   Pclass       1309 non-null   int64  \n",
      " 3   Name         1309 non-null   object \n",
      " 4   Sex          1309 non-null   object \n",
      " 5   Age          1046 non-null   float64\n",
      " 6   SibSp        1309 non-null   int64  \n",
      " 7   Parch        1309 non-null   int64  \n",
      " 8   Ticket       1309 non-null   object \n",
      " 9   Fare         1308 non-null   float64\n",
      " 10  Cabin        295 non-null    object \n",
      " 11  Embarked     1307 non-null   object \n",
      "dtypes: float64(3), int64(4), object(5)\n",
      "memory usage: 122.8+ KB\n",
      "None\n",
      "<class 'pandas.core.frame.DataFrame'>\n",
      "RangeIndex: 891 entries, 0 to 890\n",
      "Data columns (total 12 columns):\n",
      " #   Column       Non-Null Count  Dtype  \n",
      "---  ------       --------------  -----  \n",
      " 0   PassengerId  891 non-null    int64  \n",
      " 1   Survived     891 non-null    int64  \n",
      " 2   Pclass       891 non-null    int64  \n",
      " 3   Name         891 non-null    object \n",
      " 4   Sex          891 non-null    object \n",
      " 5   Age          714 non-null    float64\n",
      " 6   SibSp        891 non-null    int64  \n",
      " 7   Parch        891 non-null    int64  \n",
      " 8   Ticket       891 non-null    object \n",
      " 9   Fare         891 non-null    float64\n",
      " 10  Cabin        204 non-null    object \n",
      " 11  Embarked     889 non-null    object \n",
      "dtypes: float64(2), int64(5), object(5)\n",
      "memory usage: 83.7+ KB\n",
      "None\n",
      "<class 'pandas.core.frame.DataFrame'>\n",
      "RangeIndex: 418 entries, 0 to 417\n",
      "Data columns (total 11 columns):\n",
      " #   Column       Non-Null Count  Dtype  \n",
      "---  ------       --------------  -----  \n",
      " 0   PassengerId  418 non-null    int64  \n",
      " 1   Pclass       418 non-null    int64  \n",
      " 2   Name         418 non-null    object \n",
      " 3   Sex          418 non-null    object \n",
      " 4   Age          332 non-null    float64\n",
      " 5   SibSp        418 non-null    int64  \n",
      " 6   Parch        418 non-null    int64  \n",
      " 7   Ticket       418 non-null    object \n",
      " 8   Fare         417 non-null    float64\n",
      " 9   Cabin        91 non-null     object \n",
      " 10  Embarked     418 non-null    object \n",
      "dtypes: float64(2), int64(4), object(5)\n",
      "memory usage: 36.0+ KB\n",
      "None\n"
     ]
    }
   ],
   "source": [
    "print(all_data.info()) # 11 cols x 1309 rows total\n",
    "\n",
    "print(train.info()) # 11 cols x 891 rows total\n",
    "\n",
    "print(test.info()) # 10 cols x 418 rows total (no survival [y], for obvious reasons)"
   ]
  },
  {
   "cell_type": "code",
   "execution_count": 4,
   "id": "e2fa203b",
   "metadata": {
    "execution": {
     "iopub.execute_input": "2023-08-27T13:32:05.759198Z",
     "iopub.status.busy": "2023-08-27T13:32:05.758732Z",
     "iopub.status.idle": "2023-08-27T13:32:05.786259Z",
     "shell.execute_reply": "2023-08-27T13:32:05.784162Z"
    },
    "papermill": {
     "duration": 0.061572,
     "end_time": "2023-08-27T13:32:05.789224",
     "exception": false,
     "start_time": "2023-08-27T13:32:05.727652",
     "status": "completed"
    },
    "tags": []
   },
   "outputs": [
    {
     "data": {
      "text/html": [
       "<div>\n",
       "<style scoped>\n",
       "    .dataframe tbody tr th:only-of-type {\n",
       "        vertical-align: middle;\n",
       "    }\n",
       "\n",
       "    .dataframe tbody tr th {\n",
       "        vertical-align: top;\n",
       "    }\n",
       "\n",
       "    .dataframe thead th {\n",
       "        text-align: right;\n",
       "    }\n",
       "</style>\n",
       "<table border=\"1\" class=\"dataframe\">\n",
       "  <thead>\n",
       "    <tr style=\"text-align: right;\">\n",
       "      <th></th>\n",
       "      <th>PassengerId</th>\n",
       "      <th>Survived</th>\n",
       "      <th>Pclass</th>\n",
       "      <th>Name</th>\n",
       "      <th>Sex</th>\n",
       "      <th>Age</th>\n",
       "      <th>SibSp</th>\n",
       "      <th>Parch</th>\n",
       "      <th>Ticket</th>\n",
       "      <th>Fare</th>\n",
       "      <th>Cabin</th>\n",
       "      <th>Embarked</th>\n",
       "    </tr>\n",
       "  </thead>\n",
       "  <tbody>\n",
       "    <tr>\n",
       "      <th>0</th>\n",
       "      <td>1</td>\n",
       "      <td>0</td>\n",
       "      <td>3</td>\n",
       "      <td>Braund, Mr. Owen Harris</td>\n",
       "      <td>male</td>\n",
       "      <td>22.0</td>\n",
       "      <td>1</td>\n",
       "      <td>0</td>\n",
       "      <td>A/5 21171</td>\n",
       "      <td>7.2500</td>\n",
       "      <td>NaN</td>\n",
       "      <td>S</td>\n",
       "    </tr>\n",
       "    <tr>\n",
       "      <th>1</th>\n",
       "      <td>2</td>\n",
       "      <td>1</td>\n",
       "      <td>1</td>\n",
       "      <td>Cumings, Mrs. John Bradley (Florence Briggs Th...</td>\n",
       "      <td>female</td>\n",
       "      <td>38.0</td>\n",
       "      <td>1</td>\n",
       "      <td>0</td>\n",
       "      <td>PC 17599</td>\n",
       "      <td>71.2833</td>\n",
       "      <td>C85</td>\n",
       "      <td>C</td>\n",
       "    </tr>\n",
       "    <tr>\n",
       "      <th>2</th>\n",
       "      <td>3</td>\n",
       "      <td>1</td>\n",
       "      <td>3</td>\n",
       "      <td>Heikkinen, Miss. Laina</td>\n",
       "      <td>female</td>\n",
       "      <td>26.0</td>\n",
       "      <td>0</td>\n",
       "      <td>0</td>\n",
       "      <td>STON/O2. 3101282</td>\n",
       "      <td>7.9250</td>\n",
       "      <td>NaN</td>\n",
       "      <td>S</td>\n",
       "    </tr>\n",
       "    <tr>\n",
       "      <th>3</th>\n",
       "      <td>4</td>\n",
       "      <td>1</td>\n",
       "      <td>1</td>\n",
       "      <td>Futrelle, Mrs. Jacques Heath (Lily May Peel)</td>\n",
       "      <td>female</td>\n",
       "      <td>35.0</td>\n",
       "      <td>1</td>\n",
       "      <td>0</td>\n",
       "      <td>113803</td>\n",
       "      <td>53.1000</td>\n",
       "      <td>C123</td>\n",
       "      <td>S</td>\n",
       "    </tr>\n",
       "    <tr>\n",
       "      <th>4</th>\n",
       "      <td>5</td>\n",
       "      <td>0</td>\n",
       "      <td>3</td>\n",
       "      <td>Allen, Mr. William Henry</td>\n",
       "      <td>male</td>\n",
       "      <td>35.0</td>\n",
       "      <td>0</td>\n",
       "      <td>0</td>\n",
       "      <td>373450</td>\n",
       "      <td>8.0500</td>\n",
       "      <td>NaN</td>\n",
       "      <td>S</td>\n",
       "    </tr>\n",
       "  </tbody>\n",
       "</table>\n",
       "</div>"
      ],
      "text/plain": [
       "   PassengerId  Survived  Pclass  \\\n",
       "0            1         0       3   \n",
       "1            2         1       1   \n",
       "2            3         1       3   \n",
       "3            4         1       1   \n",
       "4            5         0       3   \n",
       "\n",
       "                                                Name     Sex   Age  SibSp  \\\n",
       "0                            Braund, Mr. Owen Harris    male  22.0      1   \n",
       "1  Cumings, Mrs. John Bradley (Florence Briggs Th...  female  38.0      1   \n",
       "2                             Heikkinen, Miss. Laina  female  26.0      0   \n",
       "3       Futrelle, Mrs. Jacques Heath (Lily May Peel)  female  35.0      1   \n",
       "4                           Allen, Mr. William Henry    male  35.0      0   \n",
       "\n",
       "   Parch            Ticket     Fare Cabin Embarked  \n",
       "0      0         A/5 21171   7.2500   NaN        S  \n",
       "1      0          PC 17599  71.2833   C85        C  \n",
       "2      0  STON/O2. 3101282   7.9250   NaN        S  \n",
       "3      0            113803  53.1000  C123        S  \n",
       "4      0            373450   8.0500   NaN        S  "
      ]
     },
     "execution_count": 4,
     "metadata": {},
     "output_type": "execute_result"
    }
   ],
   "source": [
    "train.head()"
   ]
  },
  {
   "cell_type": "code",
   "execution_count": 5,
   "id": "509432e0",
   "metadata": {
    "execution": {
     "iopub.execute_input": "2023-08-27T13:32:05.850458Z",
     "iopub.status.busy": "2023-08-27T13:32:05.849928Z",
     "iopub.status.idle": "2023-08-27T13:32:05.858857Z",
     "shell.execute_reply": "2023-08-27T13:32:05.857408Z"
    },
    "papermill": {
     "duration": 0.041473,
     "end_time": "2023-08-27T13:32:05.861581",
     "exception": false,
     "start_time": "2023-08-27T13:32:05.820108",
     "status": "completed"
    },
    "tags": []
   },
   "outputs": [
    {
     "data": {
      "text/plain": [
       "Index(['PassengerId', 'Survived', 'Pclass', 'Name', 'Sex', 'Age', 'SibSp',\n",
       "       'Parch', 'Ticket', 'Fare', 'Cabin', 'Embarked'],\n",
       "      dtype='object')"
      ]
     },
     "execution_count": 5,
     "metadata": {},
     "output_type": "execute_result"
    }
   ],
   "source": [
    "train.columns"
   ]
  },
  {
   "cell_type": "markdown",
   "id": "5080e237",
   "metadata": {
    "papermill": {
     "duration": 0.026207,
     "end_time": "2023-08-27T13:32:05.916952",
     "exception": false,
     "start_time": "2023-08-27T13:32:05.890745",
     "status": "completed"
    },
    "tags": []
   },
   "source": [
    "* PassengerId $\\rightarrow$ unique ids for each passengers. Will need on testing data.\n",
    "* Survived $\\rightarrow$ shows if the passenger survived (1) or died (0). binary classification.\n",
    "* Pclass $\\rightarrow$ shows the class of the passenger. will be examined. Need to be converted.\n",
    "* Name $\\rightarrow$ name of the passenger, will be dropped because focusing on this will be overkill imo.\n",
    "* Sex $\\rightarrow$ need to be converted to binary or categorical data.\n",
    "* Age $\\rightarrow$ age of the passenger. This and sex will be examined.\n",
    "* SibSp $\\rightarrow$ # total number of the sibling and spouse \n",
    "* Parch $\\rightarrow$ # total number of the parent and children \n",
    "* Ticket $\\rightarrow$ # unique id of the tickets, will be dropped. \n",
    "* Fare $\\rightarrow$ # how much passenger paid for the ticket\n",
    "* Cabin $\\rightarrow$ # cabin number. \n",
    "* Embarked $\\rightarrow$ # which harbor passengers embarked. "
   ]
  },
  {
   "cell_type": "markdown",
   "id": "67ea2103",
   "metadata": {
    "papermill": {
     "duration": 0.026417,
     "end_time": "2023-08-27T13:32:05.972361",
     "exception": false,
     "start_time": "2023-08-27T13:32:05.945944",
     "status": "completed"
    },
    "tags": []
   },
   "source": [
    "### Visualization <a id = \"1.3\"></a>"
   ]
  },
  {
   "cell_type": "code",
   "execution_count": 6,
   "id": "56b2463d",
   "metadata": {
    "execution": {
     "iopub.execute_input": "2023-08-27T13:32:06.037624Z",
     "iopub.status.busy": "2023-08-27T13:32:06.037078Z",
     "iopub.status.idle": "2023-08-27T13:32:06.048660Z",
     "shell.execute_reply": "2023-08-27T13:32:06.047107Z"
    },
    "papermill": {
     "duration": 0.04763,
     "end_time": "2023-08-27T13:32:06.051725",
     "exception": false,
     "start_time": "2023-08-27T13:32:06.004095",
     "status": "completed"
    },
    "tags": []
   },
   "outputs": [],
   "source": [
    "def bar_plot(df, feat, datasetName):\n",
    "    v = df[feat]\n",
    "    v_value = v.value_counts()\n",
    "    \n",
    "    plt.figure()    \n",
    "    plt.bar(v_value.index, v_value)    \n",
    "    plt.xticks(v_value.index, v_value.index.values)\n",
    "    \n",
    "    plt.ylabel(\"Count\")\n",
    "    plt.title(f\"{datasetName} {feat.title()} Bar Plot\")\n",
    "    \n",
    "    plt.show()\n",
    "    \n",
    "    print(f\"{v_value}\")\n",
    "    \n",
    "def histogram_plot(df, feat, bins, datasetName):\n",
    "    v = df[feat]\n",
    "    \n",
    "    plt.figure()    \n",
    "    plt.hist(v, bins = bins)\n",
    "    \n",
    "    plt.ylabel(\"Count\")    \n",
    "    plt.xlabel(feat)\n",
    "    plt.title(f\"{datasetName} {feat.title()} Distribution with Histogram\")\n",
    "    \n",
    "    plt.show()\n",
    "    \n",
    "    print(f\"{df[feat].value_counts()}\")"
   ]
  },
  {
   "cell_type": "code",
   "execution_count": 7,
   "id": "282a22ba",
   "metadata": {
    "execution": {
     "iopub.execute_input": "2023-08-27T13:32:06.110188Z",
     "iopub.status.busy": "2023-08-27T13:32:06.109110Z",
     "iopub.status.idle": "2023-08-27T13:32:07.968813Z",
     "shell.execute_reply": "2023-08-27T13:32:07.967353Z"
    },
    "papermill": {
     "duration": 1.89226,
     "end_time": "2023-08-27T13:32:07.971902",
     "exception": false,
     "start_time": "2023-08-27T13:32:06.079642",
     "status": "completed"
    },
    "tags": []
   },
   "outputs": [
    {
     "data": {
      "image/png": "[encoded data removed]",
      "text/plain": [
       "<Figure size 640x480 with 1 Axes>"
      ]
     },
     "metadata": {},
     "output_type": "display_data"
    },
    {
     "name": "stdout",
     "output_type": "stream",
     "text": [
      "0    549\n",
      "1    342\n",
      "Name: Survived, dtype: int64\n"
     ]
    },
    {
     "data": {
      "image/png": "[encoded data removed]",
      "text/plain": [
       "<Figure size 640x480 with 1 Axes>"
      ]
     },
     "metadata": {},
     "output_type": "display_data"
    },
    {
     "name": "stdout",
     "output_type": "stream",
     "text": [
      "male      577\n",
      "female    314\n",
      "Name: Sex, dtype: int64\n"
     ]
    },
    {
     "data": {
      "image/png": "[encoded data removed]",
      "text/plain": [
       "<Figure size 640x480 with 1 Axes>"
      ]
     },
     "metadata": {},
     "output_type": "display_data"
    },
    {
     "name": "stdout",
     "output_type": "stream",
     "text": [
      "3    491\n",
      "1    216\n",
      "2    184\n",
      "Name: Pclass, dtype: int64\n"
     ]
    },
    {
     "data": {
      "image/png": "[encoded data removed]",
      "text/plain": [
       "<Figure size 640x480 with 1 Axes>"
      ]
     },
     "metadata": {},
     "output_type": "display_data"
    },
    {
     "name": "stdout",
     "output_type": "stream",
     "text": [
      "S    644\n",
      "C    168\n",
      "Q     77\n",
      "Name: Embarked, dtype: int64\n"
     ]
    },
    {
     "data": {
      "image/png": "[encoded data removed]",
      "text/plain": [
       "<Figure size 640x480 with 1 Axes>"
      ]
     },
     "metadata": {},
     "output_type": "display_data"
    },
    {
     "name": "stdout",
     "output_type": "stream",
     "text": [
      "0    608\n",
      "1    209\n",
      "2     28\n",
      "4     18\n",
      "3     16\n",
      "8      7\n",
      "5      5\n",
      "Name: SibSp, dtype: int64\n"
     ]
    },
    {
     "data": {
      "image/png": "[encoded data removed]",
      "text/plain": [
       "<Figure size 640x480 with 1 Axes>"
      ]
     },
     "metadata": {},
     "output_type": "display_data"
    },
    {
     "name": "stdout",
     "output_type": "stream",
     "text": [
      "0    678\n",
      "1    118\n",
      "2     80\n",
      "5      5\n",
      "3      5\n",
      "4      4\n",
      "6      1\n",
      "Name: Parch, dtype: int64\n"
     ]
    }
   ],
   "source": [
    "bar_vars = [\"Survived\", \"Sex\", \"Pclass\", \"Embarked\", \"SibSp\", \"Parch\"]\n",
    "\n",
    "for var in bar_vars:\n",
    "    bar_plot(train, var, \"Titanic\")"
   ]
  },
  {
   "cell_type": "code",
   "execution_count": 8,
   "id": "7fd3d6b5",
   "metadata": {
    "execution": {
     "iopub.execute_input": "2023-08-27T13:32:08.038565Z",
     "iopub.status.busy": "2023-08-27T13:32:08.038024Z",
     "iopub.status.idle": "2023-08-27T13:32:08.937314Z",
     "shell.execute_reply": "2023-08-27T13:32:08.935633Z"
    },
    "papermill": {
     "duration": 0.936905,
     "end_time": "2023-08-27T13:32:08.940802",
     "exception": false,
     "start_time": "2023-08-27T13:32:08.003897",
     "status": "completed"
    },
    "tags": []
   },
   "outputs": [
    {
     "data": {
      "image/png": "[encoded data removed]",
      "text/plain": [
       "<Figure size 640x480 with 1 Axes>"
      ]
     },
     "metadata": {},
     "output_type": "display_data"
    },
    {
     "name": "stdout",
     "output_type": "stream",
     "text": [
      "8.0500     43\n",
      "13.0000    42\n",
      "7.8958     38\n",
      "7.7500     34\n",
      "26.0000    31\n",
      "           ..\n",
      "35.0000     1\n",
      "28.5000     1\n",
      "6.2375      1\n",
      "14.0000     1\n",
      "10.5167     1\n",
      "Name: Fare, Length: 248, dtype: int64\n"
     ]
    },
    {
     "data": {
      "image/png": "[encoded data removed]",
      "text/plain": [
       "<Figure size 640x480 with 1 Axes>"
      ]
     },
     "metadata": {},
     "output_type": "display_data"
    },
    {
     "name": "stdout",
     "output_type": "stream",
     "text": [
      "24.00    30\n",
      "22.00    27\n",
      "18.00    26\n",
      "19.00    25\n",
      "28.00    25\n",
      "         ..\n",
      "36.50     1\n",
      "55.50     1\n",
      "0.92      1\n",
      "23.50     1\n",
      "74.00     1\n",
      "Name: Age, Length: 88, dtype: int64\n"
     ]
    }
   ],
   "source": [
    "hist_vars = [\"Fare\", \"Age\"]\n",
    "\n",
    "for var in hist_vars:\n",
    "    histogram_plot(train, var, 50, \"Titanic\")"
   ]
  },
  {
   "cell_type": "markdown",
   "id": "ad2674e9",
   "metadata": {
    "papermill": {
     "duration": 0.033562,
     "end_time": "2023-08-27T13:32:09.007141",
     "exception": false,
     "start_time": "2023-08-27T13:32:08.973579",
     "status": "completed"
    },
    "tags": []
   },
   "source": [
    "### Variable analysis <a id = \"1.2\"></a>"
   ]
  },
  {
   "cell_type": "code",
   "execution_count": 9,
   "id": "dfc8c9b2",
   "metadata": {
    "execution": {
     "iopub.execute_input": "2023-08-27T13:32:09.076096Z",
     "iopub.status.busy": "2023-08-27T13:32:09.075290Z",
     "iopub.status.idle": "2023-08-27T13:32:09.098892Z",
     "shell.execute_reply": "2023-08-27T13:32:09.097482Z"
    },
    "papermill": {
     "duration": 0.061286,
     "end_time": "2023-08-27T13:32:09.102633",
     "exception": false,
     "start_time": "2023-08-27T13:32:09.041347",
     "status": "completed"
    },
    "tags": []
   },
   "outputs": [
    {
     "data": {
      "text/html": [
       "<div>\n",
       "<style scoped>\n",
       "    .dataframe tbody tr th:only-of-type {\n",
       "        vertical-align: middle;\n",
       "    }\n",
       "\n",
       "    .dataframe tbody tr th {\n",
       "        vertical-align: top;\n",
       "    }\n",
       "\n",
       "    .dataframe thead th {\n",
       "        text-align: right;\n",
       "    }\n",
       "</style>\n",
       "<table border=\"1\" class=\"dataframe\">\n",
       "  <thead>\n",
       "    <tr style=\"text-align: right;\">\n",
       "      <th></th>\n",
       "      <th>PassengerId</th>\n",
       "      <th>Survived</th>\n",
       "      <th>Pclass</th>\n",
       "      <th>Age</th>\n",
       "      <th>SibSp</th>\n",
       "      <th>Parch</th>\n",
       "      <th>Fare</th>\n",
       "    </tr>\n",
       "  </thead>\n",
       "  <tbody>\n",
       "    <tr>\n",
       "      <th>PassengerId</th>\n",
       "      <td>1.000000</td>\n",
       "      <td>-0.005007</td>\n",
       "      <td>-0.035144</td>\n",
       "      <td>0.036847</td>\n",
       "      <td>-0.057527</td>\n",
       "      <td>-0.001652</td>\n",
       "      <td>0.012658</td>\n",
       "    </tr>\n",
       "    <tr>\n",
       "      <th>Survived</th>\n",
       "      <td>-0.005007</td>\n",
       "      <td>1.000000</td>\n",
       "      <td>-0.338481</td>\n",
       "      <td>-0.077221</td>\n",
       "      <td>-0.035322</td>\n",
       "      <td>0.081629</td>\n",
       "      <td>0.257307</td>\n",
       "    </tr>\n",
       "    <tr>\n",
       "      <th>Pclass</th>\n",
       "      <td>-0.035144</td>\n",
       "      <td>-0.338481</td>\n",
       "      <td>1.000000</td>\n",
       "      <td>-0.369226</td>\n",
       "      <td>0.083081</td>\n",
       "      <td>0.018443</td>\n",
       "      <td>-0.549500</td>\n",
       "    </tr>\n",
       "    <tr>\n",
       "      <th>Age</th>\n",
       "      <td>0.036847</td>\n",
       "      <td>-0.077221</td>\n",
       "      <td>-0.369226</td>\n",
       "      <td>1.000000</td>\n",
       "      <td>-0.308247</td>\n",
       "      <td>-0.189119</td>\n",
       "      <td>0.096067</td>\n",
       "    </tr>\n",
       "    <tr>\n",
       "      <th>SibSp</th>\n",
       "      <td>-0.057527</td>\n",
       "      <td>-0.035322</td>\n",
       "      <td>0.083081</td>\n",
       "      <td>-0.308247</td>\n",
       "      <td>1.000000</td>\n",
       "      <td>0.414838</td>\n",
       "      <td>0.159651</td>\n",
       "    </tr>\n",
       "    <tr>\n",
       "      <th>Parch</th>\n",
       "      <td>-0.001652</td>\n",
       "      <td>0.081629</td>\n",
       "      <td>0.018443</td>\n",
       "      <td>-0.189119</td>\n",
       "      <td>0.414838</td>\n",
       "      <td>1.000000</td>\n",
       "      <td>0.216225</td>\n",
       "    </tr>\n",
       "    <tr>\n",
       "      <th>Fare</th>\n",
       "      <td>0.012658</td>\n",
       "      <td>0.257307</td>\n",
       "      <td>-0.549500</td>\n",
       "      <td>0.096067</td>\n",
       "      <td>0.159651</td>\n",
       "      <td>0.216225</td>\n",
       "      <td>1.000000</td>\n",
       "    </tr>\n",
       "  </tbody>\n",
       "</table>\n",
       "</div>"
      ],
      "text/plain": [
       "             PassengerId  Survived    Pclass       Age     SibSp     Parch  \\\n",
       "PassengerId     1.000000 -0.005007 -0.035144  0.036847 -0.057527 -0.001652   \n",
       "Survived       -0.005007  1.000000 -0.338481 -0.077221 -0.035322  0.081629   \n",
       "Pclass         -0.035144 -0.338481  1.000000 -0.369226  0.083081  0.018443   \n",
       "Age             0.036847 -0.077221 -0.369226  1.000000 -0.308247 -0.189119   \n",
       "SibSp          -0.057527 -0.035322  0.083081 -0.308247  1.000000  0.414838   \n",
       "Parch          -0.001652  0.081629  0.018443 -0.189119  0.414838  1.000000   \n",
       "Fare            0.012658  0.257307 -0.549500  0.096067  0.159651  0.216225   \n",
       "\n",
       "                 Fare  \n",
       "PassengerId  0.012658  \n",
       "Survived     0.257307  \n",
       "Pclass      -0.549500  \n",
       "Age          0.096067  \n",
       "SibSp        0.159651  \n",
       "Parch        0.216225  \n",
       "Fare         1.000000  "
      ]
     },
     "execution_count": 9,
     "metadata": {},
     "output_type": "execute_result"
    }
   ],
   "source": [
    "train.corr() #before any processing, Pclass and Fare seems most correlated to survived."
   ]
  },
  {
   "cell_type": "code",
   "execution_count": 10,
   "id": "aaeb7bf0",
   "metadata": {
    "execution": {
     "iopub.execute_input": "2023-08-27T13:32:09.170814Z",
     "iopub.status.busy": "2023-08-27T13:32:09.170076Z",
     "iopub.status.idle": "2023-08-27T13:32:09.189089Z",
     "shell.execute_reply": "2023-08-27T13:32:09.187546Z"
    },
    "papermill": {
     "duration": 0.057179,
     "end_time": "2023-08-27T13:32:09.192121",
     "exception": false,
     "start_time": "2023-08-27T13:32:09.134942",
     "status": "completed"
    },
    "tags": []
   },
   "outputs": [
    {
     "name": "stdout",
     "output_type": "stream",
     "text": [
      "<class 'pandas.core.frame.DataFrame'>\n",
      "RangeIndex: 891 entries, 0 to 890\n",
      "Data columns (total 12 columns):\n",
      " #   Column       Non-Null Count  Dtype  \n",
      "---  ------       --------------  -----  \n",
      " 0   PassengerId  891 non-null    int64  \n",
      " 1   Survived     891 non-null    int64  \n",
      " 2   Pclass       891 non-null    int64  \n",
      " 3   Name         891 non-null    object \n",
      " 4   Sex          891 non-null    object \n",
      " 5   Age          714 non-null    float64\n",
      " 6   SibSp        891 non-null    int64  \n",
      " 7   Parch        891 non-null    int64  \n",
      " 8   Ticket       891 non-null    object \n",
      " 9   Fare         891 non-null    float64\n",
      " 10  Cabin        204 non-null    object \n",
      " 11  Embarked     889 non-null    object \n",
      "dtypes: float64(2), int64(5), object(5)\n",
      "memory usage: 83.7+ KB\n"
     ]
    }
   ],
   "source": [
    "train.info()\n",
    "\n",
    "# age, cabin and embarked have missing values for train."
   ]
  },
  {
   "cell_type": "code",
   "execution_count": 11,
   "id": "206c54c8",
   "metadata": {
    "execution": {
     "iopub.execute_input": "2023-08-27T13:32:09.259318Z",
     "iopub.status.busy": "2023-08-27T13:32:09.258773Z",
     "iopub.status.idle": "2023-08-27T13:32:09.278272Z",
     "shell.execute_reply": "2023-08-27T13:32:09.276980Z"
    },
    "papermill": {
     "duration": 0.054018,
     "end_time": "2023-08-27T13:32:09.280876",
     "exception": false,
     "start_time": "2023-08-27T13:32:09.226858",
     "status": "completed"
    },
    "tags": []
   },
   "outputs": [
    {
     "name": "stdout",
     "output_type": "stream",
     "text": [
      "<class 'pandas.core.frame.DataFrame'>\n",
      "RangeIndex: 891 entries, 0 to 890\n",
      "Data columns (total 9 columns):\n",
      " #   Column       Non-Null Count  Dtype  \n",
      "---  ------       --------------  -----  \n",
      " 0   PassengerId  891 non-null    int64  \n",
      " 1   Survived     891 non-null    int64  \n",
      " 2   Pclass       891 non-null    int64  \n",
      " 3   Sex          891 non-null    object \n",
      " 4   Age          714 non-null    float64\n",
      " 5   SibSp        891 non-null    int64  \n",
      " 6   Parch        891 non-null    int64  \n",
      " 7   Fare         891 non-null    float64\n",
      " 8   Embarked     889 non-null    object \n",
      "dtypes: float64(2), int64(5), object(2)\n",
      "memory usage: 62.8+ KB\n"
     ]
    }
   ],
   "source": [
    "train.drop([\"Name\", \"Ticket\", \"Cabin\"], axis=1, inplace=True)\n",
    "train.info()"
   ]
  },
  {
   "cell_type": "code",
   "execution_count": 12,
   "id": "f1e6ff5e",
   "metadata": {
    "execution": {
     "iopub.execute_input": "2023-08-27T13:32:09.346661Z",
     "iopub.status.busy": "2023-08-27T13:32:09.346202Z",
     "iopub.status.idle": "2023-08-27T13:32:09.359927Z",
     "shell.execute_reply": "2023-08-27T13:32:09.358593Z"
    },
    "papermill": {
     "duration": 0.048733,
     "end_time": "2023-08-27T13:32:09.362775",
     "exception": false,
     "start_time": "2023-08-27T13:32:09.314042",
     "status": "completed"
    },
    "tags": []
   },
   "outputs": [
    {
     "name": "stdout",
     "output_type": "stream",
     "text": [
      "['male' 'female']\n",
      "   PassengerId  Survived  Pclass  Sex   Age  SibSp  Parch     Fare Embarked\n",
      "0            1         0       3    0  22.0      1      0   7.2500        S\n",
      "1            2         1       1    1  38.0      1      0  71.2833        C\n",
      "2            3         1       3    1  26.0      0      0   7.9250        S\n",
      "3            4         1       1    1  35.0      1      0  53.1000        S\n",
      "4            5         0       3    0  35.0      0      0   8.0500        S\n"
     ]
    }
   ],
   "source": [
    "print(train[\"Sex\"].unique())\n",
    "d_sex = {\"male\": 0, \"female\": 1}\n",
    "\n",
    "train[\"Sex\"] = train[\"Sex\"].map(d_sex)\n",
    "print(train.head())"
   ]
  },
  {
   "cell_type": "code",
   "execution_count": 13,
   "id": "6679247a",
   "metadata": {
    "execution": {
     "iopub.execute_input": "2023-08-27T13:32:09.427051Z",
     "iopub.status.busy": "2023-08-27T13:32:09.426531Z",
     "iopub.status.idle": "2023-08-27T13:32:09.449129Z",
     "shell.execute_reply": "2023-08-27T13:32:09.447667Z"
    },
    "papermill": {
     "duration": 0.059624,
     "end_time": "2023-08-27T13:32:09.453346",
     "exception": false,
     "start_time": "2023-08-27T13:32:09.393722",
     "status": "completed"
    },
    "tags": []
   },
   "outputs": [
    {
     "data": {
      "text/html": [
       "<div>\n",
       "<style scoped>\n",
       "    .dataframe tbody tr th:only-of-type {\n",
       "        vertical-align: middle;\n",
       "    }\n",
       "\n",
       "    .dataframe tbody tr th {\n",
       "        vertical-align: top;\n",
       "    }\n",
       "\n",
       "    .dataframe thead th {\n",
       "        text-align: right;\n",
       "    }\n",
       "</style>\n",
       "<table border=\"1\" class=\"dataframe\">\n",
       "  <thead>\n",
       "    <tr style=\"text-align: right;\">\n",
       "      <th></th>\n",
       "      <th>Pclass</th>\n",
       "      <th>Survived</th>\n",
       "    </tr>\n",
       "  </thead>\n",
       "  <tbody>\n",
       "    <tr>\n",
       "      <th>0</th>\n",
       "      <td>1</td>\n",
       "      <td>0.629630</td>\n",
       "    </tr>\n",
       "    <tr>\n",
       "      <th>1</th>\n",
       "      <td>2</td>\n",
       "      <td>0.472826</td>\n",
       "    </tr>\n",
       "    <tr>\n",
       "      <th>2</th>\n",
       "      <td>3</td>\n",
       "      <td>0.242363</td>\n",
       "    </tr>\n",
       "  </tbody>\n",
       "</table>\n",
       "</div>"
      ],
      "text/plain": [
       "   Pclass  Survived\n",
       "0       1  0.629630\n",
       "1       2  0.472826\n",
       "2       3  0.242363"
      ]
     },
     "execution_count": 13,
     "metadata": {},
     "output_type": "execute_result"
    }
   ],
   "source": [
    "# Lets check the variables one by one on Survived column now.\n",
    "\n",
    "train[[\"Pclass\", \"Survived\"]].groupby([\"Pclass\"], as_index=False).mean().sort_values(by=\"Survived\", ascending=False)"
   ]
  },
  {
   "cell_type": "code",
   "execution_count": 14,
   "id": "2babad66",
   "metadata": {
    "execution": {
     "iopub.execute_input": "2023-08-27T13:32:09.529969Z",
     "iopub.status.busy": "2023-08-27T13:32:09.529058Z",
     "iopub.status.idle": "2023-08-27T13:32:09.551338Z",
     "shell.execute_reply": "2023-08-27T13:32:09.549744Z"
    },
    "papermill": {
     "duration": 0.065567,
     "end_time": "2023-08-27T13:32:09.554599",
     "exception": false,
     "start_time": "2023-08-27T13:32:09.489032",
     "status": "completed"
    },
    "tags": []
   },
   "outputs": [
    {
     "data": {
      "text/html": [
       "<div>\n",
       "<style scoped>\n",
       "    .dataframe tbody tr th:only-of-type {\n",
       "        vertical-align: middle;\n",
       "    }\n",
       "\n",
       "    .dataframe tbody tr th {\n",
       "        vertical-align: top;\n",
       "    }\n",
       "\n",
       "    .dataframe thead th {\n",
       "        text-align: right;\n",
       "    }\n",
       "</style>\n",
       "<table border=\"1\" class=\"dataframe\">\n",
       "  <thead>\n",
       "    <tr style=\"text-align: right;\">\n",
       "      <th></th>\n",
       "      <th>Sex</th>\n",
       "      <th>Survived</th>\n",
       "    </tr>\n",
       "  </thead>\n",
       "  <tbody>\n",
       "    <tr>\n",
       "      <th>1</th>\n",
       "      <td>1</td>\n",
       "      <td>0.742038</td>\n",
       "    </tr>\n",
       "    <tr>\n",
       "      <th>0</th>\n",
       "      <td>0</td>\n",
       "      <td>0.188908</td>\n",
       "    </tr>\n",
       "  </tbody>\n",
       "</table>\n",
       "</div>"
      ],
      "text/plain": [
       "   Sex  Survived\n",
       "1    1  0.742038\n",
       "0    0  0.188908"
      ]
     },
     "execution_count": 14,
     "metadata": {},
     "output_type": "execute_result"
    }
   ],
   "source": [
    "train[[\"Sex\", \"Survived\"]].groupby([\"Sex\"], as_index=False).mean().sort_values(by=\"Survived\", ascending=False)"
   ]
  },
  {
   "cell_type": "code",
   "execution_count": 15,
   "id": "f8e4b525",
   "metadata": {
    "execution": {
     "iopub.execute_input": "2023-08-27T13:32:09.627154Z",
     "iopub.status.busy": "2023-08-27T13:32:09.626623Z",
     "iopub.status.idle": "2023-08-27T13:32:09.645765Z",
     "shell.execute_reply": "2023-08-27T13:32:09.644237Z"
    },
    "papermill": {
     "duration": 0.058954,
     "end_time": "2023-08-27T13:32:09.649133",
     "exception": false,
     "start_time": "2023-08-27T13:32:09.590179",
     "status": "completed"
    },
    "tags": []
   },
   "outputs": [
    {
     "data": {
      "text/html": [
       "<div>\n",
       "<style scoped>\n",
       "    .dataframe tbody tr th:only-of-type {\n",
       "        vertical-align: middle;\n",
       "    }\n",
       "\n",
       "    .dataframe tbody tr th {\n",
       "        vertical-align: top;\n",
       "    }\n",
       "\n",
       "    .dataframe thead th {\n",
       "        text-align: right;\n",
       "    }\n",
       "</style>\n",
       "<table border=\"1\" class=\"dataframe\">\n",
       "  <thead>\n",
       "    <tr style=\"text-align: right;\">\n",
       "      <th></th>\n",
       "      <th>SibSp</th>\n",
       "      <th>Survived</th>\n",
       "    </tr>\n",
       "  </thead>\n",
       "  <tbody>\n",
       "    <tr>\n",
       "      <th>1</th>\n",
       "      <td>1</td>\n",
       "      <td>0.535885</td>\n",
       "    </tr>\n",
       "    <tr>\n",
       "      <th>2</th>\n",
       "      <td>2</td>\n",
       "      <td>0.464286</td>\n",
       "    </tr>\n",
       "    <tr>\n",
       "      <th>0</th>\n",
       "      <td>0</td>\n",
       "      <td>0.345395</td>\n",
       "    </tr>\n",
       "    <tr>\n",
       "      <th>3</th>\n",
       "      <td>3</td>\n",
       "      <td>0.250000</td>\n",
       "    </tr>\n",
       "    <tr>\n",
       "      <th>4</th>\n",
       "      <td>4</td>\n",
       "      <td>0.166667</td>\n",
       "    </tr>\n",
       "    <tr>\n",
       "      <th>5</th>\n",
       "      <td>5</td>\n",
       "      <td>0.000000</td>\n",
       "    </tr>\n",
       "    <tr>\n",
       "      <th>6</th>\n",
       "      <td>8</td>\n",
       "      <td>0.000000</td>\n",
       "    </tr>\n",
       "  </tbody>\n",
       "</table>\n",
       "</div>"
      ],
      "text/plain": [
       "   SibSp  Survived\n",
       "1      1  0.535885\n",
       "2      2  0.464286\n",
       "0      0  0.345395\n",
       "3      3  0.250000\n",
       "4      4  0.166667\n",
       "5      5  0.000000\n",
       "6      8  0.000000"
      ]
     },
     "execution_count": 15,
     "metadata": {},
     "output_type": "execute_result"
    }
   ],
   "source": [
    "train[[\"SibSp\", \"Survived\"]].groupby([\"SibSp\"], as_index=False).mean().sort_values(by=\"Survived\", ascending=False)"
   ]
  },
  {
   "cell_type": "code",
   "execution_count": 16,
   "id": "1fc63d68",
   "metadata": {
    "execution": {
     "iopub.execute_input": "2023-08-27T13:32:09.722218Z",
     "iopub.status.busy": "2023-08-27T13:32:09.721713Z",
     "iopub.status.idle": "2023-08-27T13:32:09.743927Z",
     "shell.execute_reply": "2023-08-27T13:32:09.742112Z"
    },
    "papermill": {
     "duration": 0.064119,
     "end_time": "2023-08-27T13:32:09.747288",
     "exception": false,
     "start_time": "2023-08-27T13:32:09.683169",
     "status": "completed"
    },
    "tags": []
   },
   "outputs": [
    {
     "data": {
      "text/html": [
       "<div>\n",
       "<style scoped>\n",
       "    .dataframe tbody tr th:only-of-type {\n",
       "        vertical-align: middle;\n",
       "    }\n",
       "\n",
       "    .dataframe tbody tr th {\n",
       "        vertical-align: top;\n",
       "    }\n",
       "\n",
       "    .dataframe thead th {\n",
       "        text-align: right;\n",
       "    }\n",
       "</style>\n",
       "<table border=\"1\" class=\"dataframe\">\n",
       "  <thead>\n",
       "    <tr style=\"text-align: right;\">\n",
       "      <th></th>\n",
       "      <th>Parch</th>\n",
       "      <th>Survived</th>\n",
       "    </tr>\n",
       "  </thead>\n",
       "  <tbody>\n",
       "    <tr>\n",
       "      <th>3</th>\n",
       "      <td>3</td>\n",
       "      <td>0.600000</td>\n",
       "    </tr>\n",
       "    <tr>\n",
       "      <th>1</th>\n",
       "      <td>1</td>\n",
       "      <td>0.550847</td>\n",
       "    </tr>\n",
       "    <tr>\n",
       "      <th>2</th>\n",
       "      <td>2</td>\n",
       "      <td>0.500000</td>\n",
       "    </tr>\n",
       "    <tr>\n",
       "      <th>0</th>\n",
       "      <td>0</td>\n",
       "      <td>0.343658</td>\n",
       "    </tr>\n",
       "    <tr>\n",
       "      <th>5</th>\n",
       "      <td>5</td>\n",
       "      <td>0.200000</td>\n",
       "    </tr>\n",
       "    <tr>\n",
       "      <th>4</th>\n",
       "      <td>4</td>\n",
       "      <td>0.000000</td>\n",
       "    </tr>\n",
       "    <tr>\n",
       "      <th>6</th>\n",
       "      <td>6</td>\n",
       "      <td>0.000000</td>\n",
       "    </tr>\n",
       "  </tbody>\n",
       "</table>\n",
       "</div>"
      ],
      "text/plain": [
       "   Parch  Survived\n",
       "3      3  0.600000\n",
       "1      1  0.550847\n",
       "2      2  0.500000\n",
       "0      0  0.343658\n",
       "5      5  0.200000\n",
       "4      4  0.000000\n",
       "6      6  0.000000"
      ]
     },
     "execution_count": 16,
     "metadata": {},
     "output_type": "execute_result"
    }
   ],
   "source": [
    "train[[\"Parch\", \"Survived\"]].groupby([\"Parch\"], as_index=False).mean().sort_values(by=\"Survived\", ascending=False)"
   ]
  },
  {
   "cell_type": "code",
   "execution_count": 17,
   "id": "8b3d14b2",
   "metadata": {
    "execution": {
     "iopub.execute_input": "2023-08-27T13:32:09.819419Z",
     "iopub.status.busy": "2023-08-27T13:32:09.818871Z",
     "iopub.status.idle": "2023-08-27T13:32:09.832149Z",
     "shell.execute_reply": "2023-08-27T13:32:09.830467Z"
    },
    "papermill": {
     "duration": 0.053621,
     "end_time": "2023-08-27T13:32:09.835485",
     "exception": false,
     "start_time": "2023-08-27T13:32:09.781864",
     "status": "completed"
    },
    "tags": []
   },
   "outputs": [],
   "source": [
    "#lets apply these to the test dataframe\n",
    "\n",
    "test.drop([\"Name\", \"Ticket\", \"Cabin\"], axis=1, inplace=True)\n",
    "test[\"Sex\"] = test[\"Sex\"].map(d_sex)"
   ]
  },
  {
   "cell_type": "code",
   "execution_count": 18,
   "id": "556b9172",
   "metadata": {
    "execution": {
     "iopub.execute_input": "2023-08-27T13:32:09.908650Z",
     "iopub.status.busy": "2023-08-27T13:32:09.908139Z",
     "iopub.status.idle": "2023-08-27T13:32:09.925692Z",
     "shell.execute_reply": "2023-08-27T13:32:09.923574Z"
    },
    "papermill": {
     "duration": 0.05872,
     "end_time": "2023-08-27T13:32:09.929835",
     "exception": false,
     "start_time": "2023-08-27T13:32:09.871115",
     "status": "completed"
    },
    "tags": []
   },
   "outputs": [
    {
     "name": "stdout",
     "output_type": "stream",
     "text": [
      "<class 'pandas.core.frame.DataFrame'>\n",
      "RangeIndex: 418 entries, 0 to 417\n",
      "Data columns (total 8 columns):\n",
      " #   Column       Non-Null Count  Dtype  \n",
      "---  ------       --------------  -----  \n",
      " 0   PassengerId  418 non-null    int64  \n",
      " 1   Pclass       418 non-null    int64  \n",
      " 2   Sex          418 non-null    int64  \n",
      " 3   Age          332 non-null    float64\n",
      " 4   SibSp        418 non-null    int64  \n",
      " 5   Parch        418 non-null    int64  \n",
      " 6   Fare         417 non-null    float64\n",
      " 7   Embarked     418 non-null    object \n",
      "dtypes: float64(2), int64(5), object(1)\n",
      "memory usage: 26.2+ KB\n"
     ]
    }
   ],
   "source": [
    "test.info()"
   ]
  },
  {
   "cell_type": "markdown",
   "id": "53f57d4d",
   "metadata": {
    "papermill": {
     "duration": 0.032197,
     "end_time": "2023-08-27T13:32:09.996255",
     "exception": false,
     "start_time": "2023-08-27T13:32:09.964058",
     "status": "completed"
    },
    "tags": []
   },
   "source": [
    "### Statistical outlier detection <a id=1.4></a>"
   ]
  },
  {
   "cell_type": "code",
   "execution_count": 19,
   "id": "549e14d2",
   "metadata": {
    "execution": {
     "iopub.execute_input": "2023-08-27T13:32:10.065073Z",
     "iopub.status.busy": "2023-08-27T13:32:10.064633Z",
     "iopub.status.idle": "2023-08-27T13:32:10.074561Z",
     "shell.execute_reply": "2023-08-27T13:32:10.073132Z"
    },
    "papermill": {
     "duration": 0.047733,
     "end_time": "2023-08-27T13:32:10.077459",
     "exception": false,
     "start_time": "2023-08-27T13:32:10.029726",
     "status": "completed"
    },
    "tags": []
   },
   "outputs": [],
   "source": [
    "from collections import Counter\n",
    "\n",
    "def statistical_outlier(df, feat, threshold):\n",
    "    outlier_indices = []\n",
    "    \n",
    "    for f in feat:\n",
    "        q1 = np.percentile(df[f], 25)\n",
    "        q3 = np.percentile(df[f], 75)\n",
    "        iqr = q3 - q1\n",
    "        \n",
    "        outlier_df_index = df[(df[f] < q1 - iqr * 1.5) | (df[f] > q3 + iqr * 1.5)].index\n",
    "        \n",
    "        outlier_indices.extend(outlier_df_index)\n",
    "    \n",
    "    outlier_indices = Counter(outlier_indices)\n",
    "    multiple_outliers = list(i for i, v in outlier_indices.items() if v > threshold)\n",
    "    \n",
    "    return multiple_outliers"
   ]
  },
  {
   "cell_type": "code",
   "execution_count": 20,
   "id": "729c24dd",
   "metadata": {
    "execution": {
     "iopub.execute_input": "2023-08-27T13:32:10.147431Z",
     "iopub.status.busy": "2023-08-27T13:32:10.146972Z",
     "iopub.status.idle": "2023-08-27T13:32:10.176508Z",
     "shell.execute_reply": "2023-08-27T13:32:10.174760Z"
    },
    "papermill": {
     "duration": 0.069025,
     "end_time": "2023-08-27T13:32:10.180005",
     "exception": false,
     "start_time": "2023-08-27T13:32:10.110980",
     "status": "completed"
    },
    "tags": []
   },
   "outputs": [
    {
     "data": {
      "text/html": [
       "<div>\n",
       "<style scoped>\n",
       "    .dataframe tbody tr th:only-of-type {\n",
       "        vertical-align: middle;\n",
       "    }\n",
       "\n",
       "    .dataframe tbody tr th {\n",
       "        vertical-align: top;\n",
       "    }\n",
       "\n",
       "    .dataframe thead th {\n",
       "        text-align: right;\n",
       "    }\n",
       "</style>\n",
       "<table border=\"1\" class=\"dataframe\">\n",
       "  <thead>\n",
       "    <tr style=\"text-align: right;\">\n",
       "      <th></th>\n",
       "      <th>PassengerId</th>\n",
       "      <th>Survived</th>\n",
       "      <th>Pclass</th>\n",
       "      <th>Sex</th>\n",
       "      <th>Age</th>\n",
       "      <th>SibSp</th>\n",
       "      <th>Parch</th>\n",
       "      <th>Fare</th>\n",
       "      <th>Embarked</th>\n",
       "    </tr>\n",
       "  </thead>\n",
       "  <tbody>\n",
       "    <tr>\n",
       "      <th>27</th>\n",
       "      <td>28</td>\n",
       "      <td>0</td>\n",
       "      <td>1</td>\n",
       "      <td>0</td>\n",
       "      <td>19.0</td>\n",
       "      <td>3</td>\n",
       "      <td>2</td>\n",
       "      <td>263.00</td>\n",
       "      <td>S</td>\n",
       "    </tr>\n",
       "    <tr>\n",
       "      <th>88</th>\n",
       "      <td>89</td>\n",
       "      <td>1</td>\n",
       "      <td>1</td>\n",
       "      <td>1</td>\n",
       "      <td>23.0</td>\n",
       "      <td>3</td>\n",
       "      <td>2</td>\n",
       "      <td>263.00</td>\n",
       "      <td>S</td>\n",
       "    </tr>\n",
       "    <tr>\n",
       "      <th>159</th>\n",
       "      <td>160</td>\n",
       "      <td>0</td>\n",
       "      <td>3</td>\n",
       "      <td>0</td>\n",
       "      <td>NaN</td>\n",
       "      <td>8</td>\n",
       "      <td>2</td>\n",
       "      <td>69.55</td>\n",
       "      <td>S</td>\n",
       "    </tr>\n",
       "    <tr>\n",
       "      <th>180</th>\n",
       "      <td>181</td>\n",
       "      <td>0</td>\n",
       "      <td>3</td>\n",
       "      <td>1</td>\n",
       "      <td>NaN</td>\n",
       "      <td>8</td>\n",
       "      <td>2</td>\n",
       "      <td>69.55</td>\n",
       "      <td>S</td>\n",
       "    </tr>\n",
       "    <tr>\n",
       "      <th>201</th>\n",
       "      <td>202</td>\n",
       "      <td>0</td>\n",
       "      <td>3</td>\n",
       "      <td>0</td>\n",
       "      <td>NaN</td>\n",
       "      <td>8</td>\n",
       "      <td>2</td>\n",
       "      <td>69.55</td>\n",
       "      <td>S</td>\n",
       "    </tr>\n",
       "    <tr>\n",
       "      <th>324</th>\n",
       "      <td>325</td>\n",
       "      <td>0</td>\n",
       "      <td>3</td>\n",
       "      <td>0</td>\n",
       "      <td>NaN</td>\n",
       "      <td>8</td>\n",
       "      <td>2</td>\n",
       "      <td>69.55</td>\n",
       "      <td>S</td>\n",
       "    </tr>\n",
       "    <tr>\n",
       "      <th>341</th>\n",
       "      <td>342</td>\n",
       "      <td>1</td>\n",
       "      <td>1</td>\n",
       "      <td>1</td>\n",
       "      <td>24.0</td>\n",
       "      <td>3</td>\n",
       "      <td>2</td>\n",
       "      <td>263.00</td>\n",
       "      <td>S</td>\n",
       "    </tr>\n",
       "    <tr>\n",
       "      <th>792</th>\n",
       "      <td>793</td>\n",
       "      <td>0</td>\n",
       "      <td>3</td>\n",
       "      <td>1</td>\n",
       "      <td>NaN</td>\n",
       "      <td>8</td>\n",
       "      <td>2</td>\n",
       "      <td>69.55</td>\n",
       "      <td>S</td>\n",
       "    </tr>\n",
       "    <tr>\n",
       "      <th>846</th>\n",
       "      <td>847</td>\n",
       "      <td>0</td>\n",
       "      <td>3</td>\n",
       "      <td>0</td>\n",
       "      <td>NaN</td>\n",
       "      <td>8</td>\n",
       "      <td>2</td>\n",
       "      <td>69.55</td>\n",
       "      <td>S</td>\n",
       "    </tr>\n",
       "    <tr>\n",
       "      <th>863</th>\n",
       "      <td>864</td>\n",
       "      <td>0</td>\n",
       "      <td>3</td>\n",
       "      <td>1</td>\n",
       "      <td>NaN</td>\n",
       "      <td>8</td>\n",
       "      <td>2</td>\n",
       "      <td>69.55</td>\n",
       "      <td>S</td>\n",
       "    </tr>\n",
       "  </tbody>\n",
       "</table>\n",
       "</div>"
      ],
      "text/plain": [
       "     PassengerId  Survived  Pclass  Sex   Age  SibSp  Parch    Fare Embarked\n",
       "27            28         0       1    0  19.0      3      2  263.00        S\n",
       "88            89         1       1    1  23.0      3      2  263.00        S\n",
       "159          160         0       3    0   NaN      8      2   69.55        S\n",
       "180          181         0       3    1   NaN      8      2   69.55        S\n",
       "201          202         0       3    0   NaN      8      2   69.55        S\n",
       "324          325         0       3    0   NaN      8      2   69.55        S\n",
       "341          342         1       1    1  24.0      3      2  263.00        S\n",
       "792          793         0       3    1   NaN      8      2   69.55        S\n",
       "846          847         0       3    0   NaN      8      2   69.55        S\n",
       "863          864         0       3    1   NaN      8      2   69.55        S"
      ]
     },
     "execution_count": 20,
     "metadata": {},
     "output_type": "execute_result"
    }
   ],
   "source": [
    "train.loc[statistical_outlier(train, [\"Age\", \"SibSp\", \"Parch\", \"Fare\"], 2)]"
   ]
  },
  {
   "cell_type": "code",
   "execution_count": 21,
   "id": "bb7ca8de",
   "metadata": {
    "execution": {
     "iopub.execute_input": "2023-08-27T13:32:10.253251Z",
     "iopub.status.busy": "2023-08-27T13:32:10.252724Z",
     "iopub.status.idle": "2023-08-27T13:32:10.269216Z",
     "shell.execute_reply": "2023-08-27T13:32:10.267732Z"
    },
    "papermill": {
     "duration": 0.05784,
     "end_time": "2023-08-27T13:32:10.272887",
     "exception": false,
     "start_time": "2023-08-27T13:32:10.215047",
     "status": "completed"
    },
    "tags": []
   },
   "outputs": [],
   "source": [
    "train = train.drop(statistical_outlier(train, [\"Age\", \"SibSp\", \"Parch\", \"Fare\"], 2), axis=0).reset_index(drop= True)"
   ]
  },
  {
   "cell_type": "markdown",
   "id": "ad644479",
   "metadata": {
    "papermill": {
     "duration": 0.032156,
     "end_time": "2023-08-27T13:32:10.340034",
     "exception": false,
     "start_time": "2023-08-27T13:32:10.307878",
     "status": "completed"
    },
    "tags": []
   },
   "source": [
    "### Missing Values <a id=1.5></a>"
   ]
  },
  {
   "cell_type": "code",
   "execution_count": 22,
   "id": "7689bbc5",
   "metadata": {
    "execution": {
     "iopub.execute_input": "2023-08-27T13:32:10.411769Z",
     "iopub.status.busy": "2023-08-27T13:32:10.411255Z",
     "iopub.status.idle": "2023-08-27T13:32:10.433382Z",
     "shell.execute_reply": "2023-08-27T13:32:10.431184Z"
    },
    "papermill": {
     "duration": 0.063202,
     "end_time": "2023-08-27T13:32:10.436707",
     "exception": false,
     "start_time": "2023-08-27T13:32:10.373505",
     "status": "completed"
    },
    "tags": []
   },
   "outputs": [
    {
     "name": "stdout",
     "output_type": "stream",
     "text": [
      "<class 'pandas.core.frame.DataFrame'>\n",
      "RangeIndex: 1299 entries, 0 to 1298\n",
      "Data columns (total 9 columns):\n",
      " #   Column       Non-Null Count  Dtype  \n",
      "---  ------       --------------  -----  \n",
      " 0   PassengerId  1299 non-null   int64  \n",
      " 1   Survived     881 non-null    float64\n",
      " 2   Pclass       1299 non-null   int64  \n",
      " 3   Sex          1299 non-null   int64  \n",
      " 4   Age          1043 non-null   float64\n",
      " 5   SibSp        1299 non-null   int64  \n",
      " 6   Parch        1299 non-null   int64  \n",
      " 7   Fare         1298 non-null   float64\n",
      " 8   Embarked     1297 non-null   object \n",
      "dtypes: float64(3), int64(5), object(1)\n",
      "memory usage: 91.5+ KB\n"
     ]
    }
   ],
   "source": [
    "train_len = len(train)\n",
    "all_data = pd.concat([train, test], axis= 0).reset_index(drop = True) # we have to merge datasets for \n",
    "\n",
    "all_data.info()"
   ]
  },
  {
   "cell_type": "code",
   "execution_count": 23,
   "id": "dc654f86",
   "metadata": {
    "execution": {
     "iopub.execute_input": "2023-08-27T13:32:10.508841Z",
     "iopub.status.busy": "2023-08-27T13:32:10.508266Z",
     "iopub.status.idle": "2023-08-27T13:32:10.523572Z",
     "shell.execute_reply": "2023-08-27T13:32:10.521571Z"
    },
    "papermill": {
     "duration": 0.055627,
     "end_time": "2023-08-27T13:32:10.526863",
     "exception": false,
     "start_time": "2023-08-27T13:32:10.471236",
     "status": "completed"
    },
    "tags": []
   },
   "outputs": [
    {
     "data": {
      "text/plain": [
       "Index(['Survived', 'Age', 'Fare', 'Embarked'], dtype='object')"
      ]
     },
     "execution_count": 23,
     "metadata": {},
     "output_type": "execute_result"
    }
   ],
   "source": [
    "all_data.columns[all_data.isnull().any()] # survived missing in test set for obvious reasons. "
   ]
  },
  {
   "cell_type": "code",
   "execution_count": 24,
   "id": "59553792",
   "metadata": {
    "execution": {
     "iopub.execute_input": "2023-08-27T13:32:10.598772Z",
     "iopub.status.busy": "2023-08-27T13:32:10.598235Z",
     "iopub.status.idle": "2023-08-27T13:32:10.609850Z",
     "shell.execute_reply": "2023-08-27T13:32:10.608626Z"
    },
    "papermill": {
     "duration": 0.050837,
     "end_time": "2023-08-27T13:32:10.613285",
     "exception": false,
     "start_time": "2023-08-27T13:32:10.562448",
     "status": "completed"
    },
    "tags": []
   },
   "outputs": [
    {
     "data": {
      "text/plain": [
       "PassengerId      0\n",
       "Survived       418\n",
       "Pclass           0\n",
       "Sex              0\n",
       "Age            256\n",
       "SibSp            0\n",
       "Parch            0\n",
       "Fare             1\n",
       "Embarked         2\n",
       "dtype: int64"
      ]
     },
     "execution_count": 24,
     "metadata": {},
     "output_type": "execute_result"
    }
   ],
   "source": [
    "all_data.isnull().sum()"
   ]
  },
  {
   "cell_type": "markdown",
   "id": "0e26aea8",
   "metadata": {
    "papermill": {
     "duration": 0.03741,
     "end_time": "2023-08-27T13:32:10.686675",
     "exception": false,
     "start_time": "2023-08-27T13:32:10.649265",
     "status": "completed"
    },
    "tags": []
   },
   "source": [
    "#### Embarked <a id=1.5.1></a>\n",
    "Two values are missing"
   ]
  },
  {
   "cell_type": "code",
   "execution_count": 25,
   "id": "0a51cbc6",
   "metadata": {
    "execution": {
     "iopub.execute_input": "2023-08-27T13:32:10.764995Z",
     "iopub.status.busy": "2023-08-27T13:32:10.764489Z",
     "iopub.status.idle": "2023-08-27T13:32:10.784859Z",
     "shell.execute_reply": "2023-08-27T13:32:10.783477Z"
    },
    "papermill": {
     "duration": 0.062836,
     "end_time": "2023-08-27T13:32:10.787856",
     "exception": false,
     "start_time": "2023-08-27T13:32:10.725020",
     "status": "completed"
    },
    "tags": []
   },
   "outputs": [
    {
     "data": {
      "text/html": [
       "<div>\n",
       "<style scoped>\n",
       "    .dataframe tbody tr th:only-of-type {\n",
       "        vertical-align: middle;\n",
       "    }\n",
       "\n",
       "    .dataframe tbody tr th {\n",
       "        vertical-align: top;\n",
       "    }\n",
       "\n",
       "    .dataframe thead th {\n",
       "        text-align: right;\n",
       "    }\n",
       "</style>\n",
       "<table border=\"1\" class=\"dataframe\">\n",
       "  <thead>\n",
       "    <tr style=\"text-align: right;\">\n",
       "      <th></th>\n",
       "      <th>PassengerId</th>\n",
       "      <th>Survived</th>\n",
       "      <th>Pclass</th>\n",
       "      <th>Sex</th>\n",
       "      <th>Age</th>\n",
       "      <th>SibSp</th>\n",
       "      <th>Parch</th>\n",
       "      <th>Fare</th>\n",
       "      <th>Embarked</th>\n",
       "    </tr>\n",
       "  </thead>\n",
       "  <tbody>\n",
       "    <tr>\n",
       "      <th>60</th>\n",
       "      <td>62</td>\n",
       "      <td>1.0</td>\n",
       "      <td>1</td>\n",
       "      <td>1</td>\n",
       "      <td>38.0</td>\n",
       "      <td>0</td>\n",
       "      <td>0</td>\n",
       "      <td>80.0</td>\n",
       "      <td>NaN</td>\n",
       "    </tr>\n",
       "    <tr>\n",
       "      <th>821</th>\n",
       "      <td>830</td>\n",
       "      <td>1.0</td>\n",
       "      <td>1</td>\n",
       "      <td>1</td>\n",
       "      <td>62.0</td>\n",
       "      <td>0</td>\n",
       "      <td>0</td>\n",
       "      <td>80.0</td>\n",
       "      <td>NaN</td>\n",
       "    </tr>\n",
       "  </tbody>\n",
       "</table>\n",
       "</div>"
      ],
      "text/plain": [
       "     PassengerId  Survived  Pclass  Sex   Age  SibSp  Parch  Fare Embarked\n",
       "60            62       1.0       1    1  38.0      0      0  80.0      NaN\n",
       "821          830       1.0       1    1  62.0      0      0  80.0      NaN"
      ]
     },
     "execution_count": 25,
     "metadata": {},
     "output_type": "execute_result"
    }
   ],
   "source": [
    "all_data[all_data[\"Embarked\"].isnull()]"
   ]
  },
  {
   "cell_type": "code",
   "execution_count": 26,
   "id": "6f982a64",
   "metadata": {
    "execution": {
     "iopub.execute_input": "2023-08-27T13:32:10.862719Z",
     "iopub.status.busy": "2023-08-27T13:32:10.862227Z",
     "iopub.status.idle": "2023-08-27T13:32:11.214385Z",
     "shell.execute_reply": "2023-08-27T13:32:11.212730Z"
    },
    "papermill": {
     "duration": 0.392449,
     "end_time": "2023-08-27T13:32:11.217509",
     "exception": false,
     "start_time": "2023-08-27T13:32:10.825060",
     "status": "completed"
    },
    "tags": []
   },
   "outputs": [
    {
     "data": {
      "image/png": "[encoded data removed]",
      "text/plain": [
       "<Figure size 640x480 with 1 Axes>"
      ]
     },
     "metadata": {},
     "output_type": "display_data"
    },
    {
     "name": "stdout",
     "output_type": "stream",
     "text": [
      "S    904\n",
      "C    270\n",
      "Q    123\n",
      "Name: Embarked, dtype: int64\n"
     ]
    }
   ],
   "source": [
    "all_data.boxplot(column=\"Fare\", by = \"Embarked\")\n",
    "plt.show()\n",
    "\n",
    "print(all_data[\"Embarked\"].value_counts())\n",
    "\n",
    "#From these values, it seems to fill nans with 'C' or 'S'. Lets check in more detail in next cells."
   ]
  },
  {
   "cell_type": "code",
   "execution_count": 27,
   "id": "a6414d44",
   "metadata": {
    "execution": {
     "iopub.execute_input": "2023-08-27T13:32:11.295156Z",
     "iopub.status.busy": "2023-08-27T13:32:11.293858Z",
     "iopub.status.idle": "2023-08-27T13:32:11.307973Z",
     "shell.execute_reply": "2023-08-27T13:32:11.305691Z"
    },
    "papermill": {
     "duration": 0.056305,
     "end_time": "2023-08-27T13:32:11.311285",
     "exception": false,
     "start_time": "2023-08-27T13:32:11.254980",
     "status": "completed"
    },
    "tags": []
   },
   "outputs": [
    {
     "name": "stdout",
     "output_type": "stream",
     "text": [
      "1    141\n",
      "3    101\n",
      "2     28\n",
      "Name: Pclass, dtype: int64\n",
      "3    488\n",
      "2    242\n",
      "1    174\n",
      "Name: Pclass, dtype: int64\n"
     ]
    }
   ],
   "source": [
    "print(all_data[all_data[\"Embarked\"] == 'C'][\"Pclass\"].value_counts())\n",
    "print(all_data[all_data[\"Embarked\"] == 'S'][\"Pclass\"].value_counts())"
   ]
  },
  {
   "cell_type": "code",
   "execution_count": 28,
   "id": "ebbff3fd",
   "metadata": {
    "execution": {
     "iopub.execute_input": "2023-08-27T13:32:11.387541Z",
     "iopub.status.busy": "2023-08-27T13:32:11.386084Z",
     "iopub.status.idle": "2023-08-27T13:32:11.712860Z",
     "shell.execute_reply": "2023-08-27T13:32:11.711561Z"
    },
    "papermill": {
     "duration": 0.365396,
     "end_time": "2023-08-27T13:32:11.715953",
     "exception": false,
     "start_time": "2023-08-27T13:32:11.350557",
     "status": "completed"
    },
    "tags": []
   },
   "outputs": [
    {
     "data": {
      "image/png": "[encoded data removed]",
      "text/plain": [
       "<Figure size 640x480 with 1 Axes>"
      ]
     },
     "metadata": {},
     "output_type": "display_data"
    }
   ],
   "source": [
    "filtered_c = all_data[all_data['Embarked'] == 'C']\n",
    "\n",
    "sns.boxplot(x=\"Pclass\", y=\"Fare\", data=filtered_c)\n",
    "plt.title(\"Boxplot of passengers fare by embarked = 'C'\")\n",
    "plt.show()"
   ]
  },
  {
   "cell_type": "code",
   "execution_count": 29,
   "id": "bc1dd5be",
   "metadata": {
    "execution": {
     "iopub.execute_input": "2023-08-27T13:32:11.794797Z",
     "iopub.status.busy": "2023-08-27T13:32:11.794068Z",
     "iopub.status.idle": "2023-08-27T13:32:12.117461Z",
     "shell.execute_reply": "2023-08-27T13:32:12.116026Z"
    },
    "papermill": {
     "duration": 0.365712,
     "end_time": "2023-08-27T13:32:12.120237",
     "exception": false,
     "start_time": "2023-08-27T13:32:11.754525",
     "status": "completed"
    },
    "tags": []
   },
   "outputs": [
    {
     "data": {
      "image/png": "[encoded data removed]",
      "text/plain": [
       "<Figure size 640x480 with 1 Axes>"
      ]
     },
     "metadata": {},
     "output_type": "display_data"
    }
   ],
   "source": [
    "filtered_s = all_data[all_data['Embarked'] == 'S']\n",
    "\n",
    "sns.boxplot(x=\"Pclass\", y=\"Fare\", data=filtered_s)\n",
    "plt.title(\"Boxplot of passengers fare by embarked = 'S'\")\n",
    "plt.show()"
   ]
  },
  {
   "cell_type": "code",
   "execution_count": 30,
   "id": "15e9e873",
   "metadata": {
    "execution": {
     "iopub.execute_input": "2023-08-27T13:32:12.199979Z",
     "iopub.status.busy": "2023-08-27T13:32:12.199424Z",
     "iopub.status.idle": "2023-08-27T13:32:12.208130Z",
     "shell.execute_reply": "2023-08-27T13:32:12.206046Z"
    },
    "papermill": {
     "duration": 0.050784,
     "end_time": "2023-08-27T13:32:12.211216",
     "exception": false,
     "start_time": "2023-08-27T13:32:12.160432",
     "status": "completed"
    },
    "tags": []
   },
   "outputs": [],
   "source": [
    "## It seems both filling will work, I will continue with \"S\"\n",
    "\n",
    "all_data[\"Embarked\"] = all_data[\"Embarked\"].fillna(\"S\")"
   ]
  },
  {
   "cell_type": "markdown",
   "id": "209186bc",
   "metadata": {
    "papermill": {
     "duration": 0.041004,
     "end_time": "2023-08-27T13:32:12.289914",
     "exception": false,
     "start_time": "2023-08-27T13:32:12.248910",
     "status": "completed"
    },
    "tags": []
   },
   "source": [
    "#### Fare <a id=1.5.2></a>\n",
    "Only one value is missing. Therefore just putting mean of that Pclass won't make big difference (meaning that another techniques will also work)"
   ]
  },
  {
   "cell_type": "code",
   "execution_count": 31,
   "id": "435383c9",
   "metadata": {
    "execution": {
     "iopub.execute_input": "2023-08-27T13:32:12.363195Z",
     "iopub.status.busy": "2023-08-27T13:32:12.362750Z",
     "iopub.status.idle": "2023-08-27T13:32:12.381615Z",
     "shell.execute_reply": "2023-08-27T13:32:12.380119Z"
    },
    "papermill": {
     "duration": 0.057486,
     "end_time": "2023-08-27T13:32:12.384483",
     "exception": false,
     "start_time": "2023-08-27T13:32:12.326997",
     "status": "completed"
    },
    "tags": []
   },
   "outputs": [
    {
     "data": {
      "text/html": [
       "<div>\n",
       "<style scoped>\n",
       "    .dataframe tbody tr th:only-of-type {\n",
       "        vertical-align: middle;\n",
       "    }\n",
       "\n",
       "    .dataframe tbody tr th {\n",
       "        vertical-align: top;\n",
       "    }\n",
       "\n",
       "    .dataframe thead th {\n",
       "        text-align: right;\n",
       "    }\n",
       "</style>\n",
       "<table border=\"1\" class=\"dataframe\">\n",
       "  <thead>\n",
       "    <tr style=\"text-align: right;\">\n",
       "      <th></th>\n",
       "      <th>PassengerId</th>\n",
       "      <th>Survived</th>\n",
       "      <th>Pclass</th>\n",
       "      <th>Sex</th>\n",
       "      <th>Age</th>\n",
       "      <th>SibSp</th>\n",
       "      <th>Parch</th>\n",
       "      <th>Fare</th>\n",
       "      <th>Embarked</th>\n",
       "    </tr>\n",
       "  </thead>\n",
       "  <tbody>\n",
       "    <tr>\n",
       "      <th>1033</th>\n",
       "      <td>1044</td>\n",
       "      <td>NaN</td>\n",
       "      <td>3</td>\n",
       "      <td>0</td>\n",
       "      <td>60.5</td>\n",
       "      <td>0</td>\n",
       "      <td>0</td>\n",
       "      <td>NaN</td>\n",
       "      <td>S</td>\n",
       "    </tr>\n",
       "  </tbody>\n",
       "</table>\n",
       "</div>"
      ],
      "text/plain": [
       "      PassengerId  Survived  Pclass  Sex   Age  SibSp  Parch  Fare Embarked\n",
       "1033         1044       NaN       3    0  60.5      0      0   NaN        S"
      ]
     },
     "execution_count": 31,
     "metadata": {},
     "output_type": "execute_result"
    }
   ],
   "source": [
    "all_data[all_data[\"Fare\"].isnull()]"
   ]
  },
  {
   "cell_type": "code",
   "execution_count": 32,
   "id": "3d0cfc1e",
   "metadata": {
    "execution": {
     "iopub.execute_input": "2023-08-27T13:32:12.458986Z",
     "iopub.status.busy": "2023-08-27T13:32:12.458575Z",
     "iopub.status.idle": "2023-08-27T13:32:12.469173Z",
     "shell.execute_reply": "2023-08-27T13:32:12.467067Z"
    },
    "papermill": {
     "duration": 0.052383,
     "end_time": "2023-08-27T13:32:12.472254",
     "exception": false,
     "start_time": "2023-08-27T13:32:12.419871",
     "status": "completed"
    },
    "tags": []
   },
   "outputs": [],
   "source": [
    "all_data[\"Fare\"] = all_data[\"Fare\"].fillna(np.mean(all_data[all_data[\"Pclass\"] == 3][\"Fare\"]))"
   ]
  },
  {
   "cell_type": "markdown",
   "id": "5309fbf3",
   "metadata": {
    "papermill": {
     "duration": 0.039184,
     "end_time": "2023-08-27T13:32:12.548440",
     "exception": false,
     "start_time": "2023-08-27T13:32:12.509256",
     "status": "completed"
    },
    "tags": []
   },
   "source": [
    "#### Age <a id=1.5.3></a>\n",
    "This is the hardest one to fill amongst three."
   ]
  },
  {
   "cell_type": "code",
   "execution_count": 33,
   "id": "72d54c62",
   "metadata": {
    "execution": {
     "iopub.execute_input": "2023-08-27T13:32:12.627731Z",
     "iopub.status.busy": "2023-08-27T13:32:12.627237Z",
     "iopub.status.idle": "2023-08-27T13:32:12.655590Z",
     "shell.execute_reply": "2023-08-27T13:32:12.654227Z"
    },
    "papermill": {
     "duration": 0.071036,
     "end_time": "2023-08-27T13:32:12.658584",
     "exception": false,
     "start_time": "2023-08-27T13:32:12.587548",
     "status": "completed"
    },
    "tags": []
   },
   "outputs": [
    {
     "data": {
      "text/html": [
       "<div>\n",
       "<style scoped>\n",
       "    .dataframe tbody tr th:only-of-type {\n",
       "        vertical-align: middle;\n",
       "    }\n",
       "\n",
       "    .dataframe tbody tr th {\n",
       "        vertical-align: top;\n",
       "    }\n",
       "\n",
       "    .dataframe thead th {\n",
       "        text-align: right;\n",
       "    }\n",
       "</style>\n",
       "<table border=\"1\" class=\"dataframe\">\n",
       "  <thead>\n",
       "    <tr style=\"text-align: right;\">\n",
       "      <th></th>\n",
       "      <th>PassengerId</th>\n",
       "      <th>Survived</th>\n",
       "      <th>Pclass</th>\n",
       "      <th>Sex</th>\n",
       "      <th>Age</th>\n",
       "      <th>SibSp</th>\n",
       "      <th>Parch</th>\n",
       "      <th>Fare</th>\n",
       "      <th>Embarked</th>\n",
       "    </tr>\n",
       "  </thead>\n",
       "  <tbody>\n",
       "    <tr>\n",
       "      <th>5</th>\n",
       "      <td>6</td>\n",
       "      <td>0.0</td>\n",
       "      <td>3</td>\n",
       "      <td>0</td>\n",
       "      <td>NaN</td>\n",
       "      <td>0</td>\n",
       "      <td>0</td>\n",
       "      <td>8.4583</td>\n",
       "      <td>Q</td>\n",
       "    </tr>\n",
       "    <tr>\n",
       "      <th>17</th>\n",
       "      <td>18</td>\n",
       "      <td>1.0</td>\n",
       "      <td>2</td>\n",
       "      <td>0</td>\n",
       "      <td>NaN</td>\n",
       "      <td>0</td>\n",
       "      <td>0</td>\n",
       "      <td>13.0000</td>\n",
       "      <td>S</td>\n",
       "    </tr>\n",
       "    <tr>\n",
       "      <th>19</th>\n",
       "      <td>20</td>\n",
       "      <td>1.0</td>\n",
       "      <td>3</td>\n",
       "      <td>1</td>\n",
       "      <td>NaN</td>\n",
       "      <td>0</td>\n",
       "      <td>0</td>\n",
       "      <td>7.2250</td>\n",
       "      <td>C</td>\n",
       "    </tr>\n",
       "    <tr>\n",
       "      <th>26</th>\n",
       "      <td>27</td>\n",
       "      <td>0.0</td>\n",
       "      <td>3</td>\n",
       "      <td>0</td>\n",
       "      <td>NaN</td>\n",
       "      <td>0</td>\n",
       "      <td>0</td>\n",
       "      <td>7.2250</td>\n",
       "      <td>C</td>\n",
       "    </tr>\n",
       "    <tr>\n",
       "      <th>27</th>\n",
       "      <td>29</td>\n",
       "      <td>1.0</td>\n",
       "      <td>3</td>\n",
       "      <td>1</td>\n",
       "      <td>NaN</td>\n",
       "      <td>0</td>\n",
       "      <td>0</td>\n",
       "      <td>7.8792</td>\n",
       "      <td>Q</td>\n",
       "    </tr>\n",
       "    <tr>\n",
       "      <th>...</th>\n",
       "      <td>...</td>\n",
       "      <td>...</td>\n",
       "      <td>...</td>\n",
       "      <td>...</td>\n",
       "      <td>...</td>\n",
       "      <td>...</td>\n",
       "      <td>...</td>\n",
       "      <td>...</td>\n",
       "      <td>...</td>\n",
       "    </tr>\n",
       "    <tr>\n",
       "      <th>1289</th>\n",
       "      <td>1300</td>\n",
       "      <td>NaN</td>\n",
       "      <td>3</td>\n",
       "      <td>1</td>\n",
       "      <td>NaN</td>\n",
       "      <td>0</td>\n",
       "      <td>0</td>\n",
       "      <td>7.7208</td>\n",
       "      <td>Q</td>\n",
       "    </tr>\n",
       "    <tr>\n",
       "      <th>1291</th>\n",
       "      <td>1302</td>\n",
       "      <td>NaN</td>\n",
       "      <td>3</td>\n",
       "      <td>1</td>\n",
       "      <td>NaN</td>\n",
       "      <td>0</td>\n",
       "      <td>0</td>\n",
       "      <td>7.7500</td>\n",
       "      <td>Q</td>\n",
       "    </tr>\n",
       "    <tr>\n",
       "      <th>1294</th>\n",
       "      <td>1305</td>\n",
       "      <td>NaN</td>\n",
       "      <td>3</td>\n",
       "      <td>0</td>\n",
       "      <td>NaN</td>\n",
       "      <td>0</td>\n",
       "      <td>0</td>\n",
       "      <td>8.0500</td>\n",
       "      <td>S</td>\n",
       "    </tr>\n",
       "    <tr>\n",
       "      <th>1297</th>\n",
       "      <td>1308</td>\n",
       "      <td>NaN</td>\n",
       "      <td>3</td>\n",
       "      <td>0</td>\n",
       "      <td>NaN</td>\n",
       "      <td>0</td>\n",
       "      <td>0</td>\n",
       "      <td>8.0500</td>\n",
       "      <td>S</td>\n",
       "    </tr>\n",
       "    <tr>\n",
       "      <th>1298</th>\n",
       "      <td>1309</td>\n",
       "      <td>NaN</td>\n",
       "      <td>3</td>\n",
       "      <td>0</td>\n",
       "      <td>NaN</td>\n",
       "      <td>1</td>\n",
       "      <td>1</td>\n",
       "      <td>22.3583</td>\n",
       "      <td>C</td>\n",
       "    </tr>\n",
       "  </tbody>\n",
       "</table>\n",
       "<p>256 rows × 9 columns</p>\n",
       "</div>"
      ],
      "text/plain": [
       "      PassengerId  Survived  Pclass  Sex  Age  SibSp  Parch     Fare Embarked\n",
       "5               6       0.0       3    0  NaN      0      0   8.4583        Q\n",
       "17             18       1.0       2    0  NaN      0      0  13.0000        S\n",
       "19             20       1.0       3    1  NaN      0      0   7.2250        C\n",
       "26             27       0.0       3    0  NaN      0      0   7.2250        C\n",
       "27             29       1.0       3    1  NaN      0      0   7.8792        Q\n",
       "...           ...       ...     ...  ...  ...    ...    ...      ...      ...\n",
       "1289         1300       NaN       3    1  NaN      0      0   7.7208        Q\n",
       "1291         1302       NaN       3    1  NaN      0      0   7.7500        Q\n",
       "1294         1305       NaN       3    0  NaN      0      0   8.0500        S\n",
       "1297         1308       NaN       3    0  NaN      0      0   8.0500        S\n",
       "1298         1309       NaN       3    0  NaN      1      1  22.3583        C\n",
       "\n",
       "[256 rows x 9 columns]"
      ]
     },
     "execution_count": 33,
     "metadata": {},
     "output_type": "execute_result"
    }
   ],
   "source": [
    "all_data[all_data[\"Age\"].isnull()]"
   ]
  },
  {
   "cell_type": "code",
   "execution_count": 34,
   "id": "fb9ecaa2",
   "metadata": {
    "execution": {
     "iopub.execute_input": "2023-08-27T13:32:12.741737Z",
     "iopub.status.busy": "2023-08-27T13:32:12.739757Z",
     "iopub.status.idle": "2023-08-27T13:32:13.179082Z",
     "shell.execute_reply": "2023-08-27T13:32:13.177711Z"
    },
    "papermill": {
     "duration": 0.484906,
     "end_time": "2023-08-27T13:32:13.182756",
     "exception": false,
     "start_time": "2023-08-27T13:32:12.697850",
     "status": "completed"
    },
    "tags": []
   },
   "outputs": [
    {
     "data": {
      "image/png": "[encoded data removed]",
      "text/plain": [
       "<Figure size 500x500 with 1 Axes>"
      ]
     },
     "metadata": {},
     "output_type": "display_data"
    }
   ],
   "source": [
    "# lets first check age distribution by sex.\n",
    "\n",
    "sns.catplot(x = \"Sex\", y= \"Age\", data=all_data, kind=\"box\")\n",
    "plt.show()"
   ]
  },
  {
   "cell_type": "markdown",
   "id": "8dfaa302",
   "metadata": {
    "papermill": {
     "duration": 0.037895,
     "end_time": "2023-08-27T13:32:13.258532",
     "exception": false,
     "start_time": "2023-08-27T13:32:13.220637",
     "status": "completed"
    },
    "tags": []
   },
   "source": [
    "Age distribution by sex is quite similar."
   ]
  },
  {
   "cell_type": "code",
   "execution_count": 35,
   "id": "85d38f16",
   "metadata": {
    "execution": {
     "iopub.execute_input": "2023-08-27T13:32:13.337591Z",
     "iopub.status.busy": "2023-08-27T13:32:13.336811Z",
     "iopub.status.idle": "2023-08-27T13:32:13.990596Z",
     "shell.execute_reply": "2023-08-27T13:32:13.989039Z"
    },
    "papermill": {
     "duration": 0.69615,
     "end_time": "2023-08-27T13:32:13.993416",
     "exception": false,
     "start_time": "2023-08-27T13:32:13.297266",
     "status": "completed"
    },
    "tags": []
   },
   "outputs": [
    {
     "data": {
      "image/png": "[encoded data removed]",
      "text/plain": [
       "<Figure size 558.875x500 with 1 Axes>"
      ]
     },
     "metadata": {},
     "output_type": "display_data"
    }
   ],
   "source": [
    "sns.catplot(x = \"Sex\", y= \"Age\", hue = \"Pclass\", data=all_data, kind=\"box\")\n",
    "plt.show()"
   ]
  },
  {
   "cell_type": "markdown",
   "id": "e201a748",
   "metadata": {
    "papermill": {
     "duration": 0.042249,
     "end_time": "2023-08-27T13:32:14.078848",
     "exception": false,
     "start_time": "2023-08-27T13:32:14.036599",
     "status": "completed"
    },
    "tags": []
   },
   "source": [
    "Higher classes are older. Decent approach."
   ]
  },
  {
   "cell_type": "code",
   "execution_count": 36,
   "id": "3baa28ac",
   "metadata": {
    "execution": {
     "iopub.execute_input": "2023-08-27T13:32:14.155933Z",
     "iopub.status.busy": "2023-08-27T13:32:14.155470Z",
     "iopub.status.idle": "2023-08-27T13:32:15.500670Z",
     "shell.execute_reply": "2023-08-27T13:32:15.499228Z"
    },
    "papermill": {
     "duration": 1.387517,
     "end_time": "2023-08-27T13:32:15.503444",
     "exception": false,
     "start_time": "2023-08-27T13:32:14.115927",
     "status": "completed"
    },
    "tags": []
   },
   "outputs": [
    {
     "data": {
      "image/png": "[encoded data removed]",
      "text/plain": [
       "<Figure size 500x500 with 1 Axes>"
      ]
     },
     "metadata": {},
     "output_type": "display_data"
    },
    {
     "data": {
      "image/png": "[encoded data removed]",
      "text/plain": [
       "<Figure size 500x500 with 1 Axes>"
      ]
     },
     "metadata": {},
     "output_type": "display_data"
    }
   ],
   "source": [
    "sns.catplot(x = \"Parch\", y= \"Age\", data=all_data, kind=\"box\")\n",
    "plt.show()\n",
    "\n",
    "sns.catplot(x = \"SibSp\", y= \"Age\", data=all_data, kind=\"box\")\n",
    "plt.show()"
   ]
  },
  {
   "cell_type": "markdown",
   "id": "f7422d19",
   "metadata": {
    "papermill": {
     "duration": 0.0387,
     "end_time": "2023-08-27T13:32:15.581561",
     "exception": false,
     "start_time": "2023-08-27T13:32:15.542861",
     "status": "completed"
    },
    "tags": []
   },
   "source": [
    "Finally, lets check correlations all together."
   ]
  },
  {
   "cell_type": "code",
   "execution_count": 37,
   "id": "bbbf8a97",
   "metadata": {
    "execution": {
     "iopub.execute_input": "2023-08-27T13:32:15.662684Z",
     "iopub.status.busy": "2023-08-27T13:32:15.662190Z",
     "iopub.status.idle": "2023-08-27T13:32:16.117555Z",
     "shell.execute_reply": "2023-08-27T13:32:16.116127Z"
    },
    "papermill": {
     "duration": 0.500102,
     "end_time": "2023-08-27T13:32:16.120665",
     "exception": false,
     "start_time": "2023-08-27T13:32:15.620563",
     "status": "completed"
    },
    "tags": []
   },
   "outputs": [
    {
     "data": {
      "image/png": "[encoded data removed]",
      "text/plain": [
       "<Figure size 640x480 with 2 Axes>"
      ]
     },
     "metadata": {},
     "output_type": "display_data"
    }
   ],
   "source": [
    "sns.heatmap(all_data[[\"Age\", \"Sex\", \"SibSp\", \"Parch\", \"Pclass\"]].corr(), annot=True)\n",
    "plt.show()"
   ]
  },
  {
   "cell_type": "markdown",
   "id": "b5a93392",
   "metadata": {
    "papermill": {
     "duration": 0.039715,
     "end_time": "2023-08-27T13:32:16.204364",
     "exception": false,
     "start_time": "2023-08-27T13:32:16.164649",
     "status": "completed"
    },
    "tags": []
   },
   "source": [
    "Age is most correlated with sibsp and pclass. Therefore I will use these two columns for filling missing values."
   ]
  },
  {
   "cell_type": "code",
   "execution_count": 38,
   "id": "ff6f4d3f",
   "metadata": {
    "execution": {
     "iopub.execute_input": "2023-08-27T13:32:16.293144Z",
     "iopub.status.busy": "2023-08-27T13:32:16.292636Z",
     "iopub.status.idle": "2023-08-27T13:32:16.301647Z",
     "shell.execute_reply": "2023-08-27T13:32:16.300126Z"
    },
    "papermill": {
     "duration": 0.058407,
     "end_time": "2023-08-27T13:32:16.305486",
     "exception": false,
     "start_time": "2023-08-27T13:32:16.247079",
     "status": "completed"
    },
    "tags": []
   },
   "outputs": [
    {
     "name": "stdout",
     "output_type": "stream",
     "text": [
      "[5, 17, 19, 26, 27, 28, 30, 31, 35, 41, 44, 45, 46, 47, 54, 63, 64, 75, 76, 81, 86, 93, 99, 105, 107, 119, 124, 126, 138, 152, 156, 163, 165, 173, 177, 181, 182, 192, 194, 209, 218, 224, 230, 235, 236, 245, 251, 255, 259, 265, 269, 272, 279, 290, 293, 295, 296, 298, 299, 301, 324, 328, 329, 340, 344, 347, 351, 352, 357, 360, 361, 368, 377, 381, 402, 403, 404, 406, 408, 413, 418, 421, 424, 437, 444, 447, 450, 452, 457, 459, 461, 463, 468, 474, 478, 483, 488, 490, 495, 500, 504, 510, 515, 517, 520, 524, 526, 531, 540, 545, 550, 553, 556, 557, 561, 566, 571, 577, 582, 586, 589, 591, 594, 595, 604, 605, 606, 622, 626, 632, 636, 641, 643, 646, 649, 660, 662, 667, 673, 685, 690, 702, 704, 711, 720, 725, 731, 732, 733, 753, 759, 761, 766, 769, 771, 776, 783, 785, 807, 817, 818, 820, 824, 829, 831, 840, 850, 858, 868, 878, 891, 903, 910, 914, 917, 920, 922, 928, 935, 939, 946, 957, 964, 965, 966, 969, 972, 974, 983, 988, 989, 992, 997, 1002, 1005, 1008, 1013, 1014, 1027, 1029, 1032, 1041, 1044, 1049, 1051, 1054, 1064, 1069, 1072, 1080, 1081, 1086, 1092, 1097, 1100, 1106, 1108, 1114, 1124, 1125, 1130, 1136, 1137, 1146, 1147, 1148, 1149, 1152, 1154, 1155, 1163, 1167, 1169, 1170, 1171, 1173, 1178, 1182, 1185, 1193, 1213, 1220, 1223, 1225, 1238, 1239, 1246, 1247, 1261, 1263, 1265, 1289, 1291, 1294, 1297, 1298]\n"
     ]
    }
   ],
   "source": [
    "index_nan_age = list(all_data[\"Age\"][all_data[\"Age\"].isnull()].index)\n",
    "print(index_nan_age)"
   ]
  },
  {
   "cell_type": "code",
   "execution_count": 39,
   "id": "6fae07b2",
   "metadata": {
    "execution": {
     "iopub.execute_input": "2023-08-27T13:32:16.390620Z",
     "iopub.status.busy": "2023-08-27T13:32:16.390116Z",
     "iopub.status.idle": "2023-08-27T13:32:16.852367Z",
     "shell.execute_reply": "2023-08-27T13:32:16.850617Z"
    },
    "papermill": {
     "duration": 0.509916,
     "end_time": "2023-08-27T13:32:16.855604",
     "exception": false,
     "start_time": "2023-08-27T13:32:16.345688",
     "status": "completed"
    },
    "tags": []
   },
   "outputs": [],
   "source": [
    "for i in index_nan_age:\n",
    "    related_data = all_data[\"Age\"][((all_data[\"SibSp\"] == all_data.iloc[i][\"SibSp\"]) & (all_data[\"Pclass\"] == all_data.iloc[i][\"Pclass\"]))]\n",
    "    related_med = related_data.median()     \n",
    "    related_mean = related_data.mean() \n",
    "    pred = (related_med + related_mean) // 2 # -> Integers\n",
    "    \n",
    "    all_data.loc[i, \"Age\"] = pred"
   ]
  },
  {
   "cell_type": "code",
   "execution_count": 40,
   "id": "59a9f2ba",
   "metadata": {
    "execution": {
     "iopub.execute_input": "2023-08-27T13:32:16.957875Z",
     "iopub.status.busy": "2023-08-27T13:32:16.957390Z",
     "iopub.status.idle": "2023-08-27T13:32:16.974414Z",
     "shell.execute_reply": "2023-08-27T13:32:16.972752Z"
    },
    "papermill": {
     "duration": 0.071546,
     "end_time": "2023-08-27T13:32:16.977741",
     "exception": false,
     "start_time": "2023-08-27T13:32:16.906195",
     "status": "completed"
    },
    "tags": []
   },
   "outputs": [
    {
     "name": "stdout",
     "output_type": "stream",
     "text": [
      "<class 'pandas.core.frame.DataFrame'>\n",
      "RangeIndex: 1299 entries, 0 to 1298\n",
      "Data columns (total 9 columns):\n",
      " #   Column       Non-Null Count  Dtype  \n",
      "---  ------       --------------  -----  \n",
      " 0   PassengerId  1299 non-null   int64  \n",
      " 1   Survived     881 non-null    float64\n",
      " 2   Pclass       1299 non-null   int64  \n",
      " 3   Sex          1299 non-null   int64  \n",
      " 4   Age          1299 non-null   float64\n",
      " 5   SibSp        1299 non-null   int64  \n",
      " 6   Parch        1299 non-null   int64  \n",
      " 7   Fare         1299 non-null   float64\n",
      " 8   Embarked     1299 non-null   object \n",
      "dtypes: float64(3), int64(5), object(1)\n",
      "memory usage: 91.5+ KB\n"
     ]
    }
   ],
   "source": [
    "all_data.info() # No more missing values"
   ]
  },
  {
   "cell_type": "markdown",
   "id": "32d7c557",
   "metadata": {
    "papermill": {
     "duration": 0.039074,
     "end_time": "2023-08-27T13:32:17.058342",
     "exception": false,
     "start_time": "2023-08-27T13:32:17.019268",
     "status": "completed"
    },
    "tags": []
   },
   "source": [
    "### Correlations <a id=1.6></a>\n",
    "We already did a lot of correlations on previous sections. Lets check one last time."
   ]
  },
  {
   "cell_type": "code",
   "execution_count": 41,
   "id": "b5e540f8",
   "metadata": {
    "execution": {
     "iopub.execute_input": "2023-08-27T13:32:17.143693Z",
     "iopub.status.busy": "2023-08-27T13:32:17.143115Z",
     "iopub.status.idle": "2023-08-27T13:32:17.153268Z",
     "shell.execute_reply": "2023-08-27T13:32:17.151569Z"
    },
    "papermill": {
     "duration": 0.056225,
     "end_time": "2023-08-27T13:32:17.156426",
     "exception": false,
     "start_time": "2023-08-27T13:32:17.100201",
     "status": "completed"
    },
    "tags": []
   },
   "outputs": [
    {
     "data": {
      "text/plain": [
       "Index(['PassengerId', 'Survived', 'Pclass', 'Sex', 'Age', 'SibSp', 'Parch',\n",
       "       'Fare', 'Embarked'],\n",
       "      dtype='object')"
      ]
     },
     "execution_count": 41,
     "metadata": {},
     "output_type": "execute_result"
    }
   ],
   "source": [
    "all_data.columns"
   ]
  },
  {
   "cell_type": "code",
   "execution_count": 42,
   "id": "270805ec",
   "metadata": {
    "execution": {
     "iopub.execute_input": "2023-08-27T13:32:17.240856Z",
     "iopub.status.busy": "2023-08-27T13:32:17.240362Z",
     "iopub.status.idle": "2023-08-27T13:32:17.768000Z",
     "shell.execute_reply": "2023-08-27T13:32:17.766486Z"
    },
    "papermill": {
     "duration": 0.573922,
     "end_time": "2023-08-27T13:32:17.771134",
     "exception": false,
     "start_time": "2023-08-27T13:32:17.197212",
     "status": "completed"
    },
    "tags": []
   },
   "outputs": [
    {
     "data": {
      "image/png": "[encoded data removed]",
      "text/plain": [
       "<Figure size 640x480 with 2 Axes>"
      ]
     },
     "metadata": {},
     "output_type": "display_data"
    }
   ],
   "source": [
    "sns.heatmap(all_data[[\"Survived\", \"Pclass\", \"Sex\", \"Age\", \"SibSp\", \"Parch\", \"Fare\"]].corr(), annot=True)\n",
    "plt.show()"
   ]
  },
  {
   "cell_type": "markdown",
   "id": "afb79de1",
   "metadata": {
    "papermill": {
     "duration": 0.040476,
     "end_time": "2023-08-27T13:32:17.851562",
     "exception": false,
     "start_time": "2023-08-27T13:32:17.811086",
     "status": "completed"
    },
    "tags": []
   },
   "source": [
    "Pclass and Sex seems most correlated on survived followed by Fare. Lets make some feature engineering to make all columns ready to train."
   ]
  },
  {
   "cell_type": "markdown",
   "id": "7aebab0d",
   "metadata": {
    "papermill": {
     "duration": 0.050862,
     "end_time": "2023-08-27T13:32:17.944526",
     "exception": false,
     "start_time": "2023-08-27T13:32:17.893664",
     "status": "completed"
    },
    "tags": []
   },
   "source": [
    "#### Feature Engineering <a id=1.6.1></a>"
   ]
  },
  {
   "cell_type": "code",
   "execution_count": 43,
   "id": "b5b645af",
   "metadata": {
    "execution": {
     "iopub.execute_input": "2023-08-27T13:32:18.035380Z",
     "iopub.status.busy": "2023-08-27T13:32:18.034724Z",
     "iopub.status.idle": "2023-08-27T13:32:18.066158Z",
     "shell.execute_reply": "2023-08-27T13:32:18.064844Z"
    },
    "papermill": {
     "duration": 0.07906,
     "end_time": "2023-08-27T13:32:18.068992",
     "exception": false,
     "start_time": "2023-08-27T13:32:17.989932",
     "status": "completed"
    },
    "tags": []
   },
   "outputs": [
    {
     "data": {
      "text/html": [
       "<div>\n",
       "<style scoped>\n",
       "    .dataframe tbody tr th:only-of-type {\n",
       "        vertical-align: middle;\n",
       "    }\n",
       "\n",
       "    .dataframe tbody tr th {\n",
       "        vertical-align: top;\n",
       "    }\n",
       "\n",
       "    .dataframe thead th {\n",
       "        text-align: right;\n",
       "    }\n",
       "</style>\n",
       "<table border=\"1\" class=\"dataframe\">\n",
       "  <thead>\n",
       "    <tr style=\"text-align: right;\">\n",
       "      <th></th>\n",
       "      <th>PassengerId</th>\n",
       "      <th>Survived</th>\n",
       "      <th>Pclass</th>\n",
       "      <th>Sex</th>\n",
       "      <th>Age</th>\n",
       "      <th>SibSp</th>\n",
       "      <th>Parch</th>\n",
       "      <th>Fare</th>\n",
       "      <th>Embarked_C</th>\n",
       "      <th>Embarked_Q</th>\n",
       "      <th>Embarked_S</th>\n",
       "    </tr>\n",
       "  </thead>\n",
       "  <tbody>\n",
       "    <tr>\n",
       "      <th>0</th>\n",
       "      <td>1</td>\n",
       "      <td>0.0</td>\n",
       "      <td>3</td>\n",
       "      <td>0</td>\n",
       "      <td>22.0</td>\n",
       "      <td>1</td>\n",
       "      <td>0</td>\n",
       "      <td>7.2500</td>\n",
       "      <td>0</td>\n",
       "      <td>0</td>\n",
       "      <td>1</td>\n",
       "    </tr>\n",
       "    <tr>\n",
       "      <th>1</th>\n",
       "      <td>2</td>\n",
       "      <td>1.0</td>\n",
       "      <td>1</td>\n",
       "      <td>1</td>\n",
       "      <td>38.0</td>\n",
       "      <td>1</td>\n",
       "      <td>0</td>\n",
       "      <td>71.2833</td>\n",
       "      <td>1</td>\n",
       "      <td>0</td>\n",
       "      <td>0</td>\n",
       "    </tr>\n",
       "    <tr>\n",
       "      <th>2</th>\n",
       "      <td>3</td>\n",
       "      <td>1.0</td>\n",
       "      <td>3</td>\n",
       "      <td>1</td>\n",
       "      <td>26.0</td>\n",
       "      <td>0</td>\n",
       "      <td>0</td>\n",
       "      <td>7.9250</td>\n",
       "      <td>0</td>\n",
       "      <td>0</td>\n",
       "      <td>1</td>\n",
       "    </tr>\n",
       "    <tr>\n",
       "      <th>3</th>\n",
       "      <td>4</td>\n",
       "      <td>1.0</td>\n",
       "      <td>1</td>\n",
       "      <td>1</td>\n",
       "      <td>35.0</td>\n",
       "      <td>1</td>\n",
       "      <td>0</td>\n",
       "      <td>53.1000</td>\n",
       "      <td>0</td>\n",
       "      <td>0</td>\n",
       "      <td>1</td>\n",
       "    </tr>\n",
       "    <tr>\n",
       "      <th>4</th>\n",
       "      <td>5</td>\n",
       "      <td>0.0</td>\n",
       "      <td>3</td>\n",
       "      <td>0</td>\n",
       "      <td>35.0</td>\n",
       "      <td>0</td>\n",
       "      <td>0</td>\n",
       "      <td>8.0500</td>\n",
       "      <td>0</td>\n",
       "      <td>0</td>\n",
       "      <td>1</td>\n",
       "    </tr>\n",
       "  </tbody>\n",
       "</table>\n",
       "</div>"
      ],
      "text/plain": [
       "   PassengerId  Survived  Pclass  Sex   Age  SibSp  Parch     Fare  \\\n",
       "0            1       0.0       3    0  22.0      1      0   7.2500   \n",
       "1            2       1.0       1    1  38.0      1      0  71.2833   \n",
       "2            3       1.0       3    1  26.0      0      0   7.9250   \n",
       "3            4       1.0       1    1  35.0      1      0  53.1000   \n",
       "4            5       0.0       3    0  35.0      0      0   8.0500   \n",
       "\n",
       "   Embarked_C  Embarked_Q  Embarked_S  \n",
       "0           0           0           1  \n",
       "1           1           0           0  \n",
       "2           0           0           1  \n",
       "3           0           0           1  \n",
       "4           0           0           1  "
      ]
     },
     "execution_count": 43,
     "metadata": {},
     "output_type": "execute_result"
    }
   ],
   "source": [
    "all_data = pd.get_dummies(all_data, columns=[\"Embarked\"])\n",
    "all_data.head()"
   ]
  },
  {
   "cell_type": "code",
   "execution_count": 44,
   "id": "d16853f1",
   "metadata": {
    "execution": {
     "iopub.execute_input": "2023-08-27T13:32:18.156916Z",
     "iopub.status.busy": "2023-08-27T13:32:18.155943Z",
     "iopub.status.idle": "2023-08-27T13:32:19.073732Z",
     "shell.execute_reply": "2023-08-27T13:32:19.072545Z"
    },
    "papermill": {
     "duration": 0.966073,
     "end_time": "2023-08-27T13:32:19.076985",
     "exception": false,
     "start_time": "2023-08-27T13:32:18.110912",
     "status": "completed"
    },
    "tags": []
   },
   "outputs": [
    {
     "data": {
      "image/png": "[encoded data removed]",
      "text/plain": [
       "<Figure size 1200x900 with 2 Axes>"
      ]
     },
     "metadata": {},
     "output_type": "display_data"
    }
   ],
   "source": [
    "plt.figure(figsize = (12, 9))\n",
    "sns.heatmap(all_data.corr(), annot=True, fmt='.2f')\n",
    "plt.show()"
   ]
  },
  {
   "cell_type": "markdown",
   "id": "c2f2b40d",
   "metadata": {
    "papermill": {
     "duration": 0.049384,
     "end_time": "2023-08-27T13:32:19.171575",
     "exception": false,
     "start_time": "2023-08-27T13:32:19.122191",
     "status": "completed"
    },
    "tags": []
   },
   "source": [
    "## Machine learning approach <a id = \"2\"></a>\n",
    "\n",
    "Lets first re-acquiring train & test."
   ]
  },
  {
   "cell_type": "code",
   "execution_count": 45,
   "id": "f2fb2356",
   "metadata": {
    "execution": {
     "iopub.execute_input": "2023-08-27T13:32:19.264539Z",
     "iopub.status.busy": "2023-08-27T13:32:19.264012Z",
     "iopub.status.idle": "2023-08-27T13:32:19.282098Z",
     "shell.execute_reply": "2023-08-27T13:32:19.281058Z"
    },
    "papermill": {
     "duration": 0.070913,
     "end_time": "2023-08-27T13:32:19.286627",
     "exception": false,
     "start_time": "2023-08-27T13:32:19.215714",
     "status": "completed"
    },
    "tags": []
   },
   "outputs": [
    {
     "name": "stdout",
     "output_type": "stream",
     "text": [
      "<class 'pandas.core.frame.DataFrame'>\n",
      "RangeIndex: 881 entries, 0 to 880\n",
      "Data columns (total 11 columns):\n",
      " #   Column       Non-Null Count  Dtype  \n",
      "---  ------       --------------  -----  \n",
      " 0   PassengerId  881 non-null    int64  \n",
      " 1   Survived     881 non-null    float64\n",
      " 2   Pclass       881 non-null    int64  \n",
      " 3   Sex          881 non-null    int64  \n",
      " 4   Age          881 non-null    float64\n",
      " 5   SibSp        881 non-null    int64  \n",
      " 6   Parch        881 non-null    int64  \n",
      " 7   Fare         881 non-null    float64\n",
      " 8   Embarked_C   881 non-null    uint8  \n",
      " 9   Embarked_Q   881 non-null    uint8  \n",
      " 10  Embarked_S   881 non-null    uint8  \n",
      "dtypes: float64(3), int64(5), uint8(3)\n",
      "memory usage: 57.8 KB\n"
     ]
    }
   ],
   "source": [
    "train = all_data[:train_len]\n",
    "train.info()"
   ]
  },
  {
   "cell_type": "code",
   "execution_count": 46,
   "id": "b99d4372",
   "metadata": {
    "execution": {
     "iopub.execute_input": "2023-08-27T13:32:19.378832Z",
     "iopub.status.busy": "2023-08-27T13:32:19.378268Z",
     "iopub.status.idle": "2023-08-27T13:32:19.398025Z",
     "shell.execute_reply": "2023-08-27T13:32:19.396270Z"
    },
    "papermill": {
     "duration": 0.06794,
     "end_time": "2023-08-27T13:32:19.401095",
     "exception": false,
     "start_time": "2023-08-27T13:32:19.333155",
     "status": "completed"
    },
    "tags": []
   },
   "outputs": [
    {
     "name": "stdout",
     "output_type": "stream",
     "text": [
      "<class 'pandas.core.frame.DataFrame'>\n",
      "RangeIndex: 418 entries, 881 to 1298\n",
      "Data columns (total 11 columns):\n",
      " #   Column       Non-Null Count  Dtype  \n",
      "---  ------       --------------  -----  \n",
      " 0   PassengerId  418 non-null    int64  \n",
      " 1   Survived     0 non-null      float64\n",
      " 2   Pclass       418 non-null    int64  \n",
      " 3   Sex          418 non-null    int64  \n",
      " 4   Age          418 non-null    float64\n",
      " 5   SibSp        418 non-null    int64  \n",
      " 6   Parch        418 non-null    int64  \n",
      " 7   Fare         418 non-null    float64\n",
      " 8   Embarked_C   418 non-null    uint8  \n",
      " 9   Embarked_Q   418 non-null    uint8  \n",
      " 10  Embarked_S   418 non-null    uint8  \n",
      "dtypes: float64(3), int64(5), uint8(3)\n",
      "memory usage: 27.5 KB\n"
     ]
    }
   ],
   "source": [
    "test = all_data[train_len:]\n",
    "test.info()"
   ]
  },
  {
   "cell_type": "markdown",
   "id": "2b4f9efa",
   "metadata": {
    "papermill": {
     "duration": 0.045551,
     "end_time": "2023-08-27T13:32:19.490376",
     "exception": false,
     "start_time": "2023-08-27T13:32:19.444825",
     "status": "completed"
    },
    "tags": []
   },
   "source": [
    "### Random forest classification <a id = \"2.1\"></a>"
   ]
  },
  {
   "cell_type": "code",
   "execution_count": 47,
   "id": "fdf50b07",
   "metadata": {
    "execution": {
     "iopub.execute_input": "2023-08-27T13:32:19.579958Z",
     "iopub.status.busy": "2023-08-27T13:32:19.579447Z",
     "iopub.status.idle": "2023-08-27T13:32:19.937018Z",
     "shell.execute_reply": "2023-08-27T13:32:19.935221Z"
    },
    "papermill": {
     "duration": 0.408433,
     "end_time": "2023-08-27T13:32:19.941007",
     "exception": false,
     "start_time": "2023-08-27T13:32:19.532574",
     "status": "completed"
    },
    "tags": []
   },
   "outputs": [
    {
     "name": "stdout",
     "output_type": "stream",
     "text": [
      "Index(['PassengerId', 'Survived', 'Pclass', 'Sex', 'Age', 'SibSp', 'Parch',\n",
      "       'Fare', 'Embarked_C', 'Embarked_Q', 'Embarked_S'],\n",
      "      dtype='object')\n",
      "<class 'pandas.core.frame.DataFrame'>\n",
      "RangeIndex: 881 entries, 0 to 880\n",
      "Data columns (total 9 columns):\n",
      " #   Column      Non-Null Count  Dtype  \n",
      "---  ------      --------------  -----  \n",
      " 0   Pclass      881 non-null    int64  \n",
      " 1   Sex         881 non-null    int64  \n",
      " 2   Age         881 non-null    float64\n",
      " 3   SibSp       881 non-null    int64  \n",
      " 4   Parch       881 non-null    int64  \n",
      " 5   Fare        881 non-null    float64\n",
      " 6   Embarked_C  881 non-null    uint8  \n",
      " 7   Embarked_Q  881 non-null    uint8  \n",
      " 8   Embarked_S  881 non-null    uint8  \n",
      "dtypes: float64(2), int64(4), uint8(3)\n",
      "memory usage: 44.0 KB\n",
      "None\n",
      "<class 'pandas.core.series.Series'>\n",
      "RangeIndex: 881 entries, 0 to 880\n",
      "Series name: Survived\n",
      "Non-Null Count  Dtype  \n",
      "--------------  -----  \n",
      "881 non-null    float64\n",
      "dtypes: float64(1)\n",
      "memory usage: 7.0 KB\n",
      "None\n"
     ]
    }
   ],
   "source": [
    "from sklearn.model_selection import train_test_split\n",
    "\n",
    "print(train.columns)\n",
    "\n",
    "feats = [\"Pclass\", \"Sex\", \"Age\", \"SibSp\", \"Parch\", \"Fare\", \"Embarked_C\", \"Embarked_Q\", \"Embarked_S\"]\n",
    "\n",
    "X = train[feats]\n",
    "\n",
    "Y = train[\"Survived\"]\n",
    "\n",
    "print(X.info())\n",
    "print(Y.info())\n",
    "\n",
    "X_train, X_val, Y_train, Y_val = train_test_split(X, Y, test_size = 0.2, random_state = 42)"
   ]
  },
  {
   "cell_type": "code",
   "execution_count": 48,
   "id": "e932de90",
   "metadata": {
    "execution": {
     "iopub.execute_input": "2023-08-27T13:32:20.032756Z",
     "iopub.status.busy": "2023-08-27T13:32:20.032282Z",
     "iopub.status.idle": "2023-08-27T13:32:20.870160Z",
     "shell.execute_reply": "2023-08-27T13:32:20.868415Z"
    },
    "papermill": {
     "duration": 0.888624,
     "end_time": "2023-08-27T13:32:20.873698",
     "exception": false,
     "start_time": "2023-08-27T13:32:19.985074",
     "status": "completed"
    },
    "tags": []
   },
   "outputs": [],
   "source": [
    "from sklearn.ensemble import RandomForestClassifier\n",
    "\n",
    "model_rfc = RandomForestClassifier(n_estimators=100, max_depth=10, random_state=42)\n",
    "model_rfc.fit(X_train, Y_train)\n",
    "y_val_pred = model_rfc.predict(X_val)"
   ]
  },
  {
   "cell_type": "code",
   "execution_count": 49,
   "id": "cc37948a",
   "metadata": {
    "execution": {
     "iopub.execute_input": "2023-08-27T13:32:20.964404Z",
     "iopub.status.busy": "2023-08-27T13:32:20.963872Z",
     "iopub.status.idle": "2023-08-27T13:32:20.976134Z",
     "shell.execute_reply": "2023-08-27T13:32:20.974623Z"
    },
    "papermill": {
     "duration": 0.060297,
     "end_time": "2023-08-27T13:32:20.979012",
     "exception": false,
     "start_time": "2023-08-27T13:32:20.918715",
     "status": "completed"
    },
    "tags": []
   },
   "outputs": [
    {
     "data": {
      "text/plain": [
       "0.8248587570621468"
      ]
     },
     "execution_count": 49,
     "metadata": {},
     "output_type": "execute_result"
    }
   ],
   "source": [
    "from sklearn.metrics import accuracy_score\n",
    "\n",
    "accuracy_score(Y_val, y_val_pred)"
   ]
  },
  {
   "cell_type": "markdown",
   "id": "ad68e539",
   "metadata": {
    "papermill": {
     "duration": 0.043978,
     "end_time": "2023-08-27T13:32:21.067575",
     "exception": false,
     "start_time": "2023-08-27T13:32:21.023597",
     "status": "completed"
    },
    "tags": []
   },
   "source": [
    "### Logistic regression <a id = \"2.2\"></a>"
   ]
  },
  {
   "cell_type": "code",
   "execution_count": 50,
   "id": "f4684182",
   "metadata": {
    "execution": {
     "iopub.execute_input": "2023-08-27T13:32:21.158720Z",
     "iopub.status.busy": "2023-08-27T13:32:21.158197Z",
     "iopub.status.idle": "2023-08-27T13:32:21.202133Z",
     "shell.execute_reply": "2023-08-27T13:32:21.201096Z"
    },
    "papermill": {
     "duration": 0.09349,
     "end_time": "2023-08-27T13:32:21.204934",
     "exception": false,
     "start_time": "2023-08-27T13:32:21.111444",
     "status": "completed"
    },
    "tags": []
   },
   "outputs": [
    {
     "data": {
      "text/plain": [
       "0.7909604519774012"
      ]
     },
     "execution_count": 50,
     "metadata": {},
     "output_type": "execute_result"
    }
   ],
   "source": [
    "from sklearn.linear_model import LogisticRegression\n",
    "\n",
    "model_lr = LogisticRegression(random_state=42)\n",
    "model_lr.fit(X_train, Y_train)\n",
    "\n",
    "y_val_pred = model_lr.predict(X_val)\n",
    "\n",
    "accuracy_score(Y_val, y_val_pred)"
   ]
  },
  {
   "cell_type": "markdown",
   "id": "fcaceff6",
   "metadata": {
    "papermill": {
     "duration": 0.045655,
     "end_time": "2023-08-27T13:32:21.297117",
     "exception": false,
     "start_time": "2023-08-27T13:32:21.251462",
     "status": "completed"
    },
    "tags": []
   },
   "source": [
    "### Decision tree classifier <a id = \"2.3\"></a>"
   ]
  },
  {
   "cell_type": "code",
   "execution_count": 51,
   "id": "3b32f1ea",
   "metadata": {
    "execution": {
     "iopub.execute_input": "2023-08-27T13:32:21.385037Z",
     "iopub.status.busy": "2023-08-27T13:32:21.384569Z",
     "iopub.status.idle": "2023-08-27T13:32:21.402843Z",
     "shell.execute_reply": "2023-08-27T13:32:21.401605Z"
    },
    "papermill": {
     "duration": 0.065012,
     "end_time": "2023-08-27T13:32:21.405541",
     "exception": false,
     "start_time": "2023-08-27T13:32:21.340529",
     "status": "completed"
    },
    "tags": []
   },
   "outputs": [
    {
     "data": {
      "text/plain": [
       "0.7853107344632768"
      ]
     },
     "execution_count": 51,
     "metadata": {},
     "output_type": "execute_result"
    }
   ],
   "source": [
    "from sklearn.tree import DecisionTreeClassifier\n",
    "\n",
    "model_dt = DecisionTreeClassifier(random_state=42)\n",
    "\n",
    "model_dt.fit(X_train, Y_train)\n",
    "\n",
    "y_val_pred = model_dt.predict(X_val)\n",
    "\n",
    "accuracy_score(Y_val, y_val_pred)"
   ]
  },
  {
   "cell_type": "code",
   "execution_count": 52,
   "id": "d0b8d6cc",
   "metadata": {
    "execution": {
     "iopub.execute_input": "2023-08-27T13:32:21.496670Z",
     "iopub.status.busy": "2023-08-27T13:32:21.496092Z",
     "iopub.status.idle": "2023-08-27T13:32:21.503228Z",
     "shell.execute_reply": "2023-08-27T13:32:21.501505Z"
    },
    "papermill": {
     "duration": 0.056969,
     "end_time": "2023-08-27T13:32:21.506840",
     "exception": false,
     "start_time": "2023-08-27T13:32:21.449871",
     "status": "completed"
    },
    "tags": []
   },
   "outputs": [],
   "source": [
    "# We will submit the RFC for machine learning."
   ]
  },
  {
   "cell_type": "markdown",
   "id": "ec161690",
   "metadata": {
    "papermill": {
     "duration": 0.047794,
     "end_time": "2023-08-27T13:32:21.597820",
     "exception": false,
     "start_time": "2023-08-27T13:32:21.550026",
     "status": "completed"
    },
    "tags": []
   },
   "source": [
    "## Deep learning approach <a id = \"3\"></a>\n",
    "Lets first normalize columns"
   ]
  },
  {
   "cell_type": "code",
   "execution_count": 53,
   "id": "7d55642c",
   "metadata": {
    "execution": {
     "iopub.execute_input": "2023-08-27T13:32:21.688498Z",
     "iopub.status.busy": "2023-08-27T13:32:21.687883Z",
     "iopub.status.idle": "2023-08-27T13:32:21.703878Z",
     "shell.execute_reply": "2023-08-27T13:32:21.702270Z"
    },
    "papermill": {
     "duration": 0.064618,
     "end_time": "2023-08-27T13:32:21.706817",
     "exception": false,
     "start_time": "2023-08-27T13:32:21.642199",
     "status": "completed"
    },
    "tags": []
   },
   "outputs": [],
   "source": [
    "from sklearn.preprocessing import MinMaxScaler\n",
    "\n",
    "scaler = MinMaxScaler()\n",
    "\n",
    "X_normalized = scaler.fit_transform(X)\n",
    "\n",
    "X_train, X_val, Y_train, Y_val = train_test_split(X_normalized, Y, test_size = 0.2, random_state = 42)"
   ]
  },
  {
   "cell_type": "markdown",
   "id": "075ec391",
   "metadata": {
    "papermill": {
     "duration": 0.043094,
     "end_time": "2023-08-27T13:32:21.794705",
     "exception": false,
     "start_time": "2023-08-27T13:32:21.751611",
     "status": "completed"
    },
    "tags": []
   },
   "source": [
    "### 2-layered ANN <a id = \"3.1\"></a>"
   ]
  },
  {
   "cell_type": "code",
   "execution_count": 54,
   "id": "046120c6",
   "metadata": {
    "execution": {
     "iopub.execute_input": "2023-08-27T13:32:21.883358Z",
     "iopub.status.busy": "2023-08-27T13:32:21.882863Z",
     "iopub.status.idle": "2023-08-27T13:32:26.808530Z",
     "shell.execute_reply": "2023-08-27T13:32:26.805843Z"
    },
    "papermill": {
     "duration": 4.977941,
     "end_time": "2023-08-27T13:32:26.815696",
     "exception": false,
     "start_time": "2023-08-27T13:32:21.837755",
     "status": "completed"
    },
    "tags": []
   },
   "outputs": [],
   "source": [
    "import numpy as np\n",
    "import torch\n",
    "import torch.nn as nn\n",
    "import torch.optim as optim\n",
    "\n",
    "class TwoLayeredANN(nn.Module):\n",
    "    def __init__(self, input_dim, hidden_dim):\n",
    "        super().__init__()\n",
    "        self.fc1 = nn.Linear(input_dim, hidden_dim)\n",
    "        self.relu = nn.LeakyReLU(negative_slope=1e-1)\n",
    "        self.fc2 = nn.Linear(hidden_dim, 1)\n",
    "    \n",
    "    def forward(self, x):\n",
    "        h = self.fc1(x)\n",
    "        h = self.relu(h)\n",
    "        h = self.fc2(h)\n",
    "        return torch.sigmoid(h)   "
   ]
  },
  {
   "cell_type": "code",
   "execution_count": 55,
   "id": "c916adb2",
   "metadata": {
    "execution": {
     "iopub.execute_input": "2023-08-27T13:32:26.929994Z",
     "iopub.status.busy": "2023-08-27T13:32:26.929062Z",
     "iopub.status.idle": "2023-08-27T13:32:26.993050Z",
     "shell.execute_reply": "2023-08-27T13:32:26.991921Z"
    },
    "papermill": {
     "duration": 0.12341,
     "end_time": "2023-08-27T13:32:26.996323",
     "exception": false,
     "start_time": "2023-08-27T13:32:26.872913",
     "status": "completed"
    },
    "tags": []
   },
   "outputs": [],
   "source": [
    "model = TwoLayeredANN(9, 4)\n",
    "\n",
    "criterion = nn.BCELoss()\n",
    "optimizer = optim.Adam(model.parameters(), lr=1e-3)\n",
    "\n",
    "epoch = 250"
   ]
  },
  {
   "cell_type": "code",
   "execution_count": 56,
   "id": "a005f2af",
   "metadata": {
    "execution": {
     "iopub.execute_input": "2023-08-27T13:32:27.092548Z",
     "iopub.status.busy": "2023-08-27T13:32:27.092014Z",
     "iopub.status.idle": "2023-08-27T13:32:27.146768Z",
     "shell.execute_reply": "2023-08-27T13:32:27.144739Z"
    },
    "papermill": {
     "duration": 0.10471,
     "end_time": "2023-08-27T13:32:27.149886",
     "exception": false,
     "start_time": "2023-08-27T13:32:27.045176",
     "status": "completed"
    },
    "tags": []
   },
   "outputs": [
    {
     "name": "stdout",
     "output_type": "stream",
     "text": [
      "(704, 9)\n",
      "(177, 9)\n",
      "(704,)\n",
      "(177,)\n"
     ]
    }
   ],
   "source": [
    "print(X_train.shape)\n",
    "print(X_val.shape)\n",
    "print(Y_train.shape)\n",
    "print(Y_val.shape)\n",
    "X_train_tensor = torch.FloatTensor(X_train)\n",
    "y_train_tensor = torch.FloatTensor(Y_train)\n",
    "X_val_tensor = torch.FloatTensor(X_val)\n",
    "y_val_tensor = torch.FloatTensor(Y_val.to_numpy())"
   ]
  },
  {
   "cell_type": "code",
   "execution_count": 57,
   "id": "4d8c1982",
   "metadata": {
    "execution": {
     "iopub.execute_input": "2023-08-27T13:32:27.248986Z",
     "iopub.status.busy": "2023-08-27T13:32:27.248517Z",
     "iopub.status.idle": "2023-08-27T13:32:27.745904Z",
     "shell.execute_reply": "2023-08-27T13:32:27.744674Z"
    },
    "papermill": {
     "duration": 0.552246,
     "end_time": "2023-08-27T13:32:27.748830",
     "exception": false,
     "start_time": "2023-08-27T13:32:27.196584",
     "status": "completed"
    },
    "tags": []
   },
   "outputs": [
    {
     "name": "stdout",
     "output_type": "stream",
     "text": [
      "Epoch 1, Loss: 0.6774, Val Loss: 0.6820, Val Accuracy: 0.5989\n",
      "Epoch 25, Loss: 0.6728, Val Loss: 0.6780, Val Accuracy: 0.5989\n",
      "Epoch 50, Loss: 0.6688, Val Loss: 0.6745, Val Accuracy: 0.5989\n",
      "Epoch 75, Loss: 0.6646, Val Loss: 0.6708, Val Accuracy: 0.5989\n",
      "Epoch 100, Loss: 0.6585, Val Loss: 0.6652, Val Accuracy: 0.5989\n",
      "Epoch 125, Loss: 0.6487, Val Loss: 0.6566, Val Accuracy: 0.5989\n",
      "Epoch 150, Loss: 0.6380, Val Loss: 0.6471, Val Accuracy: 0.5989\n",
      "Epoch 175, Loss: 0.6277, Val Loss: 0.6379, Val Accuracy: 0.5989\n",
      "Epoch 200, Loss: 0.6179, Val Loss: 0.6284, Val Accuracy: 0.5989\n",
      "Epoch 225, Loss: 0.6068, Val Loss: 0.6165, Val Accuracy: 0.5989\n",
      "Epoch 250, Loss: 0.5940, Val Loss: 0.6024, Val Accuracy: 0.6836\n"
     ]
    }
   ],
   "source": [
    "for e in range(epoch):\n",
    "    model.train()\n",
    "    optimizer.zero_grad()\n",
    "    outputs = model(X_train_tensor)\n",
    "    loss = criterion(outputs, y_train_tensor.view(-1, 1))\n",
    "    loss.backward()\n",
    "    optimizer.step()\n",
    "    \n",
    "    \n",
    "    model.eval()\n",
    "    with torch.no_grad():\n",
    "        val_outputs = model(X_val_tensor)\n",
    "        val_loss = criterion(val_outputs, y_val_tensor.view(-1, 1))\n",
    "        val_preds = torch.round(val_outputs)\n",
    "        val_accuracy = (val_preds == y_val_tensor.view(-1, 1)).sum().item() / len(y_val_tensor)\n",
    "    \n",
    "    \n",
    "    if (e + 1) % 25 == 0 or e == 0:\n",
    "        print(f\"Epoch {e+1}, Loss: {loss.item():.4f}, Val Loss: {val_loss.item():.4f}, Val Accuracy: {val_accuracy:.4f}\")"
   ]
  },
  {
   "cell_type": "markdown",
   "id": "ee2d8e30",
   "metadata": {
    "papermill": {
     "duration": 0.045466,
     "end_time": "2023-08-27T13:32:27.839463",
     "exception": false,
     "start_time": "2023-08-27T13:32:27.793997",
     "status": "completed"
    },
    "tags": []
   },
   "source": [
    "## Submission <a id = \"4\"></a>"
   ]
  },
  {
   "cell_type": "markdown",
   "id": "3e8f5508",
   "metadata": {
    "papermill": {
     "duration": 0.043485,
     "end_time": "2023-08-27T13:32:27.928721",
     "exception": false,
     "start_time": "2023-08-27T13:32:27.885236",
     "status": "completed"
    },
    "tags": []
   },
   "source": [
    "## Machine learning <a id = \"4.1\"></a>\n",
    "\n",
    "For machine learning, I will save random forest classifier."
   ]
  },
  {
   "cell_type": "code",
   "execution_count": 58,
   "id": "1e754e2a",
   "metadata": {
    "execution": {
     "iopub.execute_input": "2023-08-27T13:32:28.023413Z",
     "iopub.status.busy": "2023-08-27T13:32:28.022001Z",
     "iopub.status.idle": "2023-08-27T13:32:28.056401Z",
     "shell.execute_reply": "2023-08-27T13:32:28.054845Z"
    },
    "papermill": {
     "duration": 0.086617,
     "end_time": "2023-08-27T13:32:28.059396",
     "exception": false,
     "start_time": "2023-08-27T13:32:27.972779",
     "status": "completed"
    },
    "tags": []
   },
   "outputs": [
    {
     "name": "stdout",
     "output_type": "stream",
     "text": [
      "(418, 9)\n",
      "(418,)\n"
     ]
    }
   ],
   "source": [
    "X_test = test[feats]\n",
    "print(X_test.shape)\n",
    "\n",
    "y_test_pred = model_rfc.predict(X_test)\n",
    "print(y_test_pred.shape)"
   ]
  },
  {
   "cell_type": "code",
   "execution_count": 59,
   "id": "da0a10fc",
   "metadata": {
    "execution": {
     "iopub.execute_input": "2023-08-27T13:32:28.153573Z",
     "iopub.status.busy": "2023-08-27T13:32:28.153063Z",
     "iopub.status.idle": "2023-08-27T13:32:28.166991Z",
     "shell.execute_reply": "2023-08-27T13:32:28.165695Z"
    },
    "papermill": {
     "duration": 0.066549,
     "end_time": "2023-08-27T13:32:28.170246",
     "exception": false,
     "start_time": "2023-08-27T13:32:28.103697",
     "status": "completed"
    },
    "tags": []
   },
   "outputs": [],
   "source": [
    "output_ml = pd.DataFrame({\"PassengerId\": test.PassengerId, \"Survived\": y_test_pred})\n",
    "output_ml[\"Survived\"] = output_ml[\"Survived\"].astype(int)\n",
    "output_ml.to_csv(\"submission_ml.csv\", index=False)"
   ]
  },
  {
   "cell_type": "markdown",
   "id": "935f959a",
   "metadata": {
    "papermill": {
     "duration": 0.048468,
     "end_time": "2023-08-27T13:32:28.264555",
     "exception": false,
     "start_time": "2023-08-27T13:32:28.216087",
     "status": "completed"
    },
    "tags": []
   },
   "source": [
    "## Deep learning <a id = \"4.2\"></a>"
   ]
  },
  {
   "cell_type": "markdown",
   "id": "1201958b",
   "metadata": {
    "papermill": {
     "duration": 0.042259,
     "end_time": "2023-08-27T13:32:28.351807",
     "exception": false,
     "start_time": "2023-08-27T13:32:28.309548",
     "status": "completed"
    },
    "tags": []
   },
   "source": []
  },
  {
   "cell_type": "code",
   "execution_count": 60,
   "id": "ea7ad669",
   "metadata": {
    "execution": {
     "iopub.execute_input": "2023-08-27T13:32:28.444821Z",
     "iopub.status.busy": "2023-08-27T13:32:28.444233Z",
     "iopub.status.idle": "2023-08-27T13:32:28.466060Z",
     "shell.execute_reply": "2023-08-27T13:32:28.464105Z"
    },
    "papermill": {
     "duration": 0.073227,
     "end_time": "2023-08-27T13:32:28.469403",
     "exception": false,
     "start_time": "2023-08-27T13:32:28.396176",
     "status": "completed"
    },
    "tags": []
   },
   "outputs": [
    {
     "data": {
      "text/plain": [
       "(418,)"
      ]
     },
     "execution_count": 60,
     "metadata": {},
     "output_type": "execute_result"
    }
   ],
   "source": [
    "X_test_normalized = scaler.fit_transform(X_test)\n",
    "\n",
    "X_test_tensor = torch.FloatTensor(X_test_normalized)\n",
    "\n",
    "model.eval()\n",
    "with torch.no_grad():\n",
    "    test_outputs = model(X_test_tensor)\n",
    "    test_preds = torch.round(test_outputs)\n",
    "\n",
    "test_preds = test_preds.numpy().reshape(-1)\n",
    "test_preds.shape"
   ]
  },
  {
   "cell_type": "code",
   "execution_count": 61,
   "id": "d6384b82",
   "metadata": {
    "execution": {
     "iopub.execute_input": "2023-08-27T13:32:28.565594Z",
     "iopub.status.busy": "2023-08-27T13:32:28.565087Z",
     "iopub.status.idle": "2023-08-27T13:32:28.575595Z",
     "shell.execute_reply": "2023-08-27T13:32:28.574286Z"
    },
    "papermill": {
     "duration": 0.061789,
     "end_time": "2023-08-27T13:32:28.578671",
     "exception": false,
     "start_time": "2023-08-27T13:32:28.516882",
     "status": "completed"
    },
    "tags": []
   },
   "outputs": [],
   "source": [
    "output_dl = pd.DataFrame({\"PassengerId\": test.PassengerId, \"Survived\": test_preds})\n",
    "output_dl[\"Survived\"] = output_ml[\"Survived\"].astype(int)\n",
    "output_dl.to_csv(\"submission_dl.csv\", index=False)"
   ]
  },
  {
   "cell_type": "markdown",
   "id": "9f134084",
   "metadata": {
    "papermill": {
     "duration": 0.045263,
     "end_time": "2023-08-27T13:32:28.668315",
     "exception": false,
     "start_time": "2023-08-27T13:32:28.623052",
     "status": "completed"
    },
    "tags": []
   },
   "source": [
    "### Thats all. I appreciate any feedback.\n",
    "\n",
    "My final score: 0.77272"
   ]
  }
 ],
 "metadata": {
  "kernelspec": {
   "display_name": "Python 3",
   "language": "python",
   "name": "python3"
  },
  "language_info": {
   "codemirror_mode": {
    "name": "ipython",
    "version": 3
   },
   "file_extension": ".py",
   "mimetype": "text/x-python",
   "name": "python",
   "nbconvert_exporter": "python",
   "pygments_lexer": "ipython3",
   "version": "3.10.12"
  },
  "papermill": {
   "default_parameters": {},
   "duration": 43.230204,
   "end_time": "2023-08-27T13:32:31.058680",
   "environment_variables": {},
   "exception": null,
   "input_path": "__notebook__.ipynb",
   "output_path": "__notebook__.ipynb",
   "parameters": {},
   "start_time": "2023-08-27T13:31:47.828476",
   "version": "2.4.0"
  }
 },
 "nbformat": 4,
 "nbformat_minor": 5
}
