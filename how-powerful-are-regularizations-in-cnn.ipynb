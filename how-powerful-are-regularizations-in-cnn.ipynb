{
 "cells": [
  {
   "cell_type": "markdown",
   "id": "a9891de8",
   "metadata": {
    "papermill": {
     "duration": 0.021018,
     "end_time": "2023-09-09T07:45:58.427197",
     "exception": false,
     "start_time": "2023-09-09T07:45:58.406179",
     "status": "completed"
    },
    "tags": []
   },
   "source": [
    "# Introduction\n",
    "\n",
    "In this notebook I will examine the effect of regularization techniques on the output.\n",
    "\n",
    "1. [Dataset](#1)\n",
    "    1. [Preparation](#1.1)\n",
    "        1. [Normalization](#1.1.1)\n",
    "        1. [Reshaping](#1.1.2)\n",
    "        1. [Train - validation split](#1.1.3)\n",
    "1. [Core architecture](#2)\n",
    "1. [Regularization techniques](#3)\n",
    "    1. [Dropout](#3.1)\n",
    "        1. [Architecture 1](#3.1.1)\n",
    "        1. [Architecture 2](#3.1.2)\n",
    "        1. [Architecture 3](#3.1.3)\n",
    "        1. [Results](#3.1.4)\n",
    "    1. [Batch normalization](#3.2)\n",
    "        1. [Architecture 1](#3.2.1)\n",
    "        1. [Batch normalization + dropout](#3.2.2)\n",
    "    1. [Layer normalization](#3.3)\n",
    "    1. [Lasso, ridge and elastic regularization](#3.4)\n",
    "        1. [L2 regularization](#3.4.1)\n",
    "        1. [L1 regularization](#3.4.2)\n",
    "        1. [Elastic regularization](#3.4.3)\n",
    "    1. [Data augmentation](#3.5)\n",
    "1. [Final architecture](#4)"
   ]
  },
  {
   "cell_type": "markdown",
   "id": "48c6cfd3",
   "metadata": {
    "papermill": {
     "duration": 0.01469,
     "end_time": "2023-09-09T07:45:58.459086",
     "exception": false,
     "start_time": "2023-09-09T07:45:58.444396",
     "status": "completed"
    },
    "tags": []
   },
   "source": [
    "# Dataset <a id=1></a>\n",
    "\n",
    "Lets quickly check the dataset first.\n",
    "\n",
    "This dataset is well-known and well-studied dataset and 101 of the computer vision. For more information, please check the "
   ]
  },
  {
   "cell_type": "code",
   "execution_count": 1,
   "id": "721520c9",
   "metadata": {
    "_cell_guid": "b1076dfc-b9ad-4769-8c92-a6c4dae69d19",
    "_uuid": "8f2839f25d086af736a60e9eeb907d3b93b6e0e5",
    "execution": {
     "iopub.execute_input": "2023-09-09T07:45:58.493072Z",
     "iopub.status.busy": "2023-09-09T07:45:58.492752Z",
     "iopub.status.idle": "2023-09-09T07:46:01.082862Z",
     "shell.execute_reply": "2023-09-09T07:46:01.081242Z"
    },
    "papermill": {
     "duration": 2.611257,
     "end_time": "2023-09-09T07:46:01.086393",
     "exception": false,
     "start_time": "2023-09-09T07:45:58.475136",
     "status": "completed"
    },
    "tags": []
   },
   "outputs": [
    {
     "name": "stdout",
     "output_type": "stream",
     "text": [
      "/kaggle/input/digit-recognizer/sample_submission.csv\n",
      "/kaggle/input/digit-recognizer/train.csv\n",
      "/kaggle/input/digit-recognizer/test.csv\n"
     ]
    }
   ],
   "source": [
    "import numpy as np\n",
    "import pandas as pd\n",
    "\n",
    "import matplotlib.pyplot as plt\n",
    "%matplotlib inline\n",
    "plt.style.use('ggplot')\n",
    "import seaborn as sns\n",
    "\n",
    "import os\n",
    "for dirname, _, filenames in os.walk('/kaggle/input'):\n",
    "    for filename in filenames:\n",
    "        print(os.path.join(dirname, filename))        "
   ]
  },
  {
   "cell_type": "code",
   "execution_count": 2,
   "id": "13474654",
   "metadata": {
    "execution": {
     "iopub.execute_input": "2023-09-09T07:46:01.118703Z",
     "iopub.status.busy": "2023-09-09T07:46:01.117622Z",
     "iopub.status.idle": "2023-09-09T07:46:05.948298Z",
     "shell.execute_reply": "2023-09-09T07:46:05.946538Z"
    },
    "papermill": {
     "duration": 4.849526,
     "end_time": "2023-09-09T07:46:05.951495",
     "exception": false,
     "start_time": "2023-09-09T07:46:01.101969",
     "status": "completed"
    },
    "tags": []
   },
   "outputs": [],
   "source": [
    "df_train = pd.read_csv(\"/kaggle/input/digit-recognizer/train.csv\")\n",
    "df_test = pd.read_csv(\"/kaggle/input/digit-recognizer/test.csv\")"
   ]
  },
  {
   "cell_type": "code",
   "execution_count": 3,
   "id": "3b6e8066",
   "metadata": {
    "execution": {
     "iopub.execute_input": "2023-09-09T07:46:05.988236Z",
     "iopub.status.busy": "2023-09-09T07:46:05.987839Z",
     "iopub.status.idle": "2023-09-09T07:46:06.085339Z",
     "shell.execute_reply": "2023-09-09T07:46:06.084393Z"
    },
    "papermill": {
     "duration": 0.119134,
     "end_time": "2023-09-09T07:46:06.087901",
     "exception": false,
     "start_time": "2023-09-09T07:46:05.968767",
     "status": "completed"
    },
    "tags": []
   },
   "outputs": [
    {
     "name": "stdout",
     "output_type": "stream",
     "text": [
      "<class 'pandas.core.frame.DataFrame'>\n",
      "RangeIndex: 42000 entries, 0 to 41999\n",
      "Columns: 785 entries, label to pixel783\n",
      "dtypes: int64(785)\n",
      "memory usage: 251.5 MB\n",
      "None\n",
      "----------------------------------------\n",
      "<class 'pandas.core.frame.DataFrame'>\n",
      "RangeIndex: 28000 entries, 0 to 27999\n",
      "Columns: 784 entries, pixel0 to pixel783\n",
      "dtypes: int64(784)\n",
      "memory usage: 167.5 MB\n",
      "None\n"
     ]
    }
   ],
   "source": [
    "print(df_train.info()) # 42000 entries, 784 pixels on each image, and 1 label\n",
    "\n",
    "print(\"-\"*40)\n",
    "\n",
    "print(df_test.info()) # 28000 entries, 784 pixels, no label for obvious reasons"
   ]
  },
  {
   "cell_type": "code",
   "execution_count": 4,
   "id": "92a4a91b",
   "metadata": {
    "execution": {
     "iopub.execute_input": "2023-09-09T07:46:06.119023Z",
     "iopub.status.busy": "2023-09-09T07:46:06.118116Z",
     "iopub.status.idle": "2023-09-09T07:46:06.143992Z",
     "shell.execute_reply": "2023-09-09T07:46:06.142504Z"
    },
    "papermill": {
     "duration": 0.043453,
     "end_time": "2023-09-09T07:46:06.146056",
     "exception": false,
     "start_time": "2023-09-09T07:46:06.102603",
     "status": "completed"
    },
    "tags": []
   },
   "outputs": [
    {
     "data": {
      "text/html": [
       "<div>\n",
       "<style scoped>\n",
       "    .dataframe tbody tr th:only-of-type {\n",
       "        vertical-align: middle;\n",
       "    }\n",
       "\n",
       "    .dataframe tbody tr th {\n",
       "        vertical-align: top;\n",
       "    }\n",
       "\n",
       "    .dataframe thead th {\n",
       "        text-align: right;\n",
       "    }\n",
       "</style>\n",
       "<table border=\"1\" class=\"dataframe\">\n",
       "  <thead>\n",
       "    <tr style=\"text-align: right;\">\n",
       "      <th></th>\n",
       "      <th>label</th>\n",
       "      <th>pixel0</th>\n",
       "      <th>pixel1</th>\n",
       "      <th>pixel2</th>\n",
       "      <th>pixel3</th>\n",
       "      <th>pixel4</th>\n",
       "      <th>pixel5</th>\n",
       "      <th>pixel6</th>\n",
       "      <th>pixel7</th>\n",
       "      <th>pixel8</th>\n",
       "      <th>...</th>\n",
       "      <th>pixel774</th>\n",
       "      <th>pixel775</th>\n",
       "      <th>pixel776</th>\n",
       "      <th>pixel777</th>\n",
       "      <th>pixel778</th>\n",
       "      <th>pixel779</th>\n",
       "      <th>pixel780</th>\n",
       "      <th>pixel781</th>\n",
       "      <th>pixel782</th>\n",
       "      <th>pixel783</th>\n",
       "    </tr>\n",
       "  </thead>\n",
       "  <tbody>\n",
       "    <tr>\n",
       "      <th>0</th>\n",
       "      <td>1</td>\n",
       "      <td>0</td>\n",
       "      <td>0</td>\n",
       "      <td>0</td>\n",
       "      <td>0</td>\n",
       "      <td>0</td>\n",
       "      <td>0</td>\n",
       "      <td>0</td>\n",
       "      <td>0</td>\n",
       "      <td>0</td>\n",
       "      <td>...</td>\n",
       "      <td>0</td>\n",
       "      <td>0</td>\n",
       "      <td>0</td>\n",
       "      <td>0</td>\n",
       "      <td>0</td>\n",
       "      <td>0</td>\n",
       "      <td>0</td>\n",
       "      <td>0</td>\n",
       "      <td>0</td>\n",
       "      <td>0</td>\n",
       "    </tr>\n",
       "    <tr>\n",
       "      <th>1</th>\n",
       "      <td>0</td>\n",
       "      <td>0</td>\n",
       "      <td>0</td>\n",
       "      <td>0</td>\n",
       "      <td>0</td>\n",
       "      <td>0</td>\n",
       "      <td>0</td>\n",
       "      <td>0</td>\n",
       "      <td>0</td>\n",
       "      <td>0</td>\n",
       "      <td>...</td>\n",
       "      <td>0</td>\n",
       "      <td>0</td>\n",
       "      <td>0</td>\n",
       "      <td>0</td>\n",
       "      <td>0</td>\n",
       "      <td>0</td>\n",
       "      <td>0</td>\n",
       "      <td>0</td>\n",
       "      <td>0</td>\n",
       "      <td>0</td>\n",
       "    </tr>\n",
       "    <tr>\n",
       "      <th>2</th>\n",
       "      <td>1</td>\n",
       "      <td>0</td>\n",
       "      <td>0</td>\n",
       "      <td>0</td>\n",
       "      <td>0</td>\n",
       "      <td>0</td>\n",
       "      <td>0</td>\n",
       "      <td>0</td>\n",
       "      <td>0</td>\n",
       "      <td>0</td>\n",
       "      <td>...</td>\n",
       "      <td>0</td>\n",
       "      <td>0</td>\n",
       "      <td>0</td>\n",
       "      <td>0</td>\n",
       "      <td>0</td>\n",
       "      <td>0</td>\n",
       "      <td>0</td>\n",
       "      <td>0</td>\n",
       "      <td>0</td>\n",
       "      <td>0</td>\n",
       "    </tr>\n",
       "    <tr>\n",
       "      <th>3</th>\n",
       "      <td>4</td>\n",
       "      <td>0</td>\n",
       "      <td>0</td>\n",
       "      <td>0</td>\n",
       "      <td>0</td>\n",
       "      <td>0</td>\n",
       "      <td>0</td>\n",
       "      <td>0</td>\n",
       "      <td>0</td>\n",
       "      <td>0</td>\n",
       "      <td>...</td>\n",
       "      <td>0</td>\n",
       "      <td>0</td>\n",
       "      <td>0</td>\n",
       "      <td>0</td>\n",
       "      <td>0</td>\n",
       "      <td>0</td>\n",
       "      <td>0</td>\n",
       "      <td>0</td>\n",
       "      <td>0</td>\n",
       "      <td>0</td>\n",
       "    </tr>\n",
       "    <tr>\n",
       "      <th>4</th>\n",
       "      <td>0</td>\n",
       "      <td>0</td>\n",
       "      <td>0</td>\n",
       "      <td>0</td>\n",
       "      <td>0</td>\n",
       "      <td>0</td>\n",
       "      <td>0</td>\n",
       "      <td>0</td>\n",
       "      <td>0</td>\n",
       "      <td>0</td>\n",
       "      <td>...</td>\n",
       "      <td>0</td>\n",
       "      <td>0</td>\n",
       "      <td>0</td>\n",
       "      <td>0</td>\n",
       "      <td>0</td>\n",
       "      <td>0</td>\n",
       "      <td>0</td>\n",
       "      <td>0</td>\n",
       "      <td>0</td>\n",
       "      <td>0</td>\n",
       "    </tr>\n",
       "  </tbody>\n",
       "</table>\n",
       "<p>5 rows × 785 columns</p>\n",
       "</div>"
      ],
      "text/plain": [
       "   label  pixel0  pixel1  pixel2  pixel3  pixel4  pixel5  pixel6  pixel7  \\\n",
       "0      1       0       0       0       0       0       0       0       0   \n",
       "1      0       0       0       0       0       0       0       0       0   \n",
       "2      1       0       0       0       0       0       0       0       0   \n",
       "3      4       0       0       0       0       0       0       0       0   \n",
       "4      0       0       0       0       0       0       0       0       0   \n",
       "\n",
       "   pixel8  ...  pixel774  pixel775  pixel776  pixel777  pixel778  pixel779  \\\n",
       "0       0  ...         0         0         0         0         0         0   \n",
       "1       0  ...         0         0         0         0         0         0   \n",
       "2       0  ...         0         0         0         0         0         0   \n",
       "3       0  ...         0         0         0         0         0         0   \n",
       "4       0  ...         0         0         0         0         0         0   \n",
       "\n",
       "   pixel780  pixel781  pixel782  pixel783  \n",
       "0         0         0         0         0  \n",
       "1         0         0         0         0  \n",
       "2         0         0         0         0  \n",
       "3         0         0         0         0  \n",
       "4         0         0         0         0  \n",
       "\n",
       "[5 rows x 785 columns]"
      ]
     },
     "execution_count": 4,
     "metadata": {},
     "output_type": "execute_result"
    }
   ],
   "source": [
    "df_train.head()"
   ]
  },
  {
   "cell_type": "code",
   "execution_count": 5,
   "id": "134bf6a9",
   "metadata": {
    "execution": {
     "iopub.execute_input": "2023-09-09T07:46:06.178006Z",
     "iopub.status.busy": "2023-09-09T07:46:06.177643Z",
     "iopub.status.idle": "2023-09-09T07:46:06.183508Z",
     "shell.execute_reply": "2023-09-09T07:46:06.182063Z"
    },
    "papermill": {
     "duration": 0.024157,
     "end_time": "2023-09-09T07:46:06.185523",
     "exception": false,
     "start_time": "2023-09-09T07:46:06.161366",
     "status": "completed"
    },
    "tags": []
   },
   "outputs": [],
   "source": [
    "X_train = df_train.iloc[:, 1:].values\n",
    "y_train = df_train[\"label\"].values\n",
    "X_test = df_test.values"
   ]
  },
  {
   "cell_type": "code",
   "execution_count": 6,
   "id": "51b35b2c",
   "metadata": {
    "execution": {
     "iopub.execute_input": "2023-09-09T07:46:06.220674Z",
     "iopub.status.busy": "2023-09-09T07:46:06.220093Z",
     "iopub.status.idle": "2023-09-09T07:46:06.229524Z",
     "shell.execute_reply": "2023-09-09T07:46:06.226902Z"
    },
    "papermill": {
     "duration": 0.030039,
     "end_time": "2023-09-09T07:46:06.232274",
     "exception": false,
     "start_time": "2023-09-09T07:46:06.202235",
     "status": "completed"
    },
    "tags": []
   },
   "outputs": [
    {
     "name": "stdout",
     "output_type": "stream",
     "text": [
      "<class 'numpy.ndarray'> (42000, 784)\n",
      "<class 'numpy.ndarray'> (42000,)\n",
      "<class 'numpy.ndarray'> (28000, 784)\n"
     ]
    }
   ],
   "source": [
    "print(type(X_train), X_train.shape)\n",
    "\n",
    "print(type(y_train), y_train.shape)\n",
    "\n",
    "print(type(X_test), X_test.shape)"
   ]
  },
  {
   "cell_type": "markdown",
   "id": "5d7065af",
   "metadata": {
    "papermill": {
     "duration": 0.01611,
     "end_time": "2023-09-09T07:46:06.264833",
     "exception": false,
     "start_time": "2023-09-09T07:46:06.248723",
     "status": "completed"
    },
    "tags": []
   },
   "source": [
    "lets check one image"
   ]
  },
  {
   "cell_type": "code",
   "execution_count": 7,
   "id": "671ee715",
   "metadata": {
    "execution": {
     "iopub.execute_input": "2023-09-09T07:46:06.302105Z",
     "iopub.status.busy": "2023-09-09T07:46:06.301464Z",
     "iopub.status.idle": "2023-09-09T07:46:06.582089Z",
     "shell.execute_reply": "2023-09-09T07:46:06.580234Z"
    },
    "papermill": {
     "duration": 0.303078,
     "end_time": "2023-09-09T07:46:06.585264",
     "exception": false,
     "start_time": "2023-09-09T07:46:06.282186",
     "status": "completed"
    },
    "tags": []
   },
   "outputs": [
    {
     "data": {
      "image/png": "[encoded data removed]",
      "text/plain": [
       "<Figure size 640x480 with 1 Axes>"
      ]
     },
     "metadata": {},
     "output_type": "display_data"
    }
   ],
   "source": [
    "plt.imshow(X_train[10].reshape(28, 28), cmap=\"gray\")\n",
    "plt.title(y_train[10])\n",
    "plt.show()"
   ]
  },
  {
   "cell_type": "code",
   "execution_count": 8,
   "id": "26b086ba",
   "metadata": {
    "execution": {
     "iopub.execute_input": "2023-09-09T07:46:06.622749Z",
     "iopub.status.busy": "2023-09-09T07:46:06.621832Z",
     "iopub.status.idle": "2023-09-09T07:46:06.865848Z",
     "shell.execute_reply": "2023-09-09T07:46:06.863646Z"
    },
    "papermill": {
     "duration": 0.266726,
     "end_time": "2023-09-09T07:46:06.869103",
     "exception": false,
     "start_time": "2023-09-09T07:46:06.602377",
     "status": "completed"
    },
    "tags": []
   },
   "outputs": [
    {
     "data": {
      "image/png": "[encoded data removed]",
      "text/plain": [
       "<Figure size 640x480 with 1 Axes>"
      ]
     },
     "metadata": {},
     "output_type": "display_data"
    },
    {
     "name": "stdout",
     "output_type": "stream",
     "text": [
      "----------------------------------------\n",
      "[4132 4684 4177 4351 4072 3795 4137 4401 4063 4188]\n"
     ]
    }
   ],
   "source": [
    "unique_values, counts = np.unique(y_train, return_counts=True)\n",
    "\n",
    "plt.figure()\n",
    "g = sns.countplot(x = y_train, palette=\"Spectral\")\n",
    "plt.title(\"Number of classes in train set\")\n",
    "plt.show()\n",
    "\n",
    "print(\"-\"*40)\n",
    "\n",
    "print(counts)"
   ]
  },
  {
   "cell_type": "markdown",
   "id": "9ba8bb53",
   "metadata": {
    "papermill": {
     "duration": 0.017251,
     "end_time": "2023-09-09T07:46:06.976539",
     "exception": false,
     "start_time": "2023-09-09T07:46:06.959288",
     "status": "completed"
    },
    "tags": []
   },
   "source": [
    "# Preparation <a id=1.1></a>\n",
    "# Normalization <a id=1.1.1></a>\n",
    "For more details you can check my notebook about normalization [here](https://www.kaggle.com/code/atuzen/dive-into-normalization/) and [here](https://www.kaggle.com/code/atuzen/dive-into-normalization-2/) ."
   ]
  },
  {
   "cell_type": "code",
   "execution_count": 9,
   "id": "c1cca76a",
   "metadata": {
    "execution": {
     "iopub.execute_input": "2023-09-09T07:46:07.012910Z",
     "iopub.status.busy": "2023-09-09T07:46:07.012340Z",
     "iopub.status.idle": "2023-09-09T07:46:07.162008Z",
     "shell.execute_reply": "2023-09-09T07:46:07.160352Z"
    },
    "papermill": {
     "duration": 0.171366,
     "end_time": "2023-09-09T07:46:07.164846",
     "exception": false,
     "start_time": "2023-09-09T07:46:06.993480",
     "status": "completed"
    },
    "tags": []
   },
   "outputs": [],
   "source": [
    "X_train = X_train / 255\n",
    "X_test = X_test / 255"
   ]
  },
  {
   "cell_type": "markdown",
   "id": "dc232d5b",
   "metadata": {
    "papermill": {
     "duration": 0.018177,
     "end_time": "2023-09-09T07:46:07.199526",
     "exception": false,
     "start_time": "2023-09-09T07:46:07.181349",
     "status": "completed"
    },
    "tags": []
   },
   "source": [
    "# Reshaping <a id=1.1.2></a>"
   ]
  },
  {
   "cell_type": "code",
   "execution_count": 10,
   "id": "3364ed0f",
   "metadata": {
    "execution": {
     "iopub.execute_input": "2023-09-09T07:46:07.238289Z",
     "iopub.status.busy": "2023-09-09T07:46:07.237888Z",
     "iopub.status.idle": "2023-09-09T07:46:07.246080Z",
     "shell.execute_reply": "2023-09-09T07:46:07.244216Z"
    },
    "papermill": {
     "duration": 0.031368,
     "end_time": "2023-09-09T07:46:07.249356",
     "exception": false,
     "start_time": "2023-09-09T07:46:07.217988",
     "status": "completed"
    },
    "tags": []
   },
   "outputs": [],
   "source": [
    "X_train = X_train.reshape(-1, 28, 28)\n",
    "X_test  = X_test.reshape(-1, 28, 28)"
   ]
  },
  {
   "cell_type": "markdown",
   "id": "d3cdd51a",
   "metadata": {
    "papermill": {
     "duration": 0.014867,
     "end_time": "2023-09-09T07:46:07.280236",
     "exception": false,
     "start_time": "2023-09-09T07:46:07.265369",
     "status": "completed"
    },
    "tags": []
   },
   "source": [
    "# Train - validation split <a id=1.1.3></a>"
   ]
  },
  {
   "cell_type": "code",
   "execution_count": 11,
   "id": "0e9b441d",
   "metadata": {
    "execution": {
     "iopub.execute_input": "2023-09-09T07:46:07.315751Z",
     "iopub.status.busy": "2023-09-09T07:46:07.315344Z",
     "iopub.status.idle": "2023-09-09T07:46:07.981206Z",
     "shell.execute_reply": "2023-09-09T07:46:07.980050Z"
    },
    "papermill": {
     "duration": 0.687779,
     "end_time": "2023-09-09T07:46:07.984481",
     "exception": false,
     "start_time": "2023-09-09T07:46:07.296702",
     "status": "completed"
    },
    "tags": []
   },
   "outputs": [
    {
     "data": {
      "text/plain": [
       "((33600, 28, 28), (8400, 28, 28), (33600,), (8400,))"
      ]
     },
     "execution_count": 11,
     "metadata": {},
     "output_type": "execute_result"
    }
   ],
   "source": [
    "from sklearn.model_selection import train_test_split\n",
    "\n",
    "X_train, X_val, y_train, y_val = train_test_split(X_train, y_train, test_size = 0.2, random_state=0)\n",
    "X_train.shape, X_val.shape, y_train.shape, y_val.shape"
   ]
  },
  {
   "cell_type": "markdown",
   "id": "15042bf6",
   "metadata": {
    "papermill": {
     "duration": 0.020677,
     "end_time": "2023-09-09T07:46:08.023702",
     "exception": false,
     "start_time": "2023-09-09T07:46:08.003025",
     "status": "completed"
    },
    "tags": []
   },
   "source": [
    "# Core architecture <a id=2></a>\n",
    "\n",
    "Now, dataset is ready for us to work on.\n",
    "\n",
    "***Please note that our purpose here is examining the regularization techniques, we are not here to hit perfect accuracies. Therefore our base architecture will be quite simple and number of epochs will be rather low.***"
   ]
  },
  {
   "cell_type": "code",
   "execution_count": 12,
   "id": "f41be4b7",
   "metadata": {
    "execution": {
     "iopub.execute_input": "2023-09-09T07:46:08.071865Z",
     "iopub.status.busy": "2023-09-09T07:46:08.071448Z",
     "iopub.status.idle": "2023-09-09T07:46:11.971334Z",
     "shell.execute_reply": "2023-09-09T07:46:11.969694Z"
    },
    "papermill": {
     "duration": 3.926595,
     "end_time": "2023-09-09T07:46:11.974128",
     "exception": false,
     "start_time": "2023-09-09T07:46:08.047533",
     "status": "completed"
    },
    "tags": []
   },
   "outputs": [],
   "source": [
    "# Pytorch libraries\n",
    "\n",
    "import torch\n",
    "import torch.nn as nn"
   ]
  },
  {
   "cell_type": "code",
   "execution_count": 13,
   "id": "ce903429",
   "metadata": {
    "execution": {
     "iopub.execute_input": "2023-09-09T07:46:12.011344Z",
     "iopub.status.busy": "2023-09-09T07:46:12.010455Z",
     "iopub.status.idle": "2023-09-09T07:46:12.023328Z",
     "shell.execute_reply": "2023-09-09T07:46:12.020938Z"
    },
    "papermill": {
     "duration": 0.036024,
     "end_time": "2023-09-09T07:46:12.026333",
     "exception": false,
     "start_time": "2023-09-09T07:46:11.990309",
     "status": "completed"
    },
    "tags": []
   },
   "outputs": [],
   "source": [
    "## This is our base architecture. we will make changes according to this architecture.\n",
    "\n",
    "class CNN_no_reg(nn.Module):\n",
    "    def __init__(self):\n",
    "        super().__init__()\n",
    "        self.conv1 = nn.Conv2d(1, 16, kernel_size=7, padding=1)\n",
    "        self.relu1 = nn.ReLU()\n",
    "        self.pool1 = nn.MaxPool2d(kernel_size=2, stride=2)\n",
    "        self.conv2 = nn.Conv2d(16, 32, kernel_size=5, padding=1)\n",
    "        self.relu2 = nn.ReLU()\n",
    "        self.pool2 = nn.MaxPool2d(kernel_size=2, stride=2)\n",
    "        self.fc1 = nn.Linear(32 * 5 * 5, 10)\n",
    "        \n",
    "    def forward(self, x):\n",
    "        h = self.conv1(x)\n",
    "        h = self.relu1(h)\n",
    "        h = self.pool1(h)\n",
    "        h = self.conv2(h)\n",
    "        h = self.relu2(h)\n",
    "        h = self.pool2(h)\n",
    "        h = h.view(h.size(0), -1)\n",
    "        h = self.fc1(h)\n",
    "        return h"
   ]
  },
  {
   "cell_type": "code",
   "execution_count": 14,
   "id": "91c025ea",
   "metadata": {
    "execution": {
     "iopub.execute_input": "2023-09-09T07:46:12.066061Z",
     "iopub.status.busy": "2023-09-09T07:46:12.065666Z",
     "iopub.status.idle": "2023-09-09T07:46:12.169700Z",
     "shell.execute_reply": "2023-09-09T07:46:12.168310Z"
    },
    "papermill": {
     "duration": 0.126614,
     "end_time": "2023-09-09T07:46:12.172122",
     "exception": false,
     "start_time": "2023-09-09T07:46:12.045508",
     "status": "completed"
    },
    "tags": []
   },
   "outputs": [],
   "source": [
    "X_train = torch.FloatTensor(X_train)\n",
    "X_val = torch.FloatTensor(X_val)\n",
    "y_train = torch.tensor(y_train, dtype=torch.long)\n",
    "y_val = torch.tensor(y_val, dtype=torch.long)\n",
    "X_test = torch.FloatTensor(X_test)"
   ]
  },
  {
   "cell_type": "code",
   "execution_count": 15,
   "id": "15f9f800",
   "metadata": {
    "execution": {
     "iopub.execute_input": "2023-09-09T07:46:12.216122Z",
     "iopub.status.busy": "2023-09-09T07:46:12.215167Z",
     "iopub.status.idle": "2023-09-09T07:46:12.237081Z",
     "shell.execute_reply": "2023-09-09T07:46:12.235875Z"
    },
    "papermill": {
     "duration": 0.045795,
     "end_time": "2023-09-09T07:46:12.240102",
     "exception": false,
     "start_time": "2023-09-09T07:46:12.194307",
     "status": "completed"
    },
    "tags": []
   },
   "outputs": [],
   "source": [
    "base_model = CNN_no_reg()\n",
    "criterion = nn.CrossEntropyLoss()\n",
    "optimizer = torch.optim.Adam(base_model.parameters(), lr=1e-3)"
   ]
  },
  {
   "cell_type": "markdown",
   "id": "65ff405c",
   "metadata": {
    "papermill": {
     "duration": 0.018442,
     "end_time": "2023-09-09T07:46:12.278055",
     "exception": false,
     "start_time": "2023-09-09T07:46:12.259613",
     "status": "completed"
    },
    "tags": []
   },
   "source": [
    "**Lets train our core model and test the accuracy in validation set.**"
   ]
  },
  {
   "cell_type": "code",
   "execution_count": 16,
   "id": "4b80be9b",
   "metadata": {
    "execution": {
     "iopub.execute_input": "2023-09-09T07:46:12.317131Z",
     "iopub.status.busy": "2023-09-09T07:46:12.316330Z",
     "iopub.status.idle": "2023-09-09T07:49:21.001938Z",
     "shell.execute_reply": "2023-09-09T07:49:21.000995Z"
    },
    "papermill": {
     "duration": 188.707558,
     "end_time": "2023-09-09T07:49:21.004095",
     "exception": false,
     "start_time": "2023-09-09T07:46:12.296537",
     "status": "completed"
    },
    "tags": []
   },
   "outputs": [
    {
     "name": "stdout",
     "output_type": "stream",
     "text": [
      "Epoch 1\tTrain Loss: 0.0031\tValidation Loss: 0.0010\tValidation Accuracy: 0.9636\n",
      "Epoch 2\tTrain Loss: 0.0007\tValidation Loss: 0.0007\tValidation Accuracy: 0.9743\n",
      "Epoch 3\tTrain Loss: 0.0005\tValidation Loss: 0.0005\tValidation Accuracy: 0.9798\n",
      "Epoch 4\tTrain Loss: 0.0004\tValidation Loss: 0.0004\tValidation Accuracy: 0.9820\n",
      "Epoch 5\tTrain Loss: 0.0003\tValidation Loss: 0.0004\tValidation Accuracy: 0.9827\n",
      "Epoch 6\tTrain Loss: 0.0003\tValidation Loss: 0.0004\tValidation Accuracy: 0.9832\n",
      "Epoch 7\tTrain Loss: 0.0002\tValidation Loss: 0.0004\tValidation Accuracy: 0.9824\n",
      "Epoch 8\tTrain Loss: 0.0002\tValidation Loss: 0.0005\tValidation Accuracy: 0.9813\n",
      "Epoch 9\tTrain Loss: 0.0002\tValidation Loss: 0.0005\tValidation Accuracy: 0.9801\n",
      "Epoch 10\tTrain Loss: 0.0002\tValidation Loss: 0.0005\tValidation Accuracy: 0.9798\n",
      "Epoch 11\tTrain Loss: 0.0001\tValidation Loss: 0.0005\tValidation Accuracy: 0.9807\n",
      "Epoch 12\tTrain Loss: 0.0001\tValidation Loss: 0.0005\tValidation Accuracy: 0.9815\n",
      "Epoch 13\tTrain Loss: 0.0001\tValidation Loss: 0.0005\tValidation Accuracy: 0.9829\n",
      "Epoch 14\tTrain Loss: 0.0001\tValidation Loss: 0.0004\tValidation Accuracy: 0.9840\n",
      "Epoch 15\tTrain Loss: 0.0001\tValidation Loss: 0.0004\tValidation Accuracy: 0.9849\n",
      "Epoch 16\tTrain Loss: 0.0001\tValidation Loss: 0.0004\tValidation Accuracy: 0.9862\n",
      "Epoch 17\tTrain Loss: 0.0001\tValidation Loss: 0.0005\tValidation Accuracy: 0.9846\n",
      "Epoch 18\tTrain Loss: 0.0001\tValidation Loss: 0.0004\tValidation Accuracy: 0.9850\n",
      "Epoch 19\tTrain Loss: 0.0001\tValidation Loss: 0.0004\tValidation Accuracy: 0.9862\n",
      "Epoch 20\tTrain Loss: 0.0000\tValidation Loss: 0.0005\tValidation Accuracy: 0.9839\n",
      "Epoch 21\tTrain Loss: 0.0000\tValidation Loss: 0.0005\tValidation Accuracy: 0.9867\n",
      "Epoch 22\tTrain Loss: 0.0001\tValidation Loss: 0.0005\tValidation Accuracy: 0.9850\n",
      "Epoch 23\tTrain Loss: 0.0000\tValidation Loss: 0.0006\tValidation Accuracy: 0.9844\n",
      "Epoch 24\tTrain Loss: 0.0000\tValidation Loss: 0.0006\tValidation Accuracy: 0.9844\n",
      "Epoch 25\tTrain Loss: 0.0000\tValidation Loss: 0.0005\tValidation Accuracy: 0.9854\n"
     ]
    }
   ],
   "source": [
    "num_epochs = 25\n",
    "batch_size = 128\n",
    "\n",
    "for epoch in range(num_epochs):\n",
    "    base_model.train()\n",
    "    train_loss = 0.0\n",
    "    for i in range(0, len(X_train), batch_size):\n",
    "        inputs = X_train[i:i+batch_size].unsqueeze(1)\n",
    "        labels = y_train[i:i+batch_size]\n",
    "        optimizer.zero_grad()\n",
    "        outputs = base_model(inputs)\n",
    "        loss = criterion(outputs, labels)\n",
    "        loss.backward()\n",
    "        optimizer.step()\n",
    "        train_loss += loss.item()\n",
    "    \n",
    "    base_model.eval()\n",
    "    val_correct = 0\n",
    "    val_total = 0\n",
    "    val_loss = 0.0\n",
    "    with torch.no_grad():\n",
    "        for i in range(0, len(X_val), batch_size):\n",
    "            inputs = X_val[i:i+batch_size].unsqueeze(1)\n",
    "            labels = y_val[i:i+batch_size]\n",
    "            outputs = base_model(inputs)\n",
    "            loss = criterion(outputs, labels)\n",
    "            val_loss += loss.item()\n",
    "            _, predicted = torch.max(outputs, 1)\n",
    "            val_total += labels.size(0)\n",
    "            val_correct += (predicted == labels).sum().item()\n",
    "    \n",
    "    print(f\"Epoch {epoch+1}\\tTrain Loss: {(train_loss/len(X_train)):.4f}\\tValidation Loss: {(val_loss/len(X_val)):.4f}\\tValidation Accuracy: {(val_correct/val_total):.4f}\")"
   ]
  },
  {
   "cell_type": "markdown",
   "id": "fc2e6fc9",
   "metadata": {
    "papermill": {
     "duration": 0.017056,
     "end_time": "2023-09-09T07:49:21.039280",
     "exception": false,
     "start_time": "2023-09-09T07:49:21.022224",
     "status": "completed"
    },
    "tags": []
   },
   "source": [
    "**Lets create submission.csv file for base model.**\n",
    "\n",
    "*Test accuracy for this core architecture -> 0.98542*"
   ]
  },
  {
   "cell_type": "code",
   "execution_count": 17,
   "id": "38369ca0",
   "metadata": {
    "execution": {
     "iopub.execute_input": "2023-09-09T07:49:21.077175Z",
     "iopub.status.busy": "2023-09-09T07:49:21.076066Z",
     "iopub.status.idle": "2023-09-09T07:49:23.097089Z",
     "shell.execute_reply": "2023-09-09T07:49:23.095517Z"
    },
    "papermill": {
     "duration": 2.043352,
     "end_time": "2023-09-09T07:49:23.100032",
     "exception": false,
     "start_time": "2023-09-09T07:49:21.056680",
     "status": "completed"
    },
    "tags": []
   },
   "outputs": [],
   "source": [
    "predictions = []\n",
    "\n",
    "base_model.eval()\n",
    "\n",
    "with torch.no_grad():\n",
    "    for i in range(0, len(X_test), batch_size):\n",
    "        batch = X_test[i:i+batch_size].unsqueeze(1)\n",
    "        outputs = base_model(batch)\n",
    "        _, predicted = torch.max(outputs, 1)\n",
    "        predictions.extend(predicted.numpy())\n",
    "\n",
    "submission_df = pd.DataFrame({\"ImageId\": range(1, len(X_test) + 1), \"Label\": predictions})\n",
    "\n",
    "submission_df.to_csv(\"submission_base.csv\", index=False)"
   ]
  },
  {
   "cell_type": "markdown",
   "id": "a56f458c",
   "metadata": {
    "papermill": {
     "duration": 0.018728,
     "end_time": "2023-09-09T07:49:23.136666",
     "exception": false,
     "start_time": "2023-09-09T07:49:23.117938",
     "status": "completed"
    },
    "tags": []
   },
   "source": [
    "# Regularization techniques <a id=3></a>\n",
    "\n",
    "Now, it is time to make some regularization to enchance our model's accuracy."
   ]
  },
  {
   "cell_type": "markdown",
   "id": "0618b74a",
   "metadata": {
    "papermill": {
     "duration": 0.017667,
     "end_time": "2023-09-09T07:49:23.173008",
     "exception": false,
     "start_time": "2023-09-09T07:49:23.155341",
     "status": "completed"
    },
    "tags": []
   },
   "source": [
    "# Dropout <a id=3.1></a>\n",
    "\n",
    "During training dropout randomly makes some neurons to inactive. This will prevent dependencies on individual neurons and we will have a more robust model. We can apply this operation to fc and conv layers."
   ]
  },
  {
   "cell_type": "markdown",
   "id": "25062749",
   "metadata": {
    "papermill": {
     "duration": 0.01736,
     "end_time": "2023-09-09T07:49:23.207499",
     "exception": false,
     "start_time": "2023-09-09T07:49:23.190139",
     "status": "completed"
    },
    "tags": []
   },
   "source": [
    "### Architecture 1 <a id=3.1.1></a>"
   ]
  },
  {
   "cell_type": "code",
   "execution_count": 18,
   "id": "48f66dd7",
   "metadata": {
    "execution": {
     "iopub.execute_input": "2023-09-09T07:49:23.244242Z",
     "iopub.status.busy": "2023-09-09T07:49:23.243741Z",
     "iopub.status.idle": "2023-09-09T07:49:23.252276Z",
     "shell.execute_reply": "2023-09-09T07:49:23.250692Z"
    },
    "papermill": {
     "duration": 0.030075,
     "end_time": "2023-09-09T07:49:23.254977",
     "exception": false,
     "start_time": "2023-09-09T07:49:23.224902",
     "status": "completed"
    },
    "tags": []
   },
   "outputs": [],
   "source": [
    "class CNN_dropout_conv(nn.Module):\n",
    "    def __init__(self):\n",
    "        super().__init__()\n",
    "        self.conv1 = nn.Conv2d(1, 16, kernel_size=7, padding=1)\n",
    "        self.dropout1 = nn.Dropout2d(0.25)\n",
    "        self.relu1 = nn.ReLU()\n",
    "        self.pool1 = nn.MaxPool2d(kernel_size=2, stride=2)\n",
    "        self.conv2 = nn.Conv2d(16, 32, kernel_size=5, padding=1)\n",
    "        self.dropout2 = nn.Dropout2d(0.25)\n",
    "        self.relu2 = nn.ReLU()\n",
    "        self.pool2 = nn.MaxPool2d(kernel_size=2, stride=2)\n",
    "        self.fc1 = nn.Linear(32 * 5 * 5, 10)\n",
    "        \n",
    "    def forward(self, x):\n",
    "        h = self.conv1(x)\n",
    "        h = self.dropout1(h)\n",
    "        h = self.relu1(h)\n",
    "        h = self.pool1(h)\n",
    "        h = self.conv2(h)\n",
    "        h = self.dropout2(h)\n",
    "        h = self.relu2(h)\n",
    "        h = self.pool2(h)\n",
    "        h = h.view(h.size(0), -1)\n",
    "        h = self.fc1(h)\n",
    "        return h"
   ]
  },
  {
   "cell_type": "code",
   "execution_count": 19,
   "id": "9cbd3c61",
   "metadata": {
    "execution": {
     "iopub.execute_input": "2023-09-09T07:49:23.290914Z",
     "iopub.status.busy": "2023-09-09T07:49:23.290518Z",
     "iopub.status.idle": "2023-09-09T07:49:23.296627Z",
     "shell.execute_reply": "2023-09-09T07:49:23.295638Z"
    },
    "papermill": {
     "duration": 0.027075,
     "end_time": "2023-09-09T07:49:23.299045",
     "exception": false,
     "start_time": "2023-09-09T07:49:23.271970",
     "status": "completed"
    },
    "tags": []
   },
   "outputs": [],
   "source": [
    "model_drop_1 = CNN_dropout_conv()\n",
    "criterion = nn.CrossEntropyLoss()\n",
    "optimizer = torch.optim.Adam(model_drop_1.parameters(), lr=1e-3)"
   ]
  },
  {
   "cell_type": "code",
   "execution_count": 20,
   "id": "f0595e9a",
   "metadata": {
    "execution": {
     "iopub.execute_input": "2023-09-09T07:49:23.336949Z",
     "iopub.status.busy": "2023-09-09T07:49:23.336282Z",
     "iopub.status.idle": "2023-09-09T07:52:27.387005Z",
     "shell.execute_reply": "2023-09-09T07:52:27.385925Z"
    },
    "papermill": {
     "duration": 184.072749,
     "end_time": "2023-09-09T07:52:27.389323",
     "exception": false,
     "start_time": "2023-09-09T07:49:23.316574",
     "status": "completed"
    },
    "tags": []
   },
   "outputs": [
    {
     "name": "stdout",
     "output_type": "stream",
     "text": [
      "Epoch 1\tTrain Loss: 0.0037\tValidation Loss: 0.0011\tValidation Accuracy: 0.9577\n",
      "Epoch 2\tTrain Loss: 0.0011\tValidation Loss: 0.0007\tValidation Accuracy: 0.9712\n",
      "Epoch 3\tTrain Loss: 0.0008\tValidation Loss: 0.0006\tValidation Accuracy: 0.9775\n",
      "Epoch 4\tTrain Loss: 0.0006\tValidation Loss: 0.0005\tValidation Accuracy: 0.9802\n",
      "Epoch 5\tTrain Loss: 0.0006\tValidation Loss: 0.0005\tValidation Accuracy: 0.9804\n",
      "Epoch 6\tTrain Loss: 0.0005\tValidation Loss: 0.0005\tValidation Accuracy: 0.9812\n",
      "Epoch 7\tTrain Loss: 0.0005\tValidation Loss: 0.0004\tValidation Accuracy: 0.9849\n",
      "Epoch 8\tTrain Loss: 0.0004\tValidation Loss: 0.0004\tValidation Accuracy: 0.9855\n",
      "Epoch 9\tTrain Loss: 0.0004\tValidation Loss: 0.0004\tValidation Accuracy: 0.9845\n",
      "Epoch 10\tTrain Loss: 0.0003\tValidation Loss: 0.0003\tValidation Accuracy: 0.9858\n",
      "Epoch 11\tTrain Loss: 0.0003\tValidation Loss: 0.0003\tValidation Accuracy: 0.9865\n",
      "Epoch 12\tTrain Loss: 0.0003\tValidation Loss: 0.0003\tValidation Accuracy: 0.9875\n",
      "Epoch 13\tTrain Loss: 0.0003\tValidation Loss: 0.0003\tValidation Accuracy: 0.9881\n",
      "Epoch 14\tTrain Loss: 0.0003\tValidation Loss: 0.0003\tValidation Accuracy: 0.9879\n",
      "Epoch 15\tTrain Loss: 0.0003\tValidation Loss: 0.0004\tValidation Accuracy: 0.9873\n",
      "Epoch 16\tTrain Loss: 0.0003\tValidation Loss: 0.0003\tValidation Accuracy: 0.9881\n",
      "Epoch 17\tTrain Loss: 0.0003\tValidation Loss: 0.0003\tValidation Accuracy: 0.9887\n",
      "Epoch 18\tTrain Loss: 0.0002\tValidation Loss: 0.0003\tValidation Accuracy: 0.9887\n",
      "Epoch 19\tTrain Loss: 0.0002\tValidation Loss: 0.0003\tValidation Accuracy: 0.9887\n",
      "Epoch 20\tTrain Loss: 0.0002\tValidation Loss: 0.0003\tValidation Accuracy: 0.9889\n",
      "Epoch 21\tTrain Loss: 0.0002\tValidation Loss: 0.0003\tValidation Accuracy: 0.9881\n",
      "Epoch 22\tTrain Loss: 0.0002\tValidation Loss: 0.0003\tValidation Accuracy: 0.9887\n",
      "Epoch 23\tTrain Loss: 0.0002\tValidation Loss: 0.0003\tValidation Accuracy: 0.9880\n",
      "Epoch 24\tTrain Loss: 0.0002\tValidation Loss: 0.0003\tValidation Accuracy: 0.9892\n",
      "Epoch 25\tTrain Loss: 0.0002\tValidation Loss: 0.0003\tValidation Accuracy: 0.9886\n"
     ]
    }
   ],
   "source": [
    "num_epochs = 25\n",
    "batch_size = 128\n",
    "\n",
    "for epoch in range(num_epochs):\n",
    "    model_drop_1.train()\n",
    "    train_loss = 0.0\n",
    "    for i in range(0, len(X_train), batch_size):\n",
    "        inputs = X_train[i:i+batch_size].unsqueeze(1)\n",
    "        labels = y_train[i:i+batch_size]\n",
    "        optimizer.zero_grad()\n",
    "        outputs = model_drop_1(inputs)\n",
    "        loss = criterion(outputs, labels)\n",
    "        loss.backward()\n",
    "        optimizer.step()\n",
    "        train_loss += loss.item()\n",
    "    \n",
    "    model_drop_1.eval()\n",
    "    val_correct = 0\n",
    "    val_total = 0\n",
    "    val_loss = 0.0\n",
    "    with torch.no_grad():\n",
    "        for i in range(0, len(X_val), batch_size):\n",
    "            inputs = X_val[i:i+batch_size].unsqueeze(1)\n",
    "            labels = y_val[i:i+batch_size]\n",
    "            outputs = model_drop_1(inputs)\n",
    "            loss = criterion(outputs, labels)\n",
    "            val_loss += loss.item()\n",
    "            _, predicted = torch.max(outputs, 1)\n",
    "            val_total += labels.size(0)\n",
    "            val_correct += (predicted == labels).sum().item()\n",
    "    \n",
    "    print(f\"Epoch {epoch+1}\\tTrain Loss: {(train_loss/len(X_train)):.4f}\\tValidation Loss: {(val_loss/len(X_val)):.4f}\\tValidation Accuracy: {(val_correct/val_total):.4f}\")\n",
    "    \n",
    "\n",
    "    predictions = []\n",
    "\n",
    "model_drop_1.eval()\n",
    "\n",
    "with torch.no_grad():\n",
    "    for i in range(0, len(X_test), batch_size):\n",
    "        batch = X_test[i:i+batch_size].unsqueeze(1)\n",
    "        outputs = model_drop_1(batch)\n",
    "        _, predicted = torch.max(outputs, 1)\n",
    "        predictions.extend(predicted.numpy())\n",
    "\n",
    "submission_df = pd.DataFrame({\"ImageId\": range(1, len(X_test) + 1), \"Label\": predictions})\n",
    "\n",
    "submission_df.to_csv(\"submission_drop_1.csv\", index=False)\n",
    "\n",
    "# Final score 0.9885 on test set."
   ]
  },
  {
   "cell_type": "markdown",
   "id": "f3fe857f",
   "metadata": {
    "papermill": {
     "duration": 0.017684,
     "end_time": "2023-09-09T07:52:27.424938",
     "exception": false,
     "start_time": "2023-09-09T07:52:27.407254",
     "status": "completed"
    },
    "tags": []
   },
   "source": [
    "### Architecture 2 <a id=3.1.2></a>"
   ]
  },
  {
   "cell_type": "code",
   "execution_count": 21,
   "id": "21ffe0a4",
   "metadata": {
    "execution": {
     "iopub.execute_input": "2023-09-09T07:52:27.462124Z",
     "iopub.status.busy": "2023-09-09T07:52:27.461758Z",
     "iopub.status.idle": "2023-09-09T07:52:27.469074Z",
     "shell.execute_reply": "2023-09-09T07:52:27.468099Z"
    },
    "papermill": {
     "duration": 0.029125,
     "end_time": "2023-09-09T07:52:27.471716",
     "exception": false,
     "start_time": "2023-09-09T07:52:27.442591",
     "status": "completed"
    },
    "tags": []
   },
   "outputs": [],
   "source": [
    "class CNN_dropout_fc(nn.Module):\n",
    "    def __init__(self):\n",
    "        super().__init__()\n",
    "        self.conv1 = nn.Conv2d(1, 16, kernel_size=7, padding=1)\n",
    "        self.relu1 = nn.ReLU()\n",
    "        self.pool1 = nn.MaxPool2d(kernel_size=2, stride=2)\n",
    "        self.conv2 = nn.Conv2d(16, 32, kernel_size=5, padding=1)\n",
    "        self.relu2 = nn.ReLU()\n",
    "        self.pool2 = nn.MaxPool2d(kernel_size=2, stride=2)\n",
    "        self.fc1 = nn.Linear(32 * 5 * 5, 10)\n",
    "        self.dropout = nn.Dropout(0.5)\n",
    "        \n",
    "    def forward(self, x):\n",
    "        h = self.conv1(x)\n",
    "        h = self.relu1(h)\n",
    "        h = self.pool1(h)\n",
    "        h = self.conv2(h)\n",
    "        h = self.relu2(h)\n",
    "        h = self.pool2(h)\n",
    "        h = h.view(h.size(0), -1)\n",
    "        h = self.fc1(h)\n",
    "        h = self.dropout(h)\n",
    "        return h"
   ]
  },
  {
   "cell_type": "code",
   "execution_count": 22,
   "id": "5a203e56",
   "metadata": {
    "execution": {
     "iopub.execute_input": "2023-09-09T07:52:27.510831Z",
     "iopub.status.busy": "2023-09-09T07:52:27.509734Z",
     "iopub.status.idle": "2023-09-09T07:55:13.852332Z",
     "shell.execute_reply": "2023-09-09T07:55:13.851371Z"
    },
    "papermill": {
     "duration": 166.364609,
     "end_time": "2023-09-09T07:55:13.854518",
     "exception": false,
     "start_time": "2023-09-09T07:52:27.489909",
     "status": "completed"
    },
    "tags": []
   },
   "outputs": [
    {
     "name": "stdout",
     "output_type": "stream",
     "text": [
      "Epoch 1\tTrain Loss: 0.0092\tValidation Loss: 0.0014\tValidation Accuracy: 0.9611\n",
      "Epoch 2\tTrain Loss: 0.0074\tValidation Loss: 0.0009\tValidation Accuracy: 0.9679\n",
      "Epoch 3\tTrain Loss: 0.0071\tValidation Loss: 0.0008\tValidation Accuracy: 0.9780\n",
      "Epoch 4\tTrain Loss: 0.0070\tValidation Loss: 0.0006\tValidation Accuracy: 0.9806\n",
      "Epoch 5\tTrain Loss: 0.0070\tValidation Loss: 0.0005\tValidation Accuracy: 0.9835\n",
      "Epoch 6\tTrain Loss: 0.0069\tValidation Loss: 0.0005\tValidation Accuracy: 0.9815\n",
      "Epoch 7\tTrain Loss: 0.0069\tValidation Loss: 0.0004\tValidation Accuracy: 0.9838\n",
      "Epoch 8\tTrain Loss: 0.0068\tValidation Loss: 0.0004\tValidation Accuracy: 0.9864\n",
      "Epoch 9\tTrain Loss: 0.0068\tValidation Loss: 0.0003\tValidation Accuracy: 0.9870\n",
      "Epoch 10\tTrain Loss: 0.0067\tValidation Loss: 0.0003\tValidation Accuracy: 0.9877\n",
      "Epoch 11\tTrain Loss: 0.0067\tValidation Loss: 0.0003\tValidation Accuracy: 0.9883\n",
      "Epoch 12\tTrain Loss: 0.0068\tValidation Loss: 0.0003\tValidation Accuracy: 0.9875\n",
      "Epoch 13\tTrain Loss: 0.0067\tValidation Loss: 0.0003\tValidation Accuracy: 0.9885\n",
      "Epoch 14\tTrain Loss: 0.0067\tValidation Loss: 0.0003\tValidation Accuracy: 0.9870\n",
      "Epoch 15\tTrain Loss: 0.0067\tValidation Loss: 0.0003\tValidation Accuracy: 0.9863\n",
      "Epoch 16\tTrain Loss: 0.0067\tValidation Loss: 0.0003\tValidation Accuracy: 0.9880\n",
      "Epoch 17\tTrain Loss: 0.0067\tValidation Loss: 0.0003\tValidation Accuracy: 0.9890\n",
      "Epoch 18\tTrain Loss: 0.0067\tValidation Loss: 0.0003\tValidation Accuracy: 0.9873\n",
      "Epoch 19\tTrain Loss: 0.0067\tValidation Loss: 0.0003\tValidation Accuracy: 0.9888\n",
      "Epoch 20\tTrain Loss: 0.0066\tValidation Loss: 0.0003\tValidation Accuracy: 0.9906\n",
      "Epoch 21\tTrain Loss: 0.0066\tValidation Loss: 0.0003\tValidation Accuracy: 0.9876\n",
      "Epoch 22\tTrain Loss: 0.0066\tValidation Loss: 0.0003\tValidation Accuracy: 0.9883\n",
      "Epoch 23\tTrain Loss: 0.0066\tValidation Loss: 0.0003\tValidation Accuracy: 0.9880\n",
      "Epoch 24\tTrain Loss: 0.0066\tValidation Loss: 0.0003\tValidation Accuracy: 0.9898\n",
      "Epoch 25\tTrain Loss: 0.0066\tValidation Loss: 0.0003\tValidation Accuracy: 0.9890\n"
     ]
    }
   ],
   "source": [
    "model_drop_2 = CNN_dropout_fc()\n",
    "criterion = nn.CrossEntropyLoss()\n",
    "optimizer = torch.optim.Adam(model_drop_2.parameters(), lr=1e-3)\n",
    "\n",
    "num_epochs = 25\n",
    "batch_size = 128\n",
    "\n",
    "for epoch in range(num_epochs):\n",
    "    model_drop_2.train()\n",
    "    train_loss = 0.0\n",
    "    for i in range(0, len(X_train), batch_size):\n",
    "        inputs = X_train[i:i+batch_size].unsqueeze(1)\n",
    "        labels = y_train[i:i+batch_size]\n",
    "        optimizer.zero_grad()\n",
    "        outputs = model_drop_2(inputs)\n",
    "        loss = criterion(outputs, labels)\n",
    "        loss.backward()\n",
    "        optimizer.step()\n",
    "        train_loss += loss.item()\n",
    "    \n",
    "    model_drop_2.eval()\n",
    "    val_correct = 0\n",
    "    val_total = 0\n",
    "    val_loss = 0.0\n",
    "    with torch.no_grad():\n",
    "        for i in range(0, len(X_val), batch_size):\n",
    "            inputs = X_val[i:i+batch_size].unsqueeze(1)\n",
    "            labels = y_val[i:i+batch_size]\n",
    "            outputs = model_drop_2(inputs)\n",
    "            loss = criterion(outputs, labels)\n",
    "            val_loss += loss.item()\n",
    "            _, predicted = torch.max(outputs, 1)\n",
    "            val_total += labels.size(0)\n",
    "            val_correct += (predicted == labels).sum().item()\n",
    "    \n",
    "    print(f\"Epoch {epoch+1}\\tTrain Loss: {(train_loss/len(X_train)):.4f}\\tValidation Loss: {(val_loss/len(X_val)):.4f}\\tValidation Accuracy: {(val_correct/val_total):.4f}\")\n",
    "    \n",
    "\n",
    "    predictions = []\n",
    "\n",
    "model_drop_2.eval()\n",
    "\n",
    "with torch.no_grad():\n",
    "    for i in range(0, len(X_test), batch_size):\n",
    "        batch = X_test[i:i+batch_size].unsqueeze(1)\n",
    "        outputs = model_drop_2(batch)\n",
    "        _, predicted = torch.max(outputs, 1)\n",
    "        predictions.extend(predicted.numpy())\n",
    "\n",
    "submission_df = pd.DataFrame({\"ImageId\": range(1, len(X_test) + 1), \"Label\": predictions})\n",
    "\n",
    "submission_df.to_csv(\"submission_drop_2.csv\", index=False)\n",
    "\n",
    "# Final score 0.98925 on test set."
   ]
  },
  {
   "cell_type": "markdown",
   "id": "9b0cfc52",
   "metadata": {
    "papermill": {
     "duration": 0.018532,
     "end_time": "2023-09-09T07:55:13.892162",
     "exception": false,
     "start_time": "2023-09-09T07:55:13.873630",
     "status": "completed"
    },
    "tags": []
   },
   "source": [
    "### Architecture 3 <a id=3.1.3></a>"
   ]
  },
  {
   "cell_type": "code",
   "execution_count": 23,
   "id": "18053cb7",
   "metadata": {
    "execution": {
     "iopub.execute_input": "2023-09-09T07:55:13.931636Z",
     "iopub.status.busy": "2023-09-09T07:55:13.931290Z",
     "iopub.status.idle": "2023-09-09T07:55:13.939783Z",
     "shell.execute_reply": "2023-09-09T07:55:13.938692Z"
    },
    "papermill": {
     "duration": 0.03014,
     "end_time": "2023-09-09T07:55:13.941433",
     "exception": false,
     "start_time": "2023-09-09T07:55:13.911293",
     "status": "completed"
    },
    "tags": []
   },
   "outputs": [],
   "source": [
    "class CNN_dropout(nn.Module):\n",
    "    def __init__(self):\n",
    "        super().__init__()\n",
    "        self.conv1 = nn.Conv2d(1, 16, kernel_size=7, padding=1)\n",
    "        self.dropout1 = nn.Dropout2d(0.25)\n",
    "        self.relu1 = nn.ReLU()\n",
    "        self.pool1 = nn.MaxPool2d(kernel_size=2, stride=2)\n",
    "        self.conv2 = nn.Conv2d(16, 32, kernel_size=5, padding=1)\n",
    "        self.dropout2 = nn.Dropout2d(0.25)\n",
    "        self.relu2 = nn.ReLU()\n",
    "        self.pool2 = nn.MaxPool2d(kernel_size=2, stride=2)\n",
    "        self.fc1 = nn.Linear(32 * 5 * 5, 10)\n",
    "        self.dropout = nn.Dropout(0.5)\n",
    "        \n",
    "    def forward(self, x):\n",
    "        h = self.conv1(x)\n",
    "        h = self.dropout1(h)\n",
    "        h = self.relu1(h)\n",
    "        h = self.pool1(h)\n",
    "        h = self.conv2(h)\n",
    "        h = self.dropout2(h)\n",
    "        h = self.relu2(h)\n",
    "        h = self.pool2(h)\n",
    "        h = h.view(h.size(0), -1)\n",
    "        h = self.fc1(h)\n",
    "        h = self.dropout(h)\n",
    "        return h"
   ]
  },
  {
   "cell_type": "code",
   "execution_count": 24,
   "id": "131fc34a",
   "metadata": {
    "execution": {
     "iopub.execute_input": "2023-09-09T07:55:13.981387Z",
     "iopub.status.busy": "2023-09-09T07:55:13.980744Z",
     "iopub.status.idle": "2023-09-09T07:58:01.387694Z",
     "shell.execute_reply": "2023-09-09T07:58:01.386333Z"
    },
    "papermill": {
     "duration": 167.429767,
     "end_time": "2023-09-09T07:58:01.390112",
     "exception": false,
     "start_time": "2023-09-09T07:55:13.960345",
     "status": "completed"
    },
    "tags": []
   },
   "outputs": [
    {
     "name": "stdout",
     "output_type": "stream",
     "text": [
      "Epoch 1\tTrain Loss: 0.0097\tValidation Loss: 0.0015\tValidation Accuracy: 0.9583\n",
      "Epoch 2\tTrain Loss: 0.0077\tValidation Loss: 0.0009\tValidation Accuracy: 0.9724\n",
      "Epoch 3\tTrain Loss: 0.0075\tValidation Loss: 0.0007\tValidation Accuracy: 0.9755\n",
      "Epoch 4\tTrain Loss: 0.0073\tValidation Loss: 0.0006\tValidation Accuracy: 0.9795\n",
      "Epoch 5\tTrain Loss: 0.0072\tValidation Loss: 0.0005\tValidation Accuracy: 0.9810\n",
      "Epoch 6\tTrain Loss: 0.0072\tValidation Loss: 0.0005\tValidation Accuracy: 0.9824\n",
      "Epoch 7\tTrain Loss: 0.0070\tValidation Loss: 0.0004\tValidation Accuracy: 0.9846\n",
      "Epoch 8\tTrain Loss: 0.0070\tValidation Loss: 0.0004\tValidation Accuracy: 0.9862\n",
      "Epoch 9\tTrain Loss: 0.0070\tValidation Loss: 0.0004\tValidation Accuracy: 0.9852\n",
      "Epoch 10\tTrain Loss: 0.0070\tValidation Loss: 0.0004\tValidation Accuracy: 0.9864\n",
      "Epoch 11\tTrain Loss: 0.0069\tValidation Loss: 0.0004\tValidation Accuracy: 0.9880\n",
      "Epoch 12\tTrain Loss: 0.0069\tValidation Loss: 0.0004\tValidation Accuracy: 0.9875\n",
      "Epoch 13\tTrain Loss: 0.0069\tValidation Loss: 0.0003\tValidation Accuracy: 0.9879\n",
      "Epoch 14\tTrain Loss: 0.0069\tValidation Loss: 0.0003\tValidation Accuracy: 0.9880\n",
      "Epoch 15\tTrain Loss: 0.0069\tValidation Loss: 0.0003\tValidation Accuracy: 0.9882\n",
      "Epoch 16\tTrain Loss: 0.0069\tValidation Loss: 0.0003\tValidation Accuracy: 0.9886\n",
      "Epoch 17\tTrain Loss: 0.0069\tValidation Loss: 0.0003\tValidation Accuracy: 0.9880\n",
      "Epoch 18\tTrain Loss: 0.0069\tValidation Loss: 0.0003\tValidation Accuracy: 0.9893\n",
      "Epoch 19\tTrain Loss: 0.0069\tValidation Loss: 0.0003\tValidation Accuracy: 0.9887\n",
      "Epoch 20\tTrain Loss: 0.0068\tValidation Loss: 0.0003\tValidation Accuracy: 0.9893\n",
      "Epoch 21\tTrain Loss: 0.0068\tValidation Loss: 0.0003\tValidation Accuracy: 0.9899\n",
      "Epoch 22\tTrain Loss: 0.0069\tValidation Loss: 0.0003\tValidation Accuracy: 0.9899\n",
      "Epoch 23\tTrain Loss: 0.0069\tValidation Loss: 0.0003\tValidation Accuracy: 0.9894\n",
      "Epoch 24\tTrain Loss: 0.0068\tValidation Loss: 0.0003\tValidation Accuracy: 0.9892\n",
      "Epoch 25\tTrain Loss: 0.0068\tValidation Loss: 0.0003\tValidation Accuracy: 0.9899\n"
     ]
    }
   ],
   "source": [
    "model_dropout = CNN_dropout()\n",
    "criterion = nn.CrossEntropyLoss()\n",
    "optimizer = torch.optim.Adam(model_dropout.parameters(), lr=1e-3)\n",
    "\n",
    "num_epochs = 25\n",
    "batch_size = 128\n",
    "\n",
    "for epoch in range(num_epochs):\n",
    "    model_dropout.train()\n",
    "    train_loss = 0.0\n",
    "    for i in range(0, len(X_train), batch_size):\n",
    "        inputs = X_train[i:i+batch_size].unsqueeze(1)\n",
    "        labels = y_train[i:i+batch_size]\n",
    "        optimizer.zero_grad()\n",
    "        outputs = model_dropout(inputs)\n",
    "        loss = criterion(outputs, labels)\n",
    "        loss.backward()\n",
    "        optimizer.step()\n",
    "        train_loss += loss.item()\n",
    "    \n",
    "    model_dropout.eval()\n",
    "    val_correct = 0\n",
    "    val_total = 0\n",
    "    val_loss = 0.0\n",
    "    with torch.no_grad():\n",
    "        for i in range(0, len(X_val), batch_size):\n",
    "            inputs = X_val[i:i+batch_size].unsqueeze(1)\n",
    "            labels = y_val[i:i+batch_size]\n",
    "            outputs = model_dropout(inputs)\n",
    "            loss = criterion(outputs, labels)\n",
    "            val_loss += loss.item()\n",
    "            _, predicted = torch.max(outputs, 1)\n",
    "            val_total += labels.size(0)\n",
    "            val_correct += (predicted == labels).sum().item()\n",
    "    \n",
    "    print(f\"Epoch {epoch+1}\\tTrain Loss: {(train_loss/len(X_train)):.4f}\\tValidation Loss: {(val_loss/len(X_val)):.4f}\\tValidation Accuracy: {(val_correct/val_total):.4f}\")\n",
    "    \n",
    "\n",
    "predictions = []\n",
    "\n",
    "model_dropout.eval()\n",
    "\n",
    "with torch.no_grad():\n",
    "    for i in range(0, len(X_test), batch_size):\n",
    "        batch = X_test[i:i+batch_size].unsqueeze(1)\n",
    "        outputs = model_dropout(batch)\n",
    "        _, predicted = torch.max(outputs, 1)\n",
    "        predictions.extend(predicted.numpy())\n",
    "\n",
    "submission_df = pd.DataFrame({\"ImageId\": range(1, len(X_test) + 1), \"Label\": predictions})\n",
    "\n",
    "submission_df.to_csv(\"submission_drop_3.csv\", index=False)\n",
    "\n",
    "# Final score 0.98846 on test set."
   ]
  },
  {
   "cell_type": "markdown",
   "id": "fe689059",
   "metadata": {
    "papermill": {
     "duration": 0.021457,
     "end_time": "2023-09-09T07:58:01.432239",
     "exception": false,
     "start_time": "2023-09-09T07:58:01.410782",
     "status": "completed"
    },
    "tags": []
   },
   "source": [
    "### Results <a id=3.1.4></a>\n",
    "\n",
    "In the first architecture, we add two dropout layers after the convolutional layers.\n",
    "\n",
    "In the second architecture dropout layer added after fully connected layer.\n",
    "\n",
    "The third architecture combines the first and second."
   ]
  },
  {
   "cell_type": "code",
   "execution_count": 25,
   "id": "564c5040",
   "metadata": {
    "execution": {
     "iopub.execute_input": "2023-09-09T07:58:01.477391Z",
     "iopub.status.busy": "2023-09-09T07:58:01.477030Z",
     "iopub.status.idle": "2023-09-09T07:58:01.659439Z",
     "shell.execute_reply": "2023-09-09T07:58:01.658444Z"
    },
    "papermill": {
     "duration": 0.207742,
     "end_time": "2023-09-09T07:58:01.661877",
     "exception": false,
     "start_time": "2023-09-09T07:58:01.454135",
     "status": "completed"
    },
    "tags": []
   },
   "outputs": [
    {
     "data": {
      "image/png": "[encoded data removed]",
      "text/plain": [
       "<Figure size 640x480 with 1 Axes>"
      ]
     },
     "metadata": {},
     "output_type": "display_data"
    }
   ],
   "source": [
    "# I add the results manually here, I am pretty sure there are better ways to do this. But we have a lot to do still.\n",
    "\n",
    "y_lims = [0.97, .993]\n",
    "results = [0.98542, 0.9885, 0.98925, 0.98846]\n",
    "labels = [\"Base\", \"Conv Dropout\", \"FC Dropout\", \"Conv + FC dropout\"]\n",
    "\n",
    "plt.figure()\n",
    "plt.title(\"Impact of dropout compared to base architecture\")\n",
    "plt.ylabel(\"Accuracy\")\n",
    "plt.xticks(fontsize = 8, rotation=45)\n",
    "plt.bar(labels, results, label=labels)\n",
    "ax = plt.gca()\n",
    "ax.set_ylim(y_lims)\n",
    "plt.show()"
   ]
  },
  {
   "cell_type": "markdown",
   "id": "f24b21ea",
   "metadata": {
    "papermill": {
     "duration": 0.020491,
     "end_time": "2023-09-09T07:58:01.704191",
     "exception": false,
     "start_time": "2023-09-09T07:58:01.683700",
     "status": "completed"
    },
    "tags": []
   },
   "source": [
    "**In my experience, dropout shows differences when the number of epochs increases. If you use a low number of epochs, dropout may perform worse.**\n",
    "\n",
    "**Note that dropout operation is based on randomness, therefore your results may differ from mine.**\n",
    "\n",
    "**Overall, adding dropout regularization improves the performance on unseen data by a decent amount.**"
   ]
  },
  {
   "cell_type": "markdown",
   "id": "aca03257",
   "metadata": {
    "papermill": {
     "duration": 0.020662,
     "end_time": "2023-09-09T07:58:01.745517",
     "exception": false,
     "start_time": "2023-09-09T07:58:01.724855",
     "status": "completed"
    },
    "tags": []
   },
   "source": [
    "# Batch normalization <a id=3.2></a>"
   ]
  },
  {
   "cell_type": "markdown",
   "id": "6d0c5444",
   "metadata": {
    "papermill": {
     "duration": 0.020406,
     "end_time": "2023-09-09T07:58:01.786349",
     "exception": false,
     "start_time": "2023-09-09T07:58:01.765943",
     "status": "completed"
    },
    "tags": []
   },
   "source": [
    "### Architecture 1 <a id=3.2.1></a>"
   ]
  },
  {
   "cell_type": "code",
   "execution_count": 26,
   "id": "9a535df7",
   "metadata": {
    "execution": {
     "iopub.execute_input": "2023-09-09T07:58:01.829827Z",
     "iopub.status.busy": "2023-09-09T07:58:01.828977Z",
     "iopub.status.idle": "2023-09-09T07:58:01.836459Z",
     "shell.execute_reply": "2023-09-09T07:58:01.835795Z"
    },
    "papermill": {
     "duration": 0.030855,
     "end_time": "2023-09-09T07:58:01.838189",
     "exception": false,
     "start_time": "2023-09-09T07:58:01.807334",
     "status": "completed"
    },
    "tags": []
   },
   "outputs": [],
   "source": [
    "class CNN_batch_conv(nn.Module):\n",
    "    def __init__(self):\n",
    "        super().__init__()\n",
    "        self.conv1 = nn.Conv2d(1, 16, kernel_size=7, padding=1)\n",
    "        self.batch1 = nn.BatchNorm2d(16)\n",
    "        self.relu1 = nn.ReLU()\n",
    "        self.pool1 = nn.MaxPool2d(kernel_size=2, stride=2)\n",
    "        self.conv2 = nn.Conv2d(16, 32, kernel_size=5, padding=1)\n",
    "        self.batch2 = nn.BatchNorm2d(32)\n",
    "        self.relu2 = nn.ReLU()\n",
    "        self.pool2 = nn.MaxPool2d(kernel_size=2, stride=2)\n",
    "        self.fc1 = nn.Linear(32 * 5 * 5, 10)\n",
    "        \n",
    "    def forward(self, x):\n",
    "        h = self.conv1(x)\n",
    "        h = self.batch1(h)\n",
    "        h = self.relu1(h)\n",
    "        h = self.pool1(h)\n",
    "        h = self.conv2(h)\n",
    "        h = self.batch2(h)\n",
    "        h = self.relu2(h)\n",
    "        h = self.pool2(h)\n",
    "        h = h.view(h.size(0), -1)\n",
    "        h = self.fc1(h)\n",
    "        return h"
   ]
  },
  {
   "cell_type": "code",
   "execution_count": 27,
   "id": "d8de5396",
   "metadata": {
    "execution": {
     "iopub.execute_input": "2023-09-09T07:58:01.880539Z",
     "iopub.status.busy": "2023-09-09T07:58:01.880035Z",
     "iopub.status.idle": "2023-09-09T08:01:19.079265Z",
     "shell.execute_reply": "2023-09-09T08:01:19.078274Z"
    },
    "papermill": {
     "duration": 197.223062,
     "end_time": "2023-09-09T08:01:19.081815",
     "exception": false,
     "start_time": "2023-09-09T07:58:01.858753",
     "status": "completed"
    },
    "tags": []
   },
   "outputs": [
    {
     "name": "stdout",
     "output_type": "stream",
     "text": [
      "Epoch 1\tTrain Loss: 0.0018\tValidation Loss: 0.0007\tValidation Accuracy: 0.9700\n",
      "Epoch 2\tTrain Loss: 0.0005\tValidation Loss: 0.0005\tValidation Accuracy: 0.9787\n",
      "Epoch 3\tTrain Loss: 0.0003\tValidation Loss: 0.0005\tValidation Accuracy: 0.9783\n",
      "Epoch 4\tTrain Loss: 0.0002\tValidation Loss: 0.0005\tValidation Accuracy: 0.9776\n",
      "Epoch 5\tTrain Loss: 0.0002\tValidation Loss: 0.0005\tValidation Accuracy: 0.9774\n",
      "Epoch 6\tTrain Loss: 0.0002\tValidation Loss: 0.0005\tValidation Accuracy: 0.9781\n",
      "Epoch 7\tTrain Loss: 0.0001\tValidation Loss: 0.0005\tValidation Accuracy: 0.9780\n",
      "Epoch 8\tTrain Loss: 0.0001\tValidation Loss: 0.0005\tValidation Accuracy: 0.9799\n",
      "Epoch 9\tTrain Loss: 0.0001\tValidation Loss: 0.0005\tValidation Accuracy: 0.9824\n",
      "Epoch 10\tTrain Loss: 0.0001\tValidation Loss: 0.0004\tValidation Accuracy: 0.9861\n",
      "Epoch 11\tTrain Loss: 0.0001\tValidation Loss: 0.0004\tValidation Accuracy: 0.9852\n",
      "Epoch 12\tTrain Loss: 0.0000\tValidation Loss: 0.0003\tValidation Accuracy: 0.9876\n",
      "Epoch 13\tTrain Loss: 0.0000\tValidation Loss: 0.0004\tValidation Accuracy: 0.9876\n",
      "Epoch 14\tTrain Loss: 0.0000\tValidation Loss: 0.0004\tValidation Accuracy: 0.9861\n",
      "Epoch 15\tTrain Loss: 0.0000\tValidation Loss: 0.0004\tValidation Accuracy: 0.9870\n",
      "Epoch 16\tTrain Loss: 0.0000\tValidation Loss: 0.0004\tValidation Accuracy: 0.9851\n",
      "Epoch 17\tTrain Loss: 0.0001\tValidation Loss: 0.0005\tValidation Accuracy: 0.9835\n",
      "Epoch 18\tTrain Loss: 0.0001\tValidation Loss: 0.0005\tValidation Accuracy: 0.9842\n",
      "Epoch 19\tTrain Loss: 0.0000\tValidation Loss: 0.0003\tValidation Accuracy: 0.9880\n",
      "Epoch 20\tTrain Loss: 0.0000\tValidation Loss: 0.0005\tValidation Accuracy: 0.9861\n",
      "Epoch 21\tTrain Loss: 0.0000\tValidation Loss: 0.0003\tValidation Accuracy: 0.9879\n",
      "Epoch 22\tTrain Loss: 0.0000\tValidation Loss: 0.0006\tValidation Accuracy: 0.9827\n",
      "Epoch 23\tTrain Loss: 0.0001\tValidation Loss: 0.0008\tValidation Accuracy: 0.9751\n",
      "Epoch 24\tTrain Loss: 0.0000\tValidation Loss: 0.0003\tValidation Accuracy: 0.9883\n",
      "Epoch 25\tTrain Loss: 0.0000\tValidation Loss: 0.0003\tValidation Accuracy: 0.9889\n"
     ]
    }
   ],
   "source": [
    "model_batch_conv = CNN_batch_conv()\n",
    "criterion = nn.CrossEntropyLoss()\n",
    "optimizer = torch.optim.Adam(model_batch_conv.parameters(), lr=1e-3)\n",
    "\n",
    "num_epochs = 25\n",
    "batch_size = 128\n",
    "\n",
    "for epoch in range(num_epochs):\n",
    "    model_batch_conv.train()\n",
    "    train_loss = 0.0\n",
    "    for i in range(0, len(X_train), batch_size):\n",
    "        inputs = X_train[i:i+batch_size].unsqueeze(1)\n",
    "        labels = y_train[i:i+batch_size]\n",
    "        optimizer.zero_grad()\n",
    "        outputs = model_batch_conv(inputs)\n",
    "        loss = criterion(outputs, labels)\n",
    "        loss.backward()\n",
    "        optimizer.step()\n",
    "        train_loss += loss.item()\n",
    "    \n",
    "    model_batch_conv.eval()\n",
    "    val_correct = 0\n",
    "    val_total = 0\n",
    "    val_loss = 0.0\n",
    "    with torch.no_grad():\n",
    "        for i in range(0, len(X_val), batch_size):\n",
    "            inputs = X_val[i:i+batch_size].unsqueeze(1)\n",
    "            labels = y_val[i:i+batch_size]\n",
    "            outputs = model_batch_conv(inputs)\n",
    "            loss = criterion(outputs, labels)\n",
    "            val_loss += loss.item()\n",
    "            _, predicted = torch.max(outputs, 1)\n",
    "            val_total += labels.size(0)\n",
    "            val_correct += (predicted == labels).sum().item()\n",
    "    \n",
    "    print(f\"Epoch {epoch+1}\\tTrain Loss: {(train_loss/len(X_train)):.4f}\\tValidation Loss: {(val_loss/len(X_val)):.4f}\\tValidation Accuracy: {(val_correct/val_total):.4f}\")\n",
    "    \n",
    "\n",
    "predictions = []\n",
    "\n",
    "model_batch_conv.eval()\n",
    "\n",
    "with torch.no_grad():\n",
    "    for i in range(0, len(X_test), batch_size):\n",
    "        batch = X_test[i:i+batch_size].unsqueeze(1)\n",
    "        outputs = model_batch_conv(batch)\n",
    "        _, predicted = torch.max(outputs, 1)\n",
    "        predictions.extend(predicted.numpy())\n",
    "\n",
    "submission_df = pd.DataFrame({\"ImageId\": range(1, len(X_test) + 1), \"Label\": predictions})\n",
    "\n",
    "submission_df.to_csv(\"submission_batch_1.csv\", index=False)\n",
    "\n",
    "# Final score 0.98192 on test set."
   ]
  },
  {
   "cell_type": "markdown",
   "id": "b5f4fc6d",
   "metadata": {
    "papermill": {
     "duration": 0.021846,
     "end_time": "2023-09-09T08:01:19.126551",
     "exception": false,
     "start_time": "2023-09-09T08:01:19.104705",
     "status": "completed"
    },
    "tags": []
   },
   "source": [
    "### Batch normalization + dropout <a id=3.2.2></a>"
   ]
  },
  {
   "cell_type": "code",
   "execution_count": 28,
   "id": "41c2ba7c",
   "metadata": {
    "execution": {
     "iopub.execute_input": "2023-09-09T08:01:19.172546Z",
     "iopub.status.busy": "2023-09-09T08:01:19.171937Z",
     "iopub.status.idle": "2023-09-09T08:01:19.179469Z",
     "shell.execute_reply": "2023-09-09T08:01:19.178810Z"
    },
    "papermill": {
     "duration": 0.032944,
     "end_time": "2023-09-09T08:01:19.181527",
     "exception": false,
     "start_time": "2023-09-09T08:01:19.148583",
     "status": "completed"
    },
    "tags": []
   },
   "outputs": [],
   "source": [
    "class CNN_batch_dropout(nn.Module):\n",
    "    def __init__(self):\n",
    "        super().__init__()\n",
    "        self.conv1 = nn.Conv2d(1, 16, kernel_size=7, padding=1)\n",
    "        self.batch1 = nn.BatchNorm2d(16)\n",
    "        self.relu1 = nn.ReLU()\n",
    "        self.pool1 = nn.MaxPool2d(kernel_size=2, stride=2)\n",
    "        self.conv2 = nn.Conv2d(16, 32, kernel_size=5, padding=1)\n",
    "        self.batch2 = nn.BatchNorm2d(32)\n",
    "        self.relu2 = nn.ReLU()\n",
    "        self.pool2 = nn.MaxPool2d(kernel_size=2, stride=2)\n",
    "        self.fc1 = nn.Linear(32 * 5 * 5, 10)\n",
    "        self.dropout = nn.Dropout(0.5)\n",
    "        \n",
    "    def forward(self, x):\n",
    "        h = self.conv1(x)\n",
    "        h = self.batch1(h)\n",
    "        h = self.relu1(h)\n",
    "        h = self.pool1(h)\n",
    "        h = self.conv2(h)\n",
    "        h = self.batch2(h)\n",
    "        h = self.relu2(h)\n",
    "        h = self.pool2(h)\n",
    "        h = h.view(h.size(0), -1)\n",
    "        h = self.fc1(h)\n",
    "        h = self.dropout(h)\n",
    "        return h"
   ]
  },
  {
   "cell_type": "code",
   "execution_count": 29,
   "id": "aea3e27c",
   "metadata": {
    "execution": {
     "iopub.execute_input": "2023-09-09T08:01:19.231268Z",
     "iopub.status.busy": "2023-09-09T08:01:19.230666Z",
     "iopub.status.idle": "2023-09-09T08:04:40.825027Z",
     "shell.execute_reply": "2023-09-09T08:04:40.824015Z"
    },
    "papermill": {
     "duration": 201.622563,
     "end_time": "2023-09-09T08:04:40.827554",
     "exception": false,
     "start_time": "2023-09-09T08:01:19.204991",
     "status": "completed"
    },
    "tags": []
   },
   "outputs": [
    {
     "name": "stdout",
     "output_type": "stream",
     "text": [
      "Epoch 1\tTrain Loss: 0.0082\tValidation Loss: 0.0011\tValidation Accuracy: 0.9680\n",
      "Epoch 2\tTrain Loss: 0.0072\tValidation Loss: 0.0007\tValidation Accuracy: 0.9782\n",
      "Epoch 3\tTrain Loss: 0.0070\tValidation Loss: 0.0005\tValidation Accuracy: 0.9830\n",
      "Epoch 4\tTrain Loss: 0.0069\tValidation Loss: 0.0005\tValidation Accuracy: 0.9848\n",
      "Epoch 5\tTrain Loss: 0.0069\tValidation Loss: 0.0004\tValidation Accuracy: 0.9857\n",
      "Epoch 6\tTrain Loss: 0.0068\tValidation Loss: 0.0004\tValidation Accuracy: 0.9844\n",
      "Epoch 7\tTrain Loss: 0.0068\tValidation Loss: 0.0003\tValidation Accuracy: 0.9871\n",
      "Epoch 8\tTrain Loss: 0.0068\tValidation Loss: 0.0003\tValidation Accuracy: 0.9880\n",
      "Epoch 9\tTrain Loss: 0.0068\tValidation Loss: 0.0003\tValidation Accuracy: 0.9870\n",
      "Epoch 10\tTrain Loss: 0.0068\tValidation Loss: 0.0003\tValidation Accuracy: 0.9860\n",
      "Epoch 11\tTrain Loss: 0.0067\tValidation Loss: 0.0003\tValidation Accuracy: 0.9877\n",
      "Epoch 12\tTrain Loss: 0.0067\tValidation Loss: 0.0003\tValidation Accuracy: 0.9881\n",
      "Epoch 13\tTrain Loss: 0.0067\tValidation Loss: 0.0002\tValidation Accuracy: 0.9902\n",
      "Epoch 14\tTrain Loss: 0.0067\tValidation Loss: 0.0003\tValidation Accuracy: 0.9854\n",
      "Epoch 15\tTrain Loss: 0.0067\tValidation Loss: 0.0003\tValidation Accuracy: 0.9871\n",
      "Epoch 16\tTrain Loss: 0.0066\tValidation Loss: 0.0003\tValidation Accuracy: 0.9880\n",
      "Epoch 17\tTrain Loss: 0.0066\tValidation Loss: 0.0003\tValidation Accuracy: 0.9861\n",
      "Epoch 18\tTrain Loss: 0.0066\tValidation Loss: 0.0003\tValidation Accuracy: 0.9896\n",
      "Epoch 19\tTrain Loss: 0.0066\tValidation Loss: 0.0002\tValidation Accuracy: 0.9892\n",
      "Epoch 20\tTrain Loss: 0.0066\tValidation Loss: 0.0003\tValidation Accuracy: 0.9899\n",
      "Epoch 21\tTrain Loss: 0.0066\tValidation Loss: 0.0002\tValidation Accuracy: 0.9889\n",
      "Epoch 22\tTrain Loss: 0.0066\tValidation Loss: 0.0002\tValidation Accuracy: 0.9907\n",
      "Epoch 23\tTrain Loss: 0.0066\tValidation Loss: 0.0002\tValidation Accuracy: 0.9900\n",
      "Epoch 24\tTrain Loss: 0.0066\tValidation Loss: 0.0003\tValidation Accuracy: 0.9888\n",
      "Epoch 25\tTrain Loss: 0.0065\tValidation Loss: 0.0002\tValidation Accuracy: 0.9908\n"
     ]
    }
   ],
   "source": [
    "model_batch_drop = CNN_batch_dropout()\n",
    "criterion = nn.CrossEntropyLoss()\n",
    "optimizer = torch.optim.Adam(model_batch_drop.parameters(), lr=1e-3)\n",
    "\n",
    "num_epochs = 25\n",
    "batch_size = 128\n",
    "\n",
    "for epoch in range(num_epochs):\n",
    "    model_batch_drop.train()\n",
    "    train_loss = 0.0\n",
    "    for i in range(0, len(X_train), batch_size):\n",
    "        inputs = X_train[i:i+batch_size].unsqueeze(1)\n",
    "        labels = y_train[i:i+batch_size]\n",
    "        optimizer.zero_grad()\n",
    "        outputs = model_batch_drop(inputs)\n",
    "        loss = criterion(outputs, labels)\n",
    "        loss.backward()\n",
    "        optimizer.step()\n",
    "        train_loss += loss.item()\n",
    "    \n",
    "    model_batch_drop.eval()\n",
    "    val_correct = 0\n",
    "    val_total = 0\n",
    "    val_loss = 0.0\n",
    "    with torch.no_grad():\n",
    "        for i in range(0, len(X_val), batch_size):\n",
    "            inputs = X_val[i:i+batch_size].unsqueeze(1)\n",
    "            labels = y_val[i:i+batch_size]\n",
    "            outputs = model_batch_drop(inputs)\n",
    "            loss = criterion(outputs, labels)\n",
    "            val_loss += loss.item()\n",
    "            _, predicted = torch.max(outputs, 1)\n",
    "            val_total += labels.size(0)\n",
    "            val_correct += (predicted == labels).sum().item()\n",
    "    \n",
    "    print(f\"Epoch {epoch+1}\\tTrain Loss: {(train_loss/len(X_train)):.4f}\\tValidation Loss: {(val_loss/len(X_val)):.4f}\\tValidation Accuracy: {(val_correct/val_total):.4f}\")\n",
    "    \n",
    "\n",
    "predictions = []\n",
    "\n",
    "model_batch_drop.eval()\n",
    "\n",
    "with torch.no_grad():\n",
    "    for i in range(0, len(X_test), batch_size):\n",
    "        batch = X_test[i:i+batch_size].unsqueeze(1)\n",
    "        outputs = model_batch_drop(batch)\n",
    "        _, predicted = torch.max(outputs, 1)\n",
    "        predictions.extend(predicted.numpy())\n",
    "\n",
    "submission_df = pd.DataFrame({\"ImageId\": range(1, len(X_test) + 1), \"Label\": predictions})\n",
    "\n",
    "submission_df.to_csv(\"submission_batch_2.csv\", index=False)\n",
    "\n",
    "# Final score 0.98192 on test set."
   ]
  },
  {
   "cell_type": "markdown",
   "id": "2e34f174",
   "metadata": {
    "papermill": {
     "duration": 0.023769,
     "end_time": "2023-09-09T08:04:40.875547",
     "exception": false,
     "start_time": "2023-09-09T08:04:40.851778",
     "status": "completed"
    },
    "tags": []
   },
   "source": [
    "# Layer normalization <a id=3.3></a>\n",
    "\n",
    "Implementation of layer normalization is a bit different than others. We will add another fc layer first."
   ]
  },
  {
   "cell_type": "code",
   "execution_count": 30,
   "id": "224024da",
   "metadata": {
    "execution": {
     "iopub.execute_input": "2023-09-09T08:04:40.926963Z",
     "iopub.status.busy": "2023-09-09T08:04:40.925858Z",
     "iopub.status.idle": "2023-09-09T08:04:40.935900Z",
     "shell.execute_reply": "2023-09-09T08:04:40.934509Z"
    },
    "papermill": {
     "duration": 0.037872,
     "end_time": "2023-09-09T08:04:40.938312",
     "exception": false,
     "start_time": "2023-09-09T08:04:40.900440",
     "status": "completed"
    },
    "tags": []
   },
   "outputs": [],
   "source": [
    "class CNN_layer_norm(nn.Module):\n",
    "    def __init__(self):\n",
    "        super().__init__()\n",
    "        self.conv1 = nn.Conv2d(1, 16, kernel_size=7, padding=1)\n",
    "        self.relu1 = nn.ReLU()\n",
    "        self.pool1 = nn.MaxPool2d(kernel_size=2, stride=2)\n",
    "        self.conv2 = nn.Conv2d(16, 32, kernel_size=5, padding=1)\n",
    "        self.relu2 = nn.ReLU()\n",
    "        self.pool2 = nn.MaxPool2d(kernel_size=2, stride=2)\n",
    "        self.fc1 = nn.Linear(32 * 5 * 5, 160)\n",
    "        self.layernorm = nn.LayerNorm(160)\n",
    "        self.relu3 = nn.ReLU() \n",
    "        self.fc2 = nn.Linear(160, 10)        \n",
    "        \n",
    "    def forward(self, x):\n",
    "        h = self.conv1(x)\n",
    "        h = self.relu1(h)\n",
    "        h = self.pool1(h)\n",
    "        h = self.conv2(h)\n",
    "        h = self.relu2(h)\n",
    "        h = self.pool2(h)\n",
    "        h = h.view(h.size(0), -1)\n",
    "        h = self.fc1(h)\n",
    "        h = self.layernorm(h)\n",
    "        h = self.relu3(h)\n",
    "        h = self.fc2(h)\n",
    "        return h"
   ]
  },
  {
   "cell_type": "code",
   "execution_count": 31,
   "id": "755d8092",
   "metadata": {
    "execution": {
     "iopub.execute_input": "2023-09-09T08:04:40.987801Z",
     "iopub.status.busy": "2023-09-09T08:04:40.987471Z",
     "iopub.status.idle": "2023-09-09T08:07:45.628824Z",
     "shell.execute_reply": "2023-09-09T08:07:45.627862Z"
    },
    "papermill": {
     "duration": 184.668513,
     "end_time": "2023-09-09T08:07:45.631266",
     "exception": false,
     "start_time": "2023-09-09T08:04:40.962753",
     "status": "completed"
    },
    "tags": []
   },
   "outputs": [
    {
     "name": "stdout",
     "output_type": "stream",
     "text": [
      "Epoch 1\tTrain Loss: 0.0017\tValidation Loss: 0.0005\tValidation Accuracy: 0.9838\n",
      "Epoch 2\tTrain Loss: 0.0004\tValidation Loss: 0.0004\tValidation Accuracy: 0.9863\n",
      "Epoch 3\tTrain Loss: 0.0002\tValidation Loss: 0.0004\tValidation Accuracy: 0.9826\n",
      "Epoch 4\tTrain Loss: 0.0001\tValidation Loss: 0.0004\tValidation Accuracy: 0.9845\n",
      "Epoch 5\tTrain Loss: 0.0001\tValidation Loss: 0.0003\tValidation Accuracy: 0.9874\n",
      "Epoch 6\tTrain Loss: 0.0001\tValidation Loss: 0.0004\tValidation Accuracy: 0.9869\n",
      "Epoch 7\tTrain Loss: 0.0001\tValidation Loss: 0.0004\tValidation Accuracy: 0.9863\n",
      "Epoch 8\tTrain Loss: 0.0001\tValidation Loss: 0.0004\tValidation Accuracy: 0.9836\n",
      "Epoch 9\tTrain Loss: 0.0000\tValidation Loss: 0.0005\tValidation Accuracy: 0.9840\n",
      "Epoch 10\tTrain Loss: 0.0000\tValidation Loss: 0.0004\tValidation Accuracy: 0.9871\n",
      "Epoch 11\tTrain Loss: 0.0000\tValidation Loss: 0.0004\tValidation Accuracy: 0.9888\n",
      "Epoch 12\tTrain Loss: 0.0000\tValidation Loss: 0.0005\tValidation Accuracy: 0.9845\n",
      "Epoch 13\tTrain Loss: 0.0000\tValidation Loss: 0.0004\tValidation Accuracy: 0.9865\n",
      "Epoch 14\tTrain Loss: 0.0000\tValidation Loss: 0.0004\tValidation Accuracy: 0.9881\n",
      "Epoch 15\tTrain Loss: 0.0001\tValidation Loss: 0.0004\tValidation Accuracy: 0.9888\n",
      "Epoch 16\tTrain Loss: 0.0000\tValidation Loss: 0.0004\tValidation Accuracy: 0.9883\n",
      "Epoch 17\tTrain Loss: 0.0000\tValidation Loss: 0.0004\tValidation Accuracy: 0.9881\n",
      "Epoch 18\tTrain Loss: 0.0000\tValidation Loss: 0.0004\tValidation Accuracy: 0.9876\n",
      "Epoch 19\tTrain Loss: 0.0000\tValidation Loss: 0.0004\tValidation Accuracy: 0.9875\n",
      "Epoch 20\tTrain Loss: 0.0000\tValidation Loss: 0.0004\tValidation Accuracy: 0.9879\n",
      "Epoch 21\tTrain Loss: 0.0000\tValidation Loss: 0.0003\tValidation Accuracy: 0.9900\n",
      "Epoch 22\tTrain Loss: 0.0000\tValidation Loss: 0.0004\tValidation Accuracy: 0.9893\n",
      "Epoch 23\tTrain Loss: 0.0000\tValidation Loss: 0.0003\tValidation Accuracy: 0.9906\n",
      "Epoch 24\tTrain Loss: 0.0000\tValidation Loss: 0.0003\tValidation Accuracy: 0.9912\n",
      "Epoch 25\tTrain Loss: 0.0000\tValidation Loss: 0.0003\tValidation Accuracy: 0.9912\n"
     ]
    }
   ],
   "source": [
    "model_layernorm = CNN_layer_norm()\n",
    "criterion = nn.CrossEntropyLoss()\n",
    "optimizer = torch.optim.Adam(model_layernorm.parameters(), lr=1e-3)\n",
    "\n",
    "num_epochs = 25\n",
    "batch_size = 128\n",
    "\n",
    "for epoch in range(num_epochs):\n",
    "    model_layernorm.train()\n",
    "    train_loss = 0.0\n",
    "    for i in range(0, len(X_train), batch_size):\n",
    "        inputs = X_train[i:i+batch_size].unsqueeze(1)\n",
    "        labels = y_train[i:i+batch_size]\n",
    "        optimizer.zero_grad()\n",
    "        outputs = model_layernorm(inputs)\n",
    "        loss = criterion(outputs, labels)\n",
    "        loss.backward()\n",
    "        optimizer.step()\n",
    "        train_loss += loss.item()\n",
    "    \n",
    "    model_layernorm.eval()\n",
    "    val_correct = 0\n",
    "    val_total = 0\n",
    "    val_loss = 0.0\n",
    "    with torch.no_grad():\n",
    "        for i in range(0, len(X_val), batch_size):\n",
    "            inputs = X_val[i:i+batch_size].unsqueeze(1)\n",
    "            labels = y_val[i:i+batch_size]\n",
    "            outputs = model_layernorm(inputs)\n",
    "            loss = criterion(outputs, labels)\n",
    "            val_loss += loss.item()\n",
    "            _, predicted = torch.max(outputs, 1)\n",
    "            val_total += labels.size(0)\n",
    "            val_correct += (predicted == labels).sum().item()\n",
    "    \n",
    "    print(f\"Epoch {epoch+1}\\tTrain Loss: {(train_loss/len(X_train)):.4f}\\tValidation Loss: {(val_loss/len(X_val)):.4f}\\tValidation Accuracy: {(val_correct/val_total):.4f}\")\n",
    "    \n",
    "\n",
    "predictions = []\n",
    "\n",
    "model_layernorm.eval()\n",
    "\n",
    "with torch.no_grad():\n",
    "    for i in range(0, len(X_test), batch_size):\n",
    "        batch = X_test[i:i+batch_size].unsqueeze(1)\n",
    "        outputs = model_layernorm(batch)\n",
    "        _, predicted = torch.max(outputs, 1)\n",
    "        predictions.extend(predicted.numpy())\n",
    "\n",
    "submission_df = pd.DataFrame({\"ImageId\": range(1, len(X_test) + 1), \"Label\": predictions})\n",
    "\n",
    "submission_df.to_csv(\"submission_layer.csv\", index=False)\n",
    "\n",
    "# Final score 0.99028 on test set."
   ]
  },
  {
   "cell_type": "markdown",
   "id": "ee51b6e8",
   "metadata": {
    "papermill": {
     "duration": 0.031309,
     "end_time": "2023-09-09T08:07:45.691439",
     "exception": false,
     "start_time": "2023-09-09T08:07:45.660130",
     "status": "completed"
    },
    "tags": []
   },
   "source": [
    "# Lasso, ridge and elastic regularization <a id=3.4></a>\n",
    "\n",
    "These are fancy way to say L1, L2 and combination of L1 and L2 regularization. We will start with L2 as it is already implemented as a parameter in pytorch."
   ]
  },
  {
   "cell_type": "markdown",
   "id": "70929f92",
   "metadata": {
    "papermill": {
     "duration": 0.025969,
     "end_time": "2023-09-09T08:07:45.745354",
     "exception": false,
     "start_time": "2023-09-09T08:07:45.719385",
     "status": "completed"
    },
    "tags": []
   },
   "source": [
    "### L2 regularization <a id=3.4.1></a>"
   ]
  },
  {
   "cell_type": "code",
   "execution_count": 32,
   "id": "197d8e08",
   "metadata": {
    "execution": {
     "iopub.execute_input": "2023-09-09T08:07:45.802718Z",
     "iopub.status.busy": "2023-09-09T08:07:45.802083Z",
     "iopub.status.idle": "2023-09-09T08:07:45.810165Z",
     "shell.execute_reply": "2023-09-09T08:07:45.808999Z"
    },
    "papermill": {
     "duration": 0.040634,
     "end_time": "2023-09-09T08:07:45.812729",
     "exception": false,
     "start_time": "2023-09-09T08:07:45.772095",
     "status": "completed"
    },
    "tags": []
   },
   "outputs": [],
   "source": [
    "class CNN_l2(nn.Module):\n",
    "    def __init__(self):\n",
    "        super().__init__()\n",
    "        self.conv1 = nn.Conv2d(1, 16, kernel_size=7, padding=1)\n",
    "        self.relu1 = nn.ReLU()\n",
    "        self.pool1 = nn.MaxPool2d(kernel_size=2, stride=2)\n",
    "        self.conv2 = nn.Conv2d(16, 32, kernel_size=5, padding=1)\n",
    "        self.relu2 = nn.ReLU()\n",
    "        self.pool2 = nn.MaxPool2d(kernel_size=2, stride=2)\n",
    "        self.fc1 = nn.Linear(32 * 5 * 5, 160)\n",
    "        self.relu3 = nn.ReLU() \n",
    "        self.fc2 = nn.Linear(160, 10)        \n",
    "        \n",
    "    def forward(self, x):\n",
    "        h = self.conv1(x)\n",
    "        h = self.relu1(h)\n",
    "        h = self.pool1(h)\n",
    "        h = self.conv2(h)\n",
    "        h = self.relu2(h)\n",
    "        h = self.pool2(h)\n",
    "        h = h.view(h.size(0), -1)\n",
    "        h = self.fc1(h)\n",
    "        h = self.relu3(h)\n",
    "        h = self.fc2(h)\n",
    "        return h"
   ]
  },
  {
   "cell_type": "code",
   "execution_count": 33,
   "id": "aa7fcc5b",
   "metadata": {
    "execution": {
     "iopub.execute_input": "2023-09-09T08:07:45.869773Z",
     "iopub.status.busy": "2023-09-09T08:07:45.869102Z",
     "iopub.status.idle": "2023-09-09T08:11:04.477743Z",
     "shell.execute_reply": "2023-09-09T08:11:04.476057Z"
    },
    "papermill": {
     "duration": 198.639736,
     "end_time": "2023-09-09T08:11:04.481094",
     "exception": false,
     "start_time": "2023-09-09T08:07:45.841358",
     "status": "completed"
    },
    "tags": []
   },
   "outputs": [
    {
     "name": "stdout",
     "output_type": "stream",
     "text": [
      "Epoch 1\tTrain Loss: 0.0027\tValidation Loss: 0.0009\tValidation Accuracy: 0.9637\n",
      "Epoch 2\tTrain Loss: 0.0007\tValidation Loss: 0.0006\tValidation Accuracy: 0.9760\n",
      "Epoch 3\tTrain Loss: 0.0005\tValidation Loss: 0.0005\tValidation Accuracy: 0.9817\n",
      "Epoch 4\tTrain Loss: 0.0004\tValidation Loss: 0.0004\tValidation Accuracy: 0.9848\n",
      "Epoch 5\tTrain Loss: 0.0003\tValidation Loss: 0.0004\tValidation Accuracy: 0.9860\n",
      "Epoch 6\tTrain Loss: 0.0003\tValidation Loss: 0.0004\tValidation Accuracy: 0.9858\n",
      "Epoch 7\tTrain Loss: 0.0003\tValidation Loss: 0.0003\tValidation Accuracy: 0.9860\n",
      "Epoch 8\tTrain Loss: 0.0002\tValidation Loss: 0.0003\tValidation Accuracy: 0.9857\n",
      "Epoch 9\tTrain Loss: 0.0002\tValidation Loss: 0.0003\tValidation Accuracy: 0.9862\n",
      "Epoch 10\tTrain Loss: 0.0002\tValidation Loss: 0.0004\tValidation Accuracy: 0.9849\n",
      "Epoch 11\tTrain Loss: 0.0002\tValidation Loss: 0.0003\tValidation Accuracy: 0.9848\n",
      "Epoch 12\tTrain Loss: 0.0002\tValidation Loss: 0.0004\tValidation Accuracy: 0.9851\n",
      "Epoch 13\tTrain Loss: 0.0002\tValidation Loss: 0.0004\tValidation Accuracy: 0.9840\n",
      "Epoch 14\tTrain Loss: 0.0002\tValidation Loss: 0.0003\tValidation Accuracy: 0.9857\n",
      "Epoch 15\tTrain Loss: 0.0002\tValidation Loss: 0.0003\tValidation Accuracy: 0.9865\n",
      "Epoch 16\tTrain Loss: 0.0002\tValidation Loss: 0.0003\tValidation Accuracy: 0.9867\n",
      "Epoch 17\tTrain Loss: 0.0002\tValidation Loss: 0.0003\tValidation Accuracy: 0.9864\n",
      "Epoch 18\tTrain Loss: 0.0001\tValidation Loss: 0.0003\tValidation Accuracy: 0.9860\n",
      "Epoch 19\tTrain Loss: 0.0001\tValidation Loss: 0.0003\tValidation Accuracy: 0.9880\n",
      "Epoch 20\tTrain Loss: 0.0001\tValidation Loss: 0.0003\tValidation Accuracy: 0.9870\n",
      "Epoch 21\tTrain Loss: 0.0002\tValidation Loss: 0.0003\tValidation Accuracy: 0.9858\n",
      "Epoch 22\tTrain Loss: 0.0001\tValidation Loss: 0.0003\tValidation Accuracy: 0.9856\n",
      "Epoch 23\tTrain Loss: 0.0001\tValidation Loss: 0.0004\tValidation Accuracy: 0.9857\n",
      "Epoch 24\tTrain Loss: 0.0001\tValidation Loss: 0.0003\tValidation Accuracy: 0.9862\n",
      "Epoch 25\tTrain Loss: 0.0001\tValidation Loss: 0.0004\tValidation Accuracy: 0.9845\n"
     ]
    }
   ],
   "source": [
    "model_l2 = CNN_l2()\n",
    "criterion = nn.CrossEntropyLoss()\n",
    "optimizer = torch.optim.Adam(model_l2.parameters(), lr=1e-3, weight_decay = 1e-3)\n",
    "\n",
    "num_epochs = 25\n",
    "batch_size = 128\n",
    "\n",
    "for epoch in range(num_epochs):\n",
    "    model_l2.train()\n",
    "    train_loss = 0.0\n",
    "    for i in range(0, len(X_train), batch_size):\n",
    "        inputs = X_train[i:i+batch_size].unsqueeze(1)\n",
    "        labels = y_train[i:i+batch_size]\n",
    "        optimizer.zero_grad()\n",
    "        outputs = model_l2(inputs)\n",
    "        loss = criterion(outputs, labels)\n",
    "        loss.backward()\n",
    "        optimizer.step()\n",
    "        train_loss += loss.item()\n",
    "    \n",
    "    model_l2.eval()\n",
    "    val_correct = 0\n",
    "    val_total = 0\n",
    "    val_loss = 0.0\n",
    "    with torch.no_grad():\n",
    "        for i in range(0, len(X_val), batch_size):\n",
    "            inputs = X_val[i:i+batch_size].unsqueeze(1)\n",
    "            labels = y_val[i:i+batch_size]\n",
    "            outputs = model_l2(inputs)\n",
    "            loss = criterion(outputs, labels)\n",
    "            val_loss += loss.item()\n",
    "            _, predicted = torch.max(outputs, 1)\n",
    "            val_total += labels.size(0)\n",
    "            val_correct += (predicted == labels).sum().item()\n",
    "    \n",
    "    print(f\"Epoch {epoch+1}\\tTrain Loss: {(train_loss/len(X_train)):.4f}\\tValidation Loss: {(val_loss/len(X_val)):.4f}\\tValidation Accuracy: {(val_correct/val_total):.4f}\")\n",
    "    \n",
    "\n",
    "predictions = []\n",
    "\n",
    "model_l2.eval()\n",
    "\n",
    "with torch.no_grad():\n",
    "    for i in range(0, len(X_test), batch_size):\n",
    "        batch = X_test[i:i+batch_size].unsqueeze(1)\n",
    "        outputs = model_l2(batch)\n",
    "        _, predicted = torch.max(outputs, 1)\n",
    "        predictions.extend(predicted.numpy())\n",
    "\n",
    "submission_df = pd.DataFrame({\"ImageId\": range(1, len(X_test) + 1), \"Label\": predictions})\n",
    "\n",
    "submission_df.to_csv(\"submission_l2.csv\", index=False)\n",
    "\n",
    "# Final score 0.98482 on test set."
   ]
  },
  {
   "cell_type": "markdown",
   "id": "fc762499",
   "metadata": {
    "papermill": {
     "duration": 0.028387,
     "end_time": "2023-09-09T08:11:04.539178",
     "exception": false,
     "start_time": "2023-09-09T08:11:04.510791",
     "status": "completed"
    },
    "tags": []
   },
   "source": [
    "### L1 regularization <a id=3.4.2></a>\n",
    "\n",
    "L1 regularization is not implemented in Adam optimizer, therefore we will do it ourselves."
   ]
  },
  {
   "cell_type": "code",
   "execution_count": 34,
   "id": "c4d4afaf",
   "metadata": {
    "execution": {
     "iopub.execute_input": "2023-09-09T08:11:04.601249Z",
     "iopub.status.busy": "2023-09-09T08:11:04.600881Z",
     "iopub.status.idle": "2023-09-09T08:11:04.609889Z",
     "shell.execute_reply": "2023-09-09T08:11:04.608524Z"
    },
    "papermill": {
     "duration": 0.044292,
     "end_time": "2023-09-09T08:11:04.612551",
     "exception": false,
     "start_time": "2023-09-09T08:11:04.568259",
     "status": "completed"
    },
    "tags": []
   },
   "outputs": [],
   "source": [
    "class CNN_l1(nn.Module):\n",
    "    def __init__(self):\n",
    "        super().__init__()\n",
    "        self.conv1 = nn.Conv2d(1, 16, kernel_size=7, padding=1)\n",
    "        self.relu1 = nn.ReLU()\n",
    "        self.pool1 = nn.MaxPool2d(kernel_size=2, stride=2)\n",
    "        self.conv2 = nn.Conv2d(16, 32, kernel_size=5, padding=1)\n",
    "        self.relu2 = nn.ReLU()\n",
    "        self.pool2 = nn.MaxPool2d(kernel_size=2, stride=2)\n",
    "        self.fc1 = nn.Linear(32 * 5 * 5, 160)\n",
    "        self.relu3 = nn.ReLU() \n",
    "        self.fc2 = nn.Linear(160, 10)        \n",
    "        \n",
    "    def forward(self, x):\n",
    "        h = self.conv1(x)\n",
    "        h = self.relu1(h)\n",
    "        h = self.pool1(h)\n",
    "        h = self.conv2(h)\n",
    "        h = self.relu2(h)\n",
    "        h = self.pool2(h)\n",
    "        h = h.view(h.size(0), -1)\n",
    "        h = self.fc1(h)\n",
    "        h = self.relu3(h)\n",
    "        h = self.fc2(h)\n",
    "        return h"
   ]
  },
  {
   "cell_type": "code",
   "execution_count": 35,
   "id": "7b5c7add",
   "metadata": {
    "execution": {
     "iopub.execute_input": "2023-09-09T08:11:04.676682Z",
     "iopub.status.busy": "2023-09-09T08:11:04.676267Z",
     "iopub.status.idle": "2023-09-09T08:14:39.613613Z",
     "shell.execute_reply": "2023-09-09T08:14:39.612435Z"
    },
    "papermill": {
     "duration": 214.971966,
     "end_time": "2023-09-09T08:14:39.616180",
     "exception": false,
     "start_time": "2023-09-09T08:11:04.644214",
     "status": "completed"
    },
    "tags": []
   },
   "outputs": [
    {
     "name": "stdout",
     "output_type": "stream",
     "text": [
      "Epoch 1\tTrain Loss: 0.0044\tValidation Loss: 0.0011\tValidation Accuracy: 0.9595\n",
      "Epoch 2\tTrain Loss: 0.0020\tValidation Loss: 0.0007\tValidation Accuracy: 0.9730\n",
      "Epoch 3\tTrain Loss: 0.0017\tValidation Loss: 0.0006\tValidation Accuracy: 0.9755\n",
      "Epoch 4\tTrain Loss: 0.0015\tValidation Loss: 0.0006\tValidation Accuracy: 0.9739\n",
      "Epoch 5\tTrain Loss: 0.0013\tValidation Loss: 0.0006\tValidation Accuracy: 0.9768\n",
      "Epoch 6\tTrain Loss: 0.0012\tValidation Loss: 0.0005\tValidation Accuracy: 0.9799\n",
      "Epoch 7\tTrain Loss: 0.0011\tValidation Loss: 0.0004\tValidation Accuracy: 0.9833\n",
      "Epoch 8\tTrain Loss: 0.0010\tValidation Loss: 0.0004\tValidation Accuracy: 0.9848\n",
      "Epoch 9\tTrain Loss: 0.0010\tValidation Loss: 0.0004\tValidation Accuracy: 0.9854\n",
      "Epoch 10\tTrain Loss: 0.0009\tValidation Loss: 0.0004\tValidation Accuracy: 0.9856\n",
      "Epoch 11\tTrain Loss: 0.0009\tValidation Loss: 0.0004\tValidation Accuracy: 0.9851\n",
      "Epoch 12\tTrain Loss: 0.0009\tValidation Loss: 0.0004\tValidation Accuracy: 0.9855\n",
      "Epoch 13\tTrain Loss: 0.0008\tValidation Loss: 0.0004\tValidation Accuracy: 0.9851\n",
      "Epoch 14\tTrain Loss: 0.0008\tValidation Loss: 0.0004\tValidation Accuracy: 0.9857\n",
      "Epoch 15\tTrain Loss: 0.0008\tValidation Loss: 0.0004\tValidation Accuracy: 0.9854\n",
      "Epoch 16\tTrain Loss: 0.0007\tValidation Loss: 0.0004\tValidation Accuracy: 0.9857\n",
      "Epoch 17\tTrain Loss: 0.0007\tValidation Loss: 0.0004\tValidation Accuracy: 0.9851\n",
      "Epoch 18\tTrain Loss: 0.0007\tValidation Loss: 0.0004\tValidation Accuracy: 0.9842\n",
      "Epoch 19\tTrain Loss: 0.0007\tValidation Loss: 0.0004\tValidation Accuracy: 0.9836\n",
      "Epoch 20\tTrain Loss: 0.0007\tValidation Loss: 0.0004\tValidation Accuracy: 0.9846\n",
      "Epoch 21\tTrain Loss: 0.0007\tValidation Loss: 0.0004\tValidation Accuracy: 0.9843\n",
      "Epoch 22\tTrain Loss: 0.0007\tValidation Loss: 0.0004\tValidation Accuracy: 0.9838\n",
      "Epoch 23\tTrain Loss: 0.0006\tValidation Loss: 0.0004\tValidation Accuracy: 0.9840\n",
      "Epoch 24\tTrain Loss: 0.0006\tValidation Loss: 0.0004\tValidation Accuracy: 0.9839\n",
      "Epoch 25\tTrain Loss: 0.0006\tValidation Loss: 0.0004\tValidation Accuracy: 0.9831\n"
     ]
    }
   ],
   "source": [
    "l1_lambda = 1e-4\n",
    "\n",
    "model_l1 = CNN_l1()\n",
    "criterion = nn.CrossEntropyLoss()\n",
    "optimizer = torch.optim.Adam(model_l1.parameters(), lr=1e-3)\n",
    "\n",
    "num_epochs = 25\n",
    "batch_size = 128\n",
    "\n",
    "for epoch in range(num_epochs):\n",
    "    model_l1.train()\n",
    "    train_loss = 0.0\n",
    "    for i in range(0, len(X_train), batch_size):\n",
    "        inputs = X_train[i:i+batch_size].unsqueeze(1)\n",
    "        labels = y_train[i:i+batch_size]\n",
    "        optimizer.zero_grad()\n",
    "        outputs = model_l1(inputs)\n",
    "        loss = criterion(outputs, labels)\n",
    "        \n",
    "        l1_reg = 0\n",
    "        for param in model_l1.parameters():\n",
    "            l1_reg += torch.abs(param).sum() \n",
    "\n",
    "        loss += l1_lambda * l1_reg        \n",
    "        \n",
    "        loss.backward()\n",
    "        optimizer.step()\n",
    "        train_loss += loss.item()\n",
    "    \n",
    "    model_l1.eval()\n",
    "    val_correct = 0\n",
    "    val_total = 0\n",
    "    val_loss = 0.0\n",
    "    with torch.no_grad():\n",
    "        for i in range(0, len(X_val), batch_size):\n",
    "            inputs = X_val[i:i+batch_size].unsqueeze(1)\n",
    "            labels = y_val[i:i+batch_size]\n",
    "            outputs = model_l1(inputs)\n",
    "            loss = criterion(outputs, labels)\n",
    "            val_loss += loss.item()\n",
    "            _, predicted = torch.max(outputs, 1)\n",
    "            val_total += labels.size(0)\n",
    "            val_correct += (predicted == labels).sum().item()\n",
    "    \n",
    "    print(f\"Epoch {epoch+1}\\tTrain Loss: {(train_loss/len(X_train)):.4f}\\tValidation Loss: {(val_loss/len(X_val)):.4f}\\tValidation Accuracy: {(val_correct/val_total):.4f}\")\n",
    "    \n",
    "\n",
    "predictions = []\n",
    "\n",
    "model_l1.eval()\n",
    "\n",
    "with torch.no_grad():\n",
    "    for i in range(0, len(X_test), batch_size):\n",
    "        batch = X_test[i:i+batch_size].unsqueeze(1)\n",
    "        outputs = model_l1(batch)\n",
    "        _, predicted = torch.max(outputs, 1)\n",
    "        predictions.extend(predicted.numpy())\n",
    "\n",
    "submission_df = pd.DataFrame({\"ImageId\": range(1, len(X_test) + 1), \"Label\": predictions})\n",
    "\n",
    "submission_df.to_csv(\"submission_l1.csv\", index=False)\n",
    "\n",
    "# Final score 0.97989 on test set."
   ]
  },
  {
   "cell_type": "markdown",
   "id": "0e2cc732",
   "metadata": {
    "papermill": {
     "duration": 0.030943,
     "end_time": "2023-09-09T08:14:39.676894",
     "exception": false,
     "start_time": "2023-09-09T08:14:39.645951",
     "status": "completed"
    },
    "tags": []
   },
   "source": [
    "### Elastic net regularization<a id=3.4.3></a>"
   ]
  },
  {
   "cell_type": "code",
   "execution_count": 36,
   "id": "a9a0ac74",
   "metadata": {
    "execution": {
     "iopub.execute_input": "2023-09-09T08:14:39.738507Z",
     "iopub.status.busy": "2023-09-09T08:14:39.738085Z",
     "iopub.status.idle": "2023-09-09T08:17:58.475771Z",
     "shell.execute_reply": "2023-09-09T08:17:58.473925Z"
    },
    "papermill": {
     "duration": 198.771411,
     "end_time": "2023-09-09T08:17:58.478436",
     "exception": false,
     "start_time": "2023-09-09T08:14:39.707025",
     "status": "completed"
    },
    "tags": []
   },
   "outputs": [
    {
     "name": "stdout",
     "output_type": "stream",
     "text": [
      "Epoch 1\tTrain Loss: 0.0043\tValidation Loss: 0.0011\tValidation Accuracy: 0.9587\n",
      "Epoch 2\tTrain Loss: 0.0019\tValidation Loss: 0.0009\tValidation Accuracy: 0.9676\n",
      "Epoch 3\tTrain Loss: 0.0016\tValidation Loss: 0.0008\tValidation Accuracy: 0.9687\n",
      "Epoch 4\tTrain Loss: 0.0014\tValidation Loss: 0.0008\tValidation Accuracy: 0.9706\n",
      "Epoch 5\tTrain Loss: 0.0013\tValidation Loss: 0.0007\tValidation Accuracy: 0.9708\n",
      "Epoch 6\tTrain Loss: 0.0012\tValidation Loss: 0.0007\tValidation Accuracy: 0.9713\n",
      "Epoch 7\tTrain Loss: 0.0011\tValidation Loss: 0.0007\tValidation Accuracy: 0.9730\n",
      "Epoch 8\tTrain Loss: 0.0010\tValidation Loss: 0.0007\tValidation Accuracy: 0.9740\n",
      "Epoch 9\tTrain Loss: 0.0010\tValidation Loss: 0.0005\tValidation Accuracy: 0.9790\n",
      "Epoch 10\tTrain Loss: 0.0010\tValidation Loss: 0.0005\tValidation Accuracy: 0.9806\n",
      "Epoch 11\tTrain Loss: 0.0009\tValidation Loss: 0.0005\tValidation Accuracy: 0.9826\n",
      "Epoch 12\tTrain Loss: 0.0009\tValidation Loss: 0.0005\tValidation Accuracy: 0.9827\n",
      "Epoch 13\tTrain Loss: 0.0008\tValidation Loss: 0.0004\tValidation Accuracy: 0.9836\n",
      "Epoch 14\tTrain Loss: 0.0008\tValidation Loss: 0.0004\tValidation Accuracy: 0.9838\n",
      "Epoch 15\tTrain Loss: 0.0008\tValidation Loss: 0.0004\tValidation Accuracy: 0.9842\n",
      "Epoch 16\tTrain Loss: 0.0008\tValidation Loss: 0.0004\tValidation Accuracy: 0.9844\n",
      "Epoch 17\tTrain Loss: 0.0007\tValidation Loss: 0.0004\tValidation Accuracy: 0.9846\n",
      "Epoch 18\tTrain Loss: 0.0007\tValidation Loss: 0.0004\tValidation Accuracy: 0.9844\n",
      "Epoch 19\tTrain Loss: 0.0007\tValidation Loss: 0.0004\tValidation Accuracy: 0.9849\n",
      "Epoch 20\tTrain Loss: 0.0007\tValidation Loss: 0.0004\tValidation Accuracy: 0.9849\n",
      "Epoch 21\tTrain Loss: 0.0007\tValidation Loss: 0.0004\tValidation Accuracy: 0.9850\n",
      "Epoch 22\tTrain Loss: 0.0007\tValidation Loss: 0.0004\tValidation Accuracy: 0.9855\n",
      "Epoch 23\tTrain Loss: 0.0006\tValidation Loss: 0.0004\tValidation Accuracy: 0.9854\n",
      "Epoch 24\tTrain Loss: 0.0006\tValidation Loss: 0.0004\tValidation Accuracy: 0.9850\n",
      "Epoch 25\tTrain Loss: 0.0006\tValidation Loss: 0.0004\tValidation Accuracy: 0.9852\n"
     ]
    }
   ],
   "source": [
    "l1_lambda = 1e-4\n",
    "\n",
    "model_l1 = CNN_l1()\n",
    "criterion = nn.CrossEntropyLoss()\n",
    "optimizer = torch.optim.Adam(model_l1.parameters(), lr=1e-3, weight_decay = 1e-3)\n",
    "\n",
    "num_epochs = 25\n",
    "batch_size = 128\n",
    "\n",
    "for epoch in range(num_epochs):\n",
    "    model_l1.train()\n",
    "    train_loss = 0.0\n",
    "    for i in range(0, len(X_train), batch_size):\n",
    "        inputs = X_train[i:i+batch_size].unsqueeze(1)\n",
    "        labels = y_train[i:i+batch_size]\n",
    "        optimizer.zero_grad()\n",
    "        outputs = model_l1(inputs)\n",
    "        loss = criterion(outputs, labels)\n",
    "        \n",
    "        l1_reg = 0\n",
    "        for param in model_l1.parameters():\n",
    "            l1_reg += torch.abs(param).sum() \n",
    "\n",
    "        loss += l1_lambda * l1_reg        \n",
    "        \n",
    "        loss.backward()\n",
    "        optimizer.step()\n",
    "        train_loss += loss.item()\n",
    "    \n",
    "    model_l1.eval()\n",
    "    val_correct = 0\n",
    "    val_total = 0\n",
    "    val_loss = 0.0\n",
    "    with torch.no_grad():\n",
    "        for i in range(0, len(X_val), batch_size):\n",
    "            inputs = X_val[i:i+batch_size].unsqueeze(1)\n",
    "            labels = y_val[i:i+batch_size]\n",
    "            outputs = model_l1(inputs)\n",
    "            loss = criterion(outputs, labels)\n",
    "            val_loss += loss.item()\n",
    "            _, predicted = torch.max(outputs, 1)\n",
    "            val_total += labels.size(0)\n",
    "            val_correct += (predicted == labels).sum().item()\n",
    "    \n",
    "    print(f\"Epoch {epoch+1}\\tTrain Loss: {(train_loss/len(X_train)):.4f}\\tValidation Loss: {(val_loss/len(X_val)):.4f}\\tValidation Accuracy: {(val_correct/val_total):.4f}\")\n",
    "    \n",
    "\n",
    "predictions = []\n",
    "\n",
    "model_l1.eval()\n",
    "\n",
    "with torch.no_grad():\n",
    "    for i in range(0, len(X_test), batch_size):\n",
    "        batch = X_test[i:i+batch_size].unsqueeze(1)\n",
    "        outputs = model_l1(batch)\n",
    "        _, predicted = torch.max(outputs, 1)\n",
    "        predictions.extend(predicted.numpy())\n",
    "\n",
    "submission_df = pd.DataFrame({\"ImageId\": range(1, len(X_test) + 1), \"Label\": predictions})\n",
    "\n",
    "submission_df.to_csv(\"submission_elastic.csv\", index=False)\n",
    "\n",
    "# Final score 0.9825 on test set."
   ]
  },
  {
   "cell_type": "markdown",
   "id": "11283a84",
   "metadata": {
    "papermill": {
     "duration": 0.028858,
     "end_time": "2023-09-09T08:17:58.536581",
     "exception": false,
     "start_time": "2023-09-09T08:17:58.507723",
     "status": "completed"
    },
    "tags": []
   },
   "source": [
    "# Data augmentation <a id=3.5></a>\n",
    "\n",
    "Data augmentation is a well-known and highly effective regularization technique.\n",
    "\n",
    "In this notebook, we will keep it as simple as we can, just using rotation, horizontal flip (no vertical flip for this dataset). You are welcome to try other methods as well."
   ]
  },
  {
   "cell_type": "code",
   "execution_count": 37,
   "id": "4f255465",
   "metadata": {
    "execution": {
     "iopub.execute_input": "2023-09-09T08:17:58.597677Z",
     "iopub.status.busy": "2023-09-09T08:17:58.597078Z",
     "iopub.status.idle": "2023-09-09T08:17:59.066120Z",
     "shell.execute_reply": "2023-09-09T08:17:59.063970Z"
    },
    "papermill": {
     "duration": 0.502596,
     "end_time": "2023-09-09T08:17:59.068477",
     "exception": false,
     "start_time": "2023-09-09T08:17:58.565881",
     "status": "completed"
    },
    "tags": []
   },
   "outputs": [
    {
     "name": "stderr",
     "output_type": "stream",
     "text": [
      "/opt/conda/lib/python3.10/site-packages/torchvision/datapoints/__init__.py:12: UserWarning: The torchvision.datapoints and torchvision.transforms.v2 namespaces are still Beta. While we do not expect major breaking changes, some APIs may still change according to user feedback. Please submit any feedback you may have in this issue: https://github.com/pytorch/vision/issues/6753, and you can also check out https://github.com/pytorch/vision/issues/7319 to learn more about the APIs that we suspect might involve future changes. You can silence this warning by calling torchvision.disable_beta_transforms_warning().\n",
      "  warnings.warn(_BETA_TRANSFORMS_WARNING)\n",
      "/opt/conda/lib/python3.10/site-packages/torchvision/transforms/v2/__init__.py:54: UserWarning: The torchvision.datapoints and torchvision.transforms.v2 namespaces are still Beta. While we do not expect major breaking changes, some APIs may still change according to user feedback. Please submit any feedback you may have in this issue: https://github.com/pytorch/vision/issues/6753, and you can also check out https://github.com/pytorch/vision/issues/7319 to learn more about the APIs that we suspect might involve future changes. You can silence this warning by calling torchvision.disable_beta_transforms_warning().\n",
      "  warnings.warn(_BETA_TRANSFORMS_WARNING)\n"
     ]
    }
   ],
   "source": [
    "from torchvision.transforms import v2"
   ]
  },
  {
   "cell_type": "code",
   "execution_count": 38,
   "id": "21451dfc",
   "metadata": {
    "execution": {
     "iopub.execute_input": "2023-09-09T08:17:59.131168Z",
     "iopub.status.busy": "2023-09-09T08:17:59.130772Z",
     "iopub.status.idle": "2023-09-09T08:17:59.618032Z",
     "shell.execute_reply": "2023-09-09T08:17:59.616681Z"
    },
    "papermill": {
     "duration": 0.520826,
     "end_time": "2023-09-09T08:17:59.620333",
     "exception": false,
     "start_time": "2023-09-09T08:17:59.099507",
     "status": "completed"
    },
    "tags": []
   },
   "outputs": [],
   "source": [
    "transforms = v2.Compose([\n",
    "    v2.RandomRotation(degrees = 20), # Randomly rotates the image in range of (-20, 20) \n",
    "    v2.RandomHorizontalFlip(p = 0.3), # Randomly flips the image horizontally\n",
    "    v2.ToDtype(torch.float32),\n",
    "])\n",
    "\n",
    "X_train_aug = transforms(X_train)"
   ]
  },
  {
   "cell_type": "code",
   "execution_count": 39,
   "id": "f40ba9e8",
   "metadata": {
    "execution": {
     "iopub.execute_input": "2023-09-09T08:17:59.680157Z",
     "iopub.status.busy": "2023-09-09T08:17:59.679824Z",
     "iopub.status.idle": "2023-09-09T08:17:59.687744Z",
     "shell.execute_reply": "2023-09-09T08:17:59.686717Z"
    },
    "papermill": {
     "duration": 0.039927,
     "end_time": "2023-09-09T08:17:59.689496",
     "exception": false,
     "start_time": "2023-09-09T08:17:59.649569",
     "status": "completed"
    },
    "tags": []
   },
   "outputs": [],
   "source": [
    "class CNN_aug(nn.Module):\n",
    "    def __init__(self):\n",
    "        super().__init__()\n",
    "        self.conv1 = nn.Conv2d(1, 16, kernel_size=7, padding=1)\n",
    "        self.relu1 = nn.ReLU()\n",
    "        self.pool1 = nn.MaxPool2d(kernel_size=2, stride=2)\n",
    "        self.conv2 = nn.Conv2d(16, 32, kernel_size=5, padding=1)\n",
    "        self.relu2 = nn.ReLU()\n",
    "        self.pool2 = nn.MaxPool2d(kernel_size=2, stride=2)\n",
    "        self.fc1 = nn.Linear(32 * 5 * 5, 160)\n",
    "        self.relu3 = nn.ReLU() \n",
    "        self.fc2 = nn.Linear(160, 10)        \n",
    "        \n",
    "    def forward(self, x):\n",
    "        h = self.conv1(x)\n",
    "        h = self.relu1(h)\n",
    "        h = self.pool1(h)\n",
    "        h = self.conv2(h)\n",
    "        h = self.relu2(h)\n",
    "        h = self.pool2(h)\n",
    "        h = h.view(h.size(0), -1)\n",
    "        h = self.fc1(h)\n",
    "        h = self.relu3(h)\n",
    "        h = self.fc2(h)\n",
    "        return h"
   ]
  },
  {
   "cell_type": "code",
   "execution_count": 40,
   "id": "a2ffc9de",
   "metadata": {
    "execution": {
     "iopub.execute_input": "2023-09-09T08:17:59.749593Z",
     "iopub.status.busy": "2023-09-09T08:17:59.749232Z",
     "iopub.status.idle": "2023-09-09T08:23:50.593993Z",
     "shell.execute_reply": "2023-09-09T08:23:50.591954Z"
    },
    "papermill": {
     "duration": 350.878309,
     "end_time": "2023-09-09T08:23:50.597216",
     "exception": false,
     "start_time": "2023-09-09T08:17:59.718907",
     "status": "completed"
    },
    "tags": []
   },
   "outputs": [
    {
     "name": "stdout",
     "output_type": "stream",
     "text": [
      "Epoch 1\tTrain Loss: 0.0055\tValidation Loss: 0.0009\tValidation Accuracy: 0.9649\n",
      "Epoch 2\tTrain Loss: 0.0014\tValidation Loss: 0.0006\tValidation Accuracy: 0.9743\n",
      "Epoch 3\tTrain Loss: 0.0009\tValidation Loss: 0.0005\tValidation Accuracy: 0.9787\n",
      "Epoch 4\tTrain Loss: 0.0007\tValidation Loss: 0.0004\tValidation Accuracy: 0.9833\n",
      "Epoch 5\tTrain Loss: 0.0006\tValidation Loss: 0.0004\tValidation Accuracy: 0.9854\n",
      "Epoch 6\tTrain Loss: 0.0005\tValidation Loss: 0.0004\tValidation Accuracy: 0.9861\n",
      "Epoch 7\tTrain Loss: 0.0004\tValidation Loss: 0.0004\tValidation Accuracy: 0.9857\n",
      "Epoch 8\tTrain Loss: 0.0003\tValidation Loss: 0.0004\tValidation Accuracy: 0.9845\n",
      "Epoch 9\tTrain Loss: 0.0003\tValidation Loss: 0.0004\tValidation Accuracy: 0.9844\n",
      "Epoch 10\tTrain Loss: 0.0002\tValidation Loss: 0.0006\tValidation Accuracy: 0.9794\n",
      "Epoch 11\tTrain Loss: 0.0002\tValidation Loss: 0.0005\tValidation Accuracy: 0.9820\n",
      "Epoch 12\tTrain Loss: 0.0002\tValidation Loss: 0.0005\tValidation Accuracy: 0.9827\n",
      "Epoch 13\tTrain Loss: 0.0002\tValidation Loss: 0.0005\tValidation Accuracy: 0.9840\n",
      "Epoch 14\tTrain Loss: 0.0002\tValidation Loss: 0.0004\tValidation Accuracy: 0.9867\n",
      "Epoch 15\tTrain Loss: 0.0002\tValidation Loss: 0.0004\tValidation Accuracy: 0.9865\n",
      "Epoch 16\tTrain Loss: 0.0001\tValidation Loss: 0.0004\tValidation Accuracy: 0.9877\n",
      "Epoch 17\tTrain Loss: 0.0001\tValidation Loss: 0.0004\tValidation Accuracy: 0.9881\n",
      "Epoch 18\tTrain Loss: 0.0001\tValidation Loss: 0.0004\tValidation Accuracy: 0.9885\n",
      "Epoch 19\tTrain Loss: 0.0001\tValidation Loss: 0.0004\tValidation Accuracy: 0.9886\n",
      "Epoch 20\tTrain Loss: 0.0001\tValidation Loss: 0.0005\tValidation Accuracy: 0.9855\n",
      "Epoch 21\tTrain Loss: 0.0001\tValidation Loss: 0.0004\tValidation Accuracy: 0.9876\n",
      "Epoch 22\tTrain Loss: 0.0001\tValidation Loss: 0.0004\tValidation Accuracy: 0.9886\n",
      "Epoch 23\tTrain Loss: 0.0001\tValidation Loss: 0.0005\tValidation Accuracy: 0.9874\n",
      "Epoch 24\tTrain Loss: 0.0001\tValidation Loss: 0.0004\tValidation Accuracy: 0.9882\n",
      "Epoch 25\tTrain Loss: 0.0000\tValidation Loss: 0.0004\tValidation Accuracy: 0.9887\n"
     ]
    }
   ],
   "source": [
    "model_aug = CNN_aug()\n",
    "criterion = nn.CrossEntropyLoss()\n",
    "optimizer = torch.optim.Adam(model_aug.parameters(), lr=1e-3)\n",
    "\n",
    "num_epochs = 25\n",
    "batch_size = 128\n",
    "\n",
    "for epoch in range(num_epochs):\n",
    "    model_aug.train()\n",
    "    train_loss = 0.0\n",
    "    for i in range(0, len(X_train), batch_size):\n",
    "        inputs_orig = X_train[i:i+batch_size].unsqueeze(1)\n",
    "        inputs_aug = X_train_aug[i:i+batch_size].unsqueeze(1)\n",
    "        labels = y_train[i:i+batch_size]\n",
    "        optimizer.zero_grad()\n",
    "        outputs_orig = model_aug(inputs_orig)        \n",
    "        outputs_aug = model_aug(inputs_aug)\n",
    "        loss = criterion(outputs_orig, labels) + criterion(outputs_aug, labels)\n",
    "        loss.backward()\n",
    "        optimizer.step()\n",
    "        train_loss += loss.item()\n",
    "    \n",
    "    model_aug.eval()\n",
    "    val_correct = 0\n",
    "    val_total = 0\n",
    "    val_loss = 0.0\n",
    "    with torch.no_grad():\n",
    "        for i in range(0, len(X_val), batch_size):\n",
    "            inputs = X_val[i:i+batch_size].unsqueeze(1)\n",
    "            labels = y_val[i:i+batch_size]\n",
    "            outputs = model_aug(inputs)\n",
    "            loss = criterion(outputs, labels)\n",
    "            val_loss += loss.item()\n",
    "            _, predicted = torch.max(outputs, 1)\n",
    "            val_total += labels.size(0)\n",
    "            val_correct += (predicted == labels).sum().item()\n",
    "    \n",
    "    print(f\"Epoch {epoch+1}\\tTrain Loss: {(train_loss/len(X_train)):.4f}\\tValidation Loss: {(val_loss/len(X_val)):.4f}\\tValidation Accuracy: {(val_correct/val_total):.4f}\")\n",
    "    \n",
    "\n",
    "predictions = []\n",
    "\n",
    "model_aug.eval()\n",
    "\n",
    "with torch.no_grad():\n",
    "    for i in range(0, len(X_test), batch_size):\n",
    "        batch = X_test[i:i+batch_size].unsqueeze(1)\n",
    "        outputs = model_aug(batch)\n",
    "        _, predicted = torch.max(outputs, 1)\n",
    "        predictions.extend(predicted.numpy())\n",
    "\n",
    "submission_df = pd.DataFrame({\"ImageId\": range(1, len(X_test) + 1), \"Label\": predictions})\n",
    "\n",
    "submission_df.to_csv(\"submission_aug.csv\", index=False)\n",
    "\n",
    "# Final score 0.97932 on test set, this technique requires a little bit more training."
   ]
  },
  {
   "cell_type": "markdown",
   "id": "92c76cb8",
   "metadata": {
    "papermill": {
     "duration": 0.031196,
     "end_time": "2023-09-09T08:23:50.661243",
     "exception": false,
     "start_time": "2023-09-09T08:23:50.630047",
     "status": "completed"
    },
    "tags": []
   },
   "source": [
    "# Final architecture <a id=4></a>\n",
    "\n",
    "We examined a lot of regularization techniques all of them increased our accuracy on test set (some required longer trains), some of them in small amount while others enchanced base architecture quite well.\n",
    "\n",
    "Are we gonna use all of them in the final architecture? No.\n",
    "\n",
    "Some techniques are better suited for CNN architecture, such as batch normalization is widely used for CNNs and layer normalization is proposed for RNN type of deep models.\n",
    "\n",
    "Also, we will skip L1, L2 and elastic regularizations in the final implementation. I am afraid to say this, they are certainly strong methods, but kind of outdated :(.\n",
    "\n",
    "We will also tune the data augmentation a little bit down. And increase number of epochs to 40."
   ]
  },
  {
   "cell_type": "code",
   "execution_count": 41,
   "id": "b3f8ec9f",
   "metadata": {
    "execution": {
     "iopub.execute_input": "2023-09-09T08:23:50.725170Z",
     "iopub.status.busy": "2023-09-09T08:23:50.724788Z",
     "iopub.status.idle": "2023-09-09T08:23:50.980609Z",
     "shell.execute_reply": "2023-09-09T08:23:50.979813Z"
    },
    "papermill": {
     "duration": 0.290967,
     "end_time": "2023-09-09T08:23:50.983148",
     "exception": false,
     "start_time": "2023-09-09T08:23:50.692181",
     "status": "completed"
    },
    "tags": []
   },
   "outputs": [],
   "source": [
    "transforms = v2.Compose([\n",
    "    v2.RandomRotation(degrees = 15), # Randomly rotates the image in range of (-15, 15) \n",
    "    v2.RandomHorizontalFlip(p = 0.25), # Randomly flips the image horizontally\n",
    "    v2.ToDtype(torch.float32),\n",
    "])\n",
    "\n",
    "X_train_aug = transforms(X_train)"
   ]
  },
  {
   "cell_type": "code",
   "execution_count": 42,
   "id": "68ab7a23",
   "metadata": {
    "execution": {
     "iopub.execute_input": "2023-09-09T08:23:51.054539Z",
     "iopub.status.busy": "2023-09-09T08:23:51.053616Z",
     "iopub.status.idle": "2023-09-09T08:23:51.063528Z",
     "shell.execute_reply": "2023-09-09T08:23:51.062327Z"
    },
    "papermill": {
     "duration": 0.050164,
     "end_time": "2023-09-09T08:23:51.066136",
     "exception": false,
     "start_time": "2023-09-09T08:23:51.015972",
     "status": "completed"
    },
    "tags": []
   },
   "outputs": [],
   "source": [
    "class CNN_final(nn.Module):\n",
    "    def __init__(self):\n",
    "        super().__init__()\n",
    "        self.conv1 = nn.Conv2d(1, 16, kernel_size=7, padding=1)\n",
    "        self.batch1 = nn.BatchNorm2d(16)\n",
    "        self.relu1 = nn.ReLU()\n",
    "        self.dropout1 = nn.Dropout2d(0.1)\n",
    "        self.pool1 = nn.MaxPool2d(kernel_size=2, stride=2)\n",
    "        self.conv2 = nn.Conv2d(16, 32, kernel_size=5, padding=1)\n",
    "        self.batch2 = nn.BatchNorm2d(32)\n",
    "        self.relu2 = nn.ReLU()\n",
    "        self.dropout2 = nn.Dropout2d(0.1)\n",
    "        self.pool2 = nn.MaxPool2d(kernel_size=2, stride=2)\n",
    "        self.fc1 = nn.Linear(32 * 5 * 5, 32 * 5)\n",
    "        self.dropout3 = nn.Dropout(0.25)\n",
    "        self.relu3 = nn.ReLU() \n",
    "        self.fc2 = nn.Linear(32 * 5, 10)        \n",
    "        \n",
    "    def forward(self, x):\n",
    "        h = self.conv1(x)\n",
    "        h = self.batch1(h)\n",
    "        h = self.relu1(h)\n",
    "        h = self.dropout1(h)\n",
    "        h = self.pool1(h)\n",
    "        h = self.conv2(h)\n",
    "        h = self.batch2(h)\n",
    "        h = self.relu2(h)\n",
    "        h = self.pool2(h)\n",
    "        h = self.dropout2(h)\n",
    "        h = h.view(h.size(0), -1)\n",
    "        h = self.fc1(h)\n",
    "        h = self.dropout3(h)\n",
    "        h = self.relu3(h)\n",
    "        h = self.fc2(h)\n",
    "        return h"
   ]
  },
  {
   "cell_type": "code",
   "execution_count": 43,
   "id": "cf47b6d9",
   "metadata": {
    "execution": {
     "iopub.execute_input": "2023-09-09T08:23:51.137646Z",
     "iopub.status.busy": "2023-09-09T08:23:51.137168Z",
     "iopub.status.idle": "2023-09-09T08:35:13.582384Z",
     "shell.execute_reply": "2023-09-09T08:35:13.580776Z"
    },
    "papermill": {
     "duration": 682.485988,
     "end_time": "2023-09-09T08:35:13.584854",
     "exception": false,
     "start_time": "2023-09-09T08:23:51.098866",
     "status": "completed"
    },
    "tags": []
   },
   "outputs": [
    {
     "name": "stdout",
     "output_type": "stream",
     "text": [
      "Epoch 1\tTrain Loss: 0.0040\tValidation Loss: 0.0006\tValidation Accuracy: 0.9758\n",
      "Epoch 2\tTrain Loss: 0.0012\tValidation Loss: 0.0004\tValidation Accuracy: 0.9836\n",
      "Epoch 3\tTrain Loss: 0.0009\tValidation Loss: 0.0003\tValidation Accuracy: 0.9873\n",
      "Epoch 4\tTrain Loss: 0.0007\tValidation Loss: 0.0003\tValidation Accuracy: 0.9873\n",
      "Epoch 5\tTrain Loss: 0.0006\tValidation Loss: 0.0003\tValidation Accuracy: 0.9882\n",
      "Epoch 6\tTrain Loss: 0.0005\tValidation Loss: 0.0003\tValidation Accuracy: 0.9907\n",
      "Epoch 7\tTrain Loss: 0.0004\tValidation Loss: 0.0003\tValidation Accuracy: 0.9880\n",
      "Epoch 8\tTrain Loss: 0.0004\tValidation Loss: 0.0003\tValidation Accuracy: 0.9887\n",
      "Epoch 9\tTrain Loss: 0.0003\tValidation Loss: 0.0003\tValidation Accuracy: 0.9894\n",
      "Epoch 10\tTrain Loss: 0.0003\tValidation Loss: 0.0003\tValidation Accuracy: 0.9898\n",
      "Epoch 11\tTrain Loss: 0.0003\tValidation Loss: 0.0002\tValidation Accuracy: 0.9919\n",
      "Epoch 12\tTrain Loss: 0.0002\tValidation Loss: 0.0003\tValidation Accuracy: 0.9889\n",
      "Epoch 13\tTrain Loss: 0.0003\tValidation Loss: 0.0003\tValidation Accuracy: 0.9900\n",
      "Epoch 14\tTrain Loss: 0.0002\tValidation Loss: 0.0003\tValidation Accuracy: 0.9902\n",
      "Epoch 15\tTrain Loss: 0.0002\tValidation Loss: 0.0003\tValidation Accuracy: 0.9902\n",
      "Epoch 16\tTrain Loss: 0.0002\tValidation Loss: 0.0003\tValidation Accuracy: 0.9899\n",
      "Epoch 17\tTrain Loss: 0.0002\tValidation Loss: 0.0003\tValidation Accuracy: 0.9886\n",
      "Epoch 18\tTrain Loss: 0.0002\tValidation Loss: 0.0003\tValidation Accuracy: 0.9892\n",
      "Epoch 19\tTrain Loss: 0.0001\tValidation Loss: 0.0003\tValidation Accuracy: 0.9912\n",
      "Epoch 20\tTrain Loss: 0.0001\tValidation Loss: 0.0003\tValidation Accuracy: 0.9914\n",
      "Epoch 21\tTrain Loss: 0.0001\tValidation Loss: 0.0003\tValidation Accuracy: 0.9913\n",
      "Epoch 22\tTrain Loss: 0.0002\tValidation Loss: 0.0003\tValidation Accuracy: 0.9911\n",
      "Epoch 23\tTrain Loss: 0.0001\tValidation Loss: 0.0003\tValidation Accuracy: 0.9917\n",
      "Epoch 24\tTrain Loss: 0.0001\tValidation Loss: 0.0003\tValidation Accuracy: 0.9918\n",
      "Epoch 25\tTrain Loss: 0.0001\tValidation Loss: 0.0003\tValidation Accuracy: 0.9918\n",
      "Epoch 26\tTrain Loss: 0.0001\tValidation Loss: 0.0003\tValidation Accuracy: 0.9911\n",
      "Epoch 27\tTrain Loss: 0.0001\tValidation Loss: 0.0003\tValidation Accuracy: 0.9906\n",
      "Epoch 28\tTrain Loss: 0.0001\tValidation Loss: 0.0003\tValidation Accuracy: 0.9920\n",
      "Epoch 29\tTrain Loss: 0.0001\tValidation Loss: 0.0003\tValidation Accuracy: 0.9917\n",
      "Epoch 30\tTrain Loss: 0.0001\tValidation Loss: 0.0003\tValidation Accuracy: 0.9920\n",
      "Epoch 31\tTrain Loss: 0.0001\tValidation Loss: 0.0002\tValidation Accuracy: 0.9923\n",
      "Epoch 32\tTrain Loss: 0.0001\tValidation Loss: 0.0003\tValidation Accuracy: 0.9907\n",
      "Epoch 33\tTrain Loss: 0.0001\tValidation Loss: 0.0003\tValidation Accuracy: 0.9910\n",
      "Epoch 34\tTrain Loss: 0.0001\tValidation Loss: 0.0003\tValidation Accuracy: 0.9908\n",
      "Epoch 35\tTrain Loss: 0.0001\tValidation Loss: 0.0003\tValidation Accuracy: 0.9919\n",
      "Epoch 36\tTrain Loss: 0.0001\tValidation Loss: 0.0003\tValidation Accuracy: 0.9919\n",
      "Epoch 37\tTrain Loss: 0.0001\tValidation Loss: 0.0003\tValidation Accuracy: 0.9908\n",
      "Epoch 38\tTrain Loss: 0.0000\tValidation Loss: 0.0003\tValidation Accuracy: 0.9914\n",
      "Epoch 39\tTrain Loss: 0.0001\tValidation Loss: 0.0003\tValidation Accuracy: 0.9908\n",
      "Epoch 40\tTrain Loss: 0.0001\tValidation Loss: 0.0003\tValidation Accuracy: 0.9918\n"
     ]
    }
   ],
   "source": [
    "model_final = CNN_final()\n",
    "criterion = nn.CrossEntropyLoss()\n",
    "optimizer = torch.optim.Adam(model_final.parameters(), lr=1e-3)\n",
    "\n",
    "num_epochs = 40\n",
    "batch_size = 128\n",
    "\n",
    "for epoch in range(num_epochs):\n",
    "    model_final.train()\n",
    "    train_loss = 0.0\n",
    "    for i in range(0, len(X_train), batch_size):\n",
    "        inputs_orig = X_train[i:i+batch_size].unsqueeze(1)\n",
    "        inputs_aug = X_train_aug[i:i+batch_size].unsqueeze(1)\n",
    "        labels = y_train[i:i+batch_size]\n",
    "        optimizer.zero_grad()\n",
    "        outputs_orig = model_final(inputs_orig)        \n",
    "        outputs_aug = model_final(inputs_aug)\n",
    "        loss = criterion(outputs_orig, labels) + criterion(outputs_aug, labels)\n",
    "        loss.backward()\n",
    "        optimizer.step()\n",
    "        train_loss += loss.item()\n",
    "    \n",
    "    model_final.eval()\n",
    "    val_correct = 0\n",
    "    val_total = 0\n",
    "    val_loss = 0.0\n",
    "    with torch.no_grad():\n",
    "        for i in range(0, len(X_val), batch_size):\n",
    "            inputs = X_val[i:i+batch_size].unsqueeze(1)\n",
    "            labels = y_val[i:i+batch_size]\n",
    "            outputs = model_final(inputs)\n",
    "            loss = criterion(outputs, labels)\n",
    "            val_loss += loss.item()\n",
    "            _, predicted = torch.max(outputs, 1)\n",
    "            val_total += labels.size(0)\n",
    "            val_correct += (predicted == labels).sum().item()\n",
    "    \n",
    "    print(f\"Epoch {epoch+1}\\tTrain Loss: {(train_loss/len(X_train)):.4f}\\tValidation Loss: {(val_loss/len(X_val)):.4f}\\tValidation Accuracy: {(val_correct/val_total):.4f}\")\n",
    "    \n",
    "\n",
    "predictions = []\n",
    "\n",
    "model_final.eval()\n",
    "\n",
    "with torch.no_grad():\n",
    "    for i in range(0, len(X_test), batch_size):\n",
    "        batch = X_test[i:i+batch_size].unsqueeze(1)\n",
    "        outputs = model_final(batch)\n",
    "        _, predicted = torch.max(outputs, 1)\n",
    "        predictions.extend(predicted.numpy())\n",
    "\n",
    "submission_df = pd.DataFrame({\"ImageId\": range(1, len(X_test) + 1), \"Label\": predictions})\n",
    "\n",
    "submission_df.to_csv(\"submission_final.csv\", index=False)"
   ]
  },
  {
   "cell_type": "markdown",
   "id": "fefe33b1",
   "metadata": {
    "papermill": {
     "duration": 0.03526,
     "end_time": "2023-09-09T08:35:13.655553",
     "exception": false,
     "start_time": "2023-09-09T08:35:13.620293",
     "status": "completed"
    },
    "tags": []
   },
   "source": [
    "## Final submission score: 0.99114\n",
    "\n",
    "##### I appreciate any feedback. Please let me know if anything is missing or if you would like to add anything. I hope you enjoy this notebook.\n",
    "\n",
    "##### Links: [GitHub](https://github.com/ahmetTuzen/) and [LinkedIn](https://www.linkedin.com/in/ahmet-tuzen/)"
   ]
  }
 ],
 "kernelspec": {
  "display_name": "Python 3",
  "language": "python",
  "name": "python3"
 },
 "language_info": {
  "codemirror_mode": {
   "name": "ipython",
   "version": 3
  },
  "file_extension": ".py",
  "mimetype": "text/x-python",
  "name": "python",
  "nbconvert_exporter": "python",
  "pygments_lexer": "ipython3",
  "version": "3.6.4"
 },
 "metadata": {
  "kernelspec": {
   "display_name": "Python 3",
   "language": "python",
   "name": "python3"
  },
  "language_info": {
   "codemirror_mode": {
    "name": "ipython",
    "version": 3
   },
   "file_extension": ".py",
   "mimetype": "text/x-python",
   "name": "python",
   "nbconvert_exporter": "python",
   "pygments_lexer": "ipython3",
   "version": "3.10.12"
  },
  "papermill": {
   "default_parameters": {},
   "duration": 2960.592551,
   "end_time": "2023-09-09T08:35:15.231511",
   "environment_variables": {},
   "exception": null,
   "input_path": "__notebook__.ipynb",
   "output_path": "__notebook__.ipynb",
   "parameters": {},
   "start_time": "2023-09-09T07:45:54.638960",
   "version": "2.4.0"
  }
 },
 "nbformat": 4,
 "nbformat_minor": 5
}
